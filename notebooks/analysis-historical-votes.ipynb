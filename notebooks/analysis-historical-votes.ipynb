{
 "cells": [
  {
   "cell_type": "code",
   "execution_count": 202,
   "metadata": {},
   "outputs": [],
   "source": [
    "import os\n",
    "import pandas as pd\n",
    "import numpy as np\n",
    "import requests\n",
    "\n",
    "import pickle\n",
    "\n",
    "import altair as alt\n",
    "import seaborn as sns\n",
    "import matplotlib.pyplot as plt\n",
    "%matplotlib inline "
   ]
  },
  {
   "cell_type": "code",
   "execution_count": 261,
   "metadata": {},
   "outputs": [],
   "source": [
    "ALL_LAWS_PATH = '../data/all-votes/laws_20years.csv'\n",
    "ALL_ADJACENCY_PATH = '../data/all-votes/all_adjacency.pickle'\n",
    "pal = {'republican': '#ff0000', 'democrats': '#0000ff'}\n",
    "seaborn.set(context='notebook', style='darkgrid', palette='deep', font='sans-serif', font_scale=2, color_codes=True, rc=None)"
   ]
  },
  {
   "cell_type": "code",
   "execution_count": 5,
   "metadata": {},
   "outputs": [],
   "source": [
    "all_laws = pd.read_csv(ALL_LAWS_PATH)\n",
    "# with open(ALL_ADJACENCY_PATH, 'rb') as handle:\n",
    "#     all_adjacency = pickle.load(handle)"
   ]
  },
  {
   "cell_type": "code",
   "execution_count": 8,
   "metadata": {},
   "outputs": [
    {
     "name": "stdout",
     "output_type": "stream",
     "text": [
      "(6834, 16)\n",
      "6834\n"
     ]
    }
   ],
   "source": [
    "print(all_laws.shape)\n",
    "print(len(all_adjacency))"
   ]
  },
  {
   "cell_type": "code",
   "execution_count": 23,
   "metadata": {},
   "outputs": [],
   "source": [
    "LOOKUP_RESULT = {\n",
    "    'Agreed to': 'passed', 'Rejected': 'rejected', 'Nomination Confirmed': 'passed',\n",
    "    'Cloture Motion Agreed to': 'passed', 'Amendment Rejected': 'rejected', 'Confirmed': 'passed',\n",
    "    'Passed': 'passed', 'Amendment Agreed to': 'passed', 'Motion Rejected': 'rejected',\n",
    "    'Motion Agreed to': 'passed', 'Bill Passed': 'passed', 'Motion to Table Agreed to': 'passed',\n",
    "    'Cloture Motion Rejected': 'rejected', 'Motion to Proceed Agreed to': 'passed',\n",
    "    'Cloture on the Motion to Proceed Agreed to': 'passed', 'Cloture on the Motion to Proceed Rejected': 'rejected'\n",
    "}"
   ]
  },
  {
   "cell_type": "code",
   "execution_count": 47,
   "metadata": {},
   "outputs": [],
   "source": [
    "all_laws['result_ok'] = all_laws.result.apply(lambda x: LOOKUP_RESULT.get(x, 'undefinied'))\n",
    "all_laws['quarter'] = all_laws['year'].apply(str) + '-' + pd.to_datetime(all_laws.date).dt.quarter.apply(str) "
   ]
  },
  {
   "cell_type": "code",
   "execution_count": 48,
   "metadata": {},
   "outputs": [
    {
     "data": {
      "text/html": [
       "<div>\n",
       "<style scoped>\n",
       "    .dataframe tbody tr th:only-of-type {\n",
       "        vertical-align: middle;\n",
       "    }\n",
       "\n",
       "    .dataframe tbody tr th {\n",
       "        vertical-align: top;\n",
       "    }\n",
       "\n",
       "    .dataframe thead th {\n",
       "        text-align: right;\n",
       "    }\n",
       "</style>\n",
       "<table border=\"1\" class=\"dataframe\">\n",
       "  <thead>\n",
       "    <tr style=\"text-align: right;\">\n",
       "      <th></th>\n",
       "      <th>result_ok</th>\n",
       "    </tr>\n",
       "  </thead>\n",
       "  <tbody>\n",
       "    <tr>\n",
       "      <th>passed</th>\n",
       "      <td>4293</td>\n",
       "    </tr>\n",
       "    <tr>\n",
       "      <th>rejected</th>\n",
       "      <td>2314</td>\n",
       "    </tr>\n",
       "  </tbody>\n",
       "</table>\n",
       "</div>"
      ],
      "text/plain": [
       "          result_ok\n",
       "passed         4293\n",
       "rejected       2314"
      ]
     },
     "execution_count": 48,
     "metadata": {},
     "output_type": "execute_result"
    }
   ],
   "source": [
    "pd.DataFrame(all_laws.result_ok.value_counts())"
   ]
  },
  {
   "cell_type": "code",
   "execution_count": 49,
   "metadata": {},
   "outputs": [
    {
     "data": {
      "text/plain": [
       "(6607, 18)"
      ]
     },
     "execution_count": 49,
     "metadata": {},
     "output_type": "execute_result"
    }
   ],
   "source": [
    "all_laws = all_laws[all_laws.result_ok != 'undefinied']\n",
    "all_laws.shape"
   ]
  },
  {
   "cell_type": "markdown",
   "metadata": {},
   "source": [
    "## Historical Passed over Rejected"
   ]
  },
  {
   "cell_type": "code",
   "execution_count": 149,
   "metadata": {},
   "outputs": [
    {
     "data": {
      "application/vnd.vegalite.v2+json": {
       "$schema": "https://vega.github.io/schema/vega-lite/v2.6.0.json",
       "config": {
        "view": {
         "height": 300,
         "width": 400
        }
       },
       "data": {
        "name": "data-cbbfc206df626301d3b822dbd48f10be"
       },
       "datasets": {
        "data-cbbfc206df626301d3b822dbd48f10be": [
         {
          "count": 32,
          "quarter": "1997-01-01T00:00:00",
          "result_ok": "passed"
         },
         {
          "count": 3,
          "quarter": "1997-01-01T00:00:00",
          "result_ok": "rejected"
         },
         {
          "count": 79,
          "quarter": "1997-02-01T00:00:00",
          "result_ok": "passed"
         },
         {
          "count": 46,
          "quarter": "1997-02-01T00:00:00",
          "result_ok": "rejected"
         },
         {
          "count": 70,
          "quarter": "1997-03-01T00:00:00",
          "result_ok": "passed"
         },
         {
          "count": 32,
          "quarter": "1997-03-01T00:00:00",
          "result_ok": "rejected"
         },
         {
          "count": 23,
          "quarter": "1997-04-01T00:00:00",
          "result_ok": "passed"
         },
         {
          "count": 12,
          "quarter": "1997-04-01T00:00:00",
          "result_ok": "rejected"
         },
         {
          "count": 36,
          "quarter": "1998-01-01T00:00:00",
          "result_ok": "passed"
         },
         {
          "count": 15,
          "quarter": "1998-01-01T00:00:00",
          "result_ok": "rejected"
         },
         {
          "count": 79,
          "quarter": "1998-02-01T00:00:00",
          "result_ok": "passed"
         },
         {
          "count": 52,
          "quarter": "1998-02-01T00:00:00",
          "result_ok": "rejected"
         },
         {
          "count": 73,
          "quarter": "1998-03-01T00:00:00",
          "result_ok": "passed"
         },
         {
          "count": 35,
          "quarter": "1998-03-01T00:00:00",
          "result_ok": "rejected"
         },
         {
          "count": 19,
          "quarter": "1998-04-01T00:00:00",
          "result_ok": "passed"
         },
         {
          "count": 3,
          "quarter": "1998-04-01T00:00:00",
          "result_ok": "rejected"
         },
         {
          "count": 47,
          "quarter": "1999-01-01T00:00:00",
          "result_ok": "passed"
         },
         {
          "count": 31,
          "quarter": "1999-01-01T00:00:00",
          "result_ok": "rejected"
         },
         {
          "count": 85,
          "quarter": "1999-02-01T00:00:00",
          "result_ok": "passed"
         },
         {
          "count": 26,
          "quarter": "1999-02-01T00:00:00",
          "result_ok": "rejected"
         },
         {
          "count": 62,
          "quarter": "1999-03-01T00:00:00",
          "result_ok": "passed"
         },
         {
          "count": 49,
          "quarter": "1999-03-01T00:00:00",
          "result_ok": "rejected"
         },
         {
          "count": 54,
          "quarter": "1999-04-01T00:00:00",
          "result_ok": "passed"
         },
         {
          "count": 16,
          "quarter": "1999-04-01T00:00:00",
          "result_ok": "rejected"
         },
         {
          "count": 38,
          "quarter": "2000-01-01T00:00:00",
          "result_ok": "passed"
         },
         {
          "count": 13,
          "quarter": "2000-01-01T00:00:00",
          "result_ok": "rejected"
         },
         {
          "count": 78,
          "quarter": "2000-02-01T00:00:00",
          "result_ok": "passed"
         },
         {
          "count": 38,
          "quarter": "2000-02-01T00:00:00",
          "result_ok": "rejected"
         },
         {
          "count": 38,
          "quarter": "2000-03-01T00:00:00",
          "result_ok": "passed"
         },
         {
          "count": 50,
          "quarter": "2000-03-01T00:00:00",
          "result_ok": "rejected"
         },
         {
          "count": 35,
          "quarter": "2000-04-01T00:00:00",
          "result_ok": "passed"
         },
         {
          "count": 2,
          "quarter": "2000-04-01T00:00:00",
          "result_ok": "rejected"
         },
         {
          "count": 46,
          "quarter": "2001-01-01T00:00:00",
          "result_ok": "passed"
         },
         {
          "count": 17,
          "quarter": "2001-01-01T00:00:00",
          "result_ok": "rejected"
         },
         {
          "count": 73,
          "quarter": "2001-02-01T00:00:00",
          "result_ok": "passed"
         },
         {
          "count": 81,
          "quarter": "2001-02-01T00:00:00",
          "result_ok": "rejected"
         },
         {
          "count": 58,
          "quarter": "2001-03-01T00:00:00",
          "result_ok": "passed"
         },
         {
          "count": 10,
          "quarter": "2001-03-01T00:00:00",
          "result_ok": "rejected"
         },
         {
          "count": 69,
          "quarter": "2001-04-01T00:00:00",
          "result_ok": "passed"
         },
         {
          "count": 21,
          "quarter": "2001-04-01T00:00:00",
          "result_ok": "rejected"
         },
         {
          "count": 36,
          "quarter": "2002-01-01T00:00:00",
          "result_ok": "passed"
         },
         {
          "count": 23,
          "quarter": "2002-01-01T00:00:00",
          "result_ok": "rejected"
         },
         {
          "count": 86,
          "quarter": "2002-02-01T00:00:00",
          "result_ok": "passed"
         },
         {
          "count": 21,
          "quarter": "2002-02-01T00:00:00",
          "result_ok": "rejected"
         },
         {
          "count": 47,
          "quarter": "2002-03-01T00:00:00",
          "result_ok": "passed"
         },
         {
          "count": 14,
          "quarter": "2002-03-01T00:00:00",
          "result_ok": "rejected"
         },
         {
          "count": 20,
          "quarter": "2002-04-01T00:00:00",
          "result_ok": "passed"
         },
         {
          "count": 6,
          "quarter": "2002-04-01T00:00:00",
          "result_ok": "rejected"
         },
         {
          "count": 61,
          "quarter": "2003-01-01T00:00:00",
          "result_ok": "passed"
         },
         {
          "count": 51,
          "quarter": "2003-01-01T00:00:00",
          "result_ok": "rejected"
         },
         {
          "count": 83,
          "quarter": "2003-02-01T00:00:00",
          "result_ok": "passed"
         },
         {
          "count": 67,
          "quarter": "2003-02-01T00:00:00",
          "result_ok": "rejected"
         },
         {
          "count": 63,
          "quarter": "2003-03-01T00:00:00",
          "result_ok": "passed"
         },
         {
          "count": 45,
          "quarter": "2003-03-01T00:00:00",
          "result_ok": "rejected"
         },
         {
          "count": 60,
          "quarter": "2003-04-01T00:00:00",
          "result_ok": "passed"
         },
         {
          "count": 29,
          "quarter": "2003-04-01T00:00:00",
          "result_ok": "rejected"
         },
         {
          "count": 31,
          "quarter": "2004-01-01T00:00:00",
          "result_ok": "passed"
         },
         {
          "count": 32,
          "quarter": "2004-01-01T00:00:00",
          "result_ok": "rejected"
         },
         {
          "count": 58,
          "quarter": "2004-02-01T00:00:00",
          "result_ok": "passed"
         },
         {
          "count": 30,
          "quarter": "2004-02-01T00:00:00",
          "result_ok": "rejected"
         },
         {
          "count": 26,
          "quarter": "2004-03-01T00:00:00",
          "result_ok": "passed"
         },
         {
          "count": 16,
          "quarter": "2004-03-01T00:00:00",
          "result_ok": "rejected"
         },
         {
          "count": 19,
          "quarter": "2004-04-01T00:00:00",
          "result_ok": "passed"
         },
         {
          "count": 3,
          "quarter": "2004-04-01T00:00:00",
          "result_ok": "rejected"
         },
         {
          "count": 29,
          "quarter": "2005-01-01T00:00:00",
          "result_ok": "passed"
         },
         {
          "count": 51,
          "quarter": "2005-01-01T00:00:00",
          "result_ok": "rejected"
         },
         {
          "count": 61,
          "quarter": "2005-02-01T00:00:00",
          "result_ok": "passed"
         },
         {
          "count": 28,
          "quarter": "2005-02-01T00:00:00",
          "result_ok": "rejected"
         },
         {
          "count": 45,
          "quarter": "2005-03-01T00:00:00",
          "result_ok": "passed"
         },
         {
          "count": 31,
          "quarter": "2005-03-01T00:00:00",
          "result_ok": "rejected"
         },
         {
          "count": 53,
          "quarter": "2005-04-01T00:00:00",
          "result_ok": "passed"
         },
         {
          "count": 66,
          "quarter": "2005-04-01T00:00:00",
          "result_ok": "rejected"
         },
         {
          "count": 43,
          "quarter": "2006-01-01T00:00:00",
          "result_ok": "passed"
         },
         {
          "count": 40,
          "quarter": "2006-01-01T00:00:00",
          "result_ok": "rejected"
         },
         {
          "count": 72,
          "quarter": "2006-02-01T00:00:00",
          "result_ok": "passed"
         },
         {
          "count": 35,
          "quarter": "2006-02-01T00:00:00",
          "result_ok": "rejected"
         },
         {
          "count": 47,
          "quarter": "2006-03-01T00:00:00",
          "result_ok": "passed"
         },
         {
          "count": 26,
          "quarter": "2006-03-01T00:00:00",
          "result_ok": "rejected"
         },
         {
          "count": 10,
          "quarter": "2006-04-01T00:00:00",
          "result_ok": "passed"
         },
         {
          "count": 6,
          "quarter": "2006-04-01T00:00:00",
          "result_ok": "rejected"
         },
         {
          "count": 75,
          "quarter": "2007-01-01T00:00:00",
          "result_ok": "passed"
         },
         {
          "count": 50,
          "quarter": "2007-01-01T00:00:00",
          "result_ok": "rejected"
         },
         {
          "count": 62,
          "quarter": "2007-02-01T00:00:00",
          "result_ok": "passed"
         },
         {
          "count": 50,
          "quarter": "2007-02-01T00:00:00",
          "result_ok": "rejected"
         },
         {
          "count": 64,
          "quarter": "2007-03-01T00:00:00",
          "result_ok": "passed"
         },
         {
          "count": 54,
          "quarter": "2007-03-01T00:00:00",
          "result_ok": "rejected"
         },
         {
          "count": 49,
          "quarter": "2007-04-01T00:00:00",
          "result_ok": "passed"
         },
         {
          "count": 35,
          "quarter": "2007-04-01T00:00:00",
          "result_ok": "rejected"
         },
         {
          "count": 45,
          "quarter": "2008-01-01T00:00:00",
          "result_ok": "passed"
         },
         {
          "count": 40,
          "quarter": "2008-01-01T00:00:00",
          "result_ok": "rejected"
         },
         {
          "count": 44,
          "quarter": "2008-02-01T00:00:00",
          "result_ok": "passed"
         },
         {
          "count": 31,
          "quarter": "2008-02-01T00:00:00",
          "result_ok": "rejected"
         },
         {
          "count": 28,
          "quarter": "2008-03-01T00:00:00",
          "result_ok": "passed"
         },
         {
          "count": 18,
          "quarter": "2008-03-01T00:00:00",
          "result_ok": "rejected"
         },
         {
          "count": 5,
          "quarter": "2008-04-01T00:00:00",
          "result_ok": "passed"
         },
         {
          "count": 1,
          "quarter": "2008-04-01T00:00:00",
          "result_ok": "rejected"
         },
         {
          "count": 59,
          "quarter": "2009-01-01T00:00:00",
          "result_ok": "passed"
         },
         {
          "count": 58,
          "quarter": "2009-01-01T00:00:00",
          "result_ok": "rejected"
         },
         {
          "count": 55,
          "quarter": "2009-02-01T00:00:00",
          "result_ok": "passed"
         },
         {
          "count": 38,
          "quarter": "2009-02-01T00:00:00",
          "result_ok": "rejected"
         },
         {
          "count": 46,
          "quarter": "2009-03-01T00:00:00",
          "result_ok": "passed"
         },
         {
          "count": 41,
          "quarter": "2009-03-01T00:00:00",
          "result_ok": "rejected"
         },
         {
          "count": 59,
          "quarter": "2009-04-01T00:00:00",
          "result_ok": "passed"
         },
         {
          "count": 26,
          "quarter": "2009-04-01T00:00:00",
          "result_ok": "rejected"
         },
         {
          "count": 70,
          "quarter": "2010-01-01T00:00:00",
          "result_ok": "passed"
         },
         {
          "count": 35,
          "quarter": "2010-01-01T00:00:00",
          "result_ok": "rejected"
         },
         {
          "count": 59,
          "quarter": "2010-02-01T00:00:00",
          "result_ok": "passed"
         },
         {
          "count": 34,
          "quarter": "2010-02-01T00:00:00",
          "result_ok": "rejected"
         },
         {
          "count": 19,
          "quarter": "2010-03-01T00:00:00",
          "result_ok": "passed"
         },
         {
          "count": 19,
          "quarter": "2010-03-01T00:00:00",
          "result_ok": "rejected"
         },
         {
          "count": 21,
          "quarter": "2010-04-01T00:00:00",
          "result_ok": "passed"
         },
         {
          "count": 25,
          "quarter": "2010-04-01T00:00:00",
          "result_ok": "rejected"
         },
         {
          "count": 31,
          "quarter": "2011-01-01T00:00:00",
          "result_ok": "passed"
         },
         {
          "count": 5,
          "quarter": "2011-01-01T00:00:00",
          "result_ok": "rejected"
         },
         {
          "count": 29,
          "quarter": "2011-02-01T00:00:00",
          "result_ok": "passed"
         },
         {
          "count": 19,
          "quarter": "2011-02-01T00:00:00",
          "result_ok": "rejected"
         },
         {
          "count": 30,
          "quarter": "2011-03-01T00:00:00",
          "result_ok": "passed"
         },
         {
          "count": 18,
          "quarter": "2011-03-01T00:00:00",
          "result_ok": "rejected"
         },
         {
          "count": 41,
          "quarter": "2011-04-01T00:00:00",
          "result_ok": "passed"
         },
         {
          "count": 25,
          "quarter": "2011-04-01T00:00:00",
          "result_ok": "rejected"
         },
         {
          "count": 32,
          "quarter": "2012-01-01T00:00:00",
          "result_ok": "passed"
         },
         {
          "count": 28,
          "quarter": "2012-01-01T00:00:00",
          "result_ok": "rejected"
         },
         {
          "count": 46,
          "quarter": "2012-02-01T00:00:00",
          "result_ok": "passed"
         },
         {
          "count": 53,
          "quarter": "2012-02-01T00:00:00",
          "result_ok": "rejected"
         },
         {
          "count": 16,
          "quarter": "2012-03-01T00:00:00",
          "result_ok": "passed"
         },
         {
          "count": 9,
          "quarter": "2012-03-01T00:00:00",
          "result_ok": "rejected"
         },
         {
          "count": 27,
          "quarter": "2012-04-01T00:00:00",
          "result_ok": "passed"
         },
         {
          "count": 21,
          "quarter": "2012-04-01T00:00:00",
          "result_ok": "rejected"
         },
         {
          "count": 40,
          "quarter": "2013-01-01T00:00:00",
          "result_ok": "passed"
         },
         {
          "count": 48,
          "quarter": "2013-01-01T00:00:00",
          "result_ok": "rejected"
         },
         {
          "count": 52,
          "quarter": "2013-02-01T00:00:00",
          "result_ok": "passed"
         },
         {
          "count": 23,
          "quarter": "2013-02-01T00:00:00",
          "result_ok": "rejected"
         },
         {
          "count": 36,
          "quarter": "2013-03-01T00:00:00",
          "result_ok": "passed"
         },
         {
          "count": 4,
          "quarter": "2013-03-01T00:00:00",
          "result_ok": "rejected"
         },
         {
          "count": 59,
          "quarter": "2013-04-01T00:00:00",
          "result_ok": "passed"
         },
         {
          "count": 9,
          "quarter": "2013-04-01T00:00:00",
          "result_ok": "rejected"
         },
         {
          "count": 77,
          "quarter": "2014-01-01T00:00:00",
          "result_ok": "passed"
         },
         {
          "count": 10,
          "quarter": "2014-01-01T00:00:00",
          "result_ok": "rejected"
         },
         {
          "count": 111,
          "quarter": "2014-02-01T00:00:00",
          "result_ok": "passed"
         },
         {
          "count": 7,
          "quarter": "2014-02-01T00:00:00",
          "result_ok": "rejected"
         },
         {
          "count": 41,
          "quarter": "2014-03-01T00:00:00",
          "result_ok": "passed"
         },
         {
          "count": 9,
          "quarter": "2014-03-01T00:00:00",
          "result_ok": "rejected"
         },
         {
          "count": 91,
          "quarter": "2014-04-01T00:00:00",
          "result_ok": "passed"
         },
         {
          "count": 1,
          "quarter": "2014-04-01T00:00:00",
          "result_ok": "rejected"
         },
         {
          "count": 62,
          "quarter": "2015-01-01T00:00:00",
          "result_ok": "passed"
         },
         {
          "count": 68,
          "quarter": "2015-01-01T00:00:00",
          "result_ok": "rejected"
         },
         {
          "count": 50,
          "quarter": "2015-02-01T00:00:00",
          "result_ok": "passed"
         },
         {
          "count": 32,
          "quarter": "2015-02-01T00:00:00",
          "result_ok": "rejected"
         },
         {
          "count": 27,
          "quarter": "2015-03-01T00:00:00",
          "result_ok": "passed"
         },
         {
          "count": 24,
          "quarter": "2015-03-01T00:00:00",
          "result_ok": "rejected"
         },
         {
          "count": 33,
          "quarter": "2015-04-01T00:00:00",
          "result_ok": "passed"
         },
         {
          "count": 27,
          "quarter": "2015-04-01T00:00:00",
          "result_ok": "rejected"
         },
         {
          "count": 21,
          "quarter": "2016-01-01T00:00:00",
          "result_ok": "passed"
         },
         {
          "count": 14,
          "quarter": "2016-01-01T00:00:00",
          "result_ok": "rejected"
         },
         {
          "count": 47,
          "quarter": "2016-02-01T00:00:00",
          "result_ok": "passed"
         },
         {
          "count": 28,
          "quarter": "2016-02-01T00:00:00",
          "result_ok": "rejected"
         },
         {
          "count": 22,
          "quarter": "2016-03-01T00:00:00",
          "result_ok": "passed"
         },
         {
          "count": 9,
          "quarter": "2016-03-01T00:00:00",
          "result_ok": "rejected"
         },
         {
          "count": 10,
          "quarter": "2016-04-01T00:00:00",
          "result_ok": "passed"
         },
         {
          "count": 1,
          "quarter": "2016-04-01T00:00:00",
          "result_ok": "rejected"
         },
         {
          "count": 59,
          "quarter": "2017-01-01T00:00:00",
          "result_ok": "passed"
         },
         {
          "count": 25,
          "quarter": "2017-01-01T00:00:00",
          "result_ok": "rejected"
         },
         {
          "count": 45,
          "quarter": "2017-02-01T00:00:00",
          "result_ok": "passed"
         },
         {
          "count": 1,
          "quarter": "2017-02-01T00:00:00",
          "result_ok": "rejected"
         },
         {
          "count": 43,
          "quarter": "2017-03-01T00:00:00",
          "result_ok": "passed"
         },
         {
          "count": 10,
          "quarter": "2017-03-01T00:00:00",
          "result_ok": "rejected"
         },
         {
          "count": 75,
          "quarter": "2017-04-01T00:00:00",
          "result_ok": "passed"
         },
         {
          "count": 38,
          "quarter": "2017-04-01T00:00:00",
          "result_ok": "rejected"
         },
         {
          "count": 54,
          "quarter": "2018-01-01T00:00:00",
          "result_ok": "passed"
         },
         {
          "count": 8,
          "quarter": "2018-01-01T00:00:00",
          "result_ok": "rejected"
         },
         {
          "count": 70,
          "quarter": "2018-02-01T00:00:00",
          "result_ok": "passed"
         },
         {
          "count": 4,
          "quarter": "2018-02-01T00:00:00",
          "result_ok": "rejected"
         },
         {
          "count": 66,
          "quarter": "2018-03-01T00:00:00",
          "result_ok": "passed"
         },
         {
          "count": 5,
          "quarter": "2018-03-01T00:00:00",
          "result_ok": "rejected"
         },
         {
          "count": 46,
          "quarter": "2018-04-01T00:00:00",
          "result_ok": "passed"
         },
         {
          "count": 4,
          "quarter": "2018-04-01T00:00:00",
          "result_ok": "rejected"
         }
        ]
       },
       "height": 400,
       "layer": [
        {
         "encoding": {
          "color": {
           "field": "result_ok",
           "scale": {
            "domain": [
             "passed",
             "rejected"
            ],
            "range": [
             "green",
             "orange"
            ]
           },
           "type": "nominal"
          },
          "x": {
           "field": "quarter",
           "type": "temporal"
          },
          "y": {
           "field": "count",
           "type": "quantitative"
          }
         },
         "mark": {
          "interpolate": "basis",
          "type": "line"
         }
        },
        {
         "encoding": {
          "opacity": {
           "value": 0
          },
          "x": {
           "field": "quarter",
           "type": "quantitative"
          }
         },
         "mark": "point",
         "selection": {
          "selector023": {
           "empty": "none",
           "fields": [
            "quarter"
           ],
           "nearest": true,
           "on": "mouseover",
           "resolve": "global",
           "type": "single"
          }
         }
        },
        {
         "encoding": {
          "color": {
           "field": "result_ok",
           "scale": {
            "domain": [
             "passed",
             "rejected"
            ],
            "range": [
             "green",
             "orange"
            ]
           },
           "type": "nominal"
          },
          "opacity": {
           "condition": {
            "selection": "selector023",
            "value": 1
           },
           "value": 0
          },
          "x": {
           "field": "quarter",
           "type": "temporal"
          },
          "y": {
           "field": "count",
           "type": "quantitative"
          }
         },
         "mark": "point"
        },
        {
         "encoding": {
          "x": {
           "field": "quarter",
           "type": "quantitative"
          }
         },
         "mark": {
          "color": "gray",
          "type": "rule"
         },
         "transform": [
          {
           "filter": {
            "selection": "selector023"
           }
          }
         ]
        },
        {
         "encoding": {
          "color": {
           "field": "result_ok",
           "scale": {
            "domain": [
             "passed",
             "rejected"
            ],
            "range": [
             "green",
             "orange"
            ]
           },
           "type": "nominal"
          },
          "text": {
           "condition": {
            "field": "count",
            "selection": "selector023",
            "type": "quantitative"
           },
           "value": " "
          },
          "x": {
           "field": "quarter",
           "type": "temporal"
          },
          "y": {
           "field": "count",
           "type": "quantitative"
          }
         },
         "mark": {
          "align": "left",
          "dx": 5,
          "dy": -5,
          "type": "text"
         }
        }
       ],
       "width": 1000
      },
      "image/png": "[encoded data removed]",
      "text/plain": [
       "<VegaLite 2 object>\n",
       "\n",
       "If you see this message, it means the renderer has not been properly enabled\n",
       "for the frontend that you are using. For more information, see\n",
       "https://altair-viz.github.io/user_guide/troubleshooting.html\n"
      ]
     },
     "execution_count": 149,
     "metadata": {},
     "output_type": "execute_result"
    }
   ],
   "source": [
    "d = pd.DataFrame(all_laws.groupby(['quarter', 'result_ok']).size()).reset_index()\n",
    "d = d.rename(columns={0: 'count'})\n",
    "d['quarter'] = pd.to_datetime(d['quarter'])\n",
    "\n",
    "\n",
    "# Chart\n",
    "nearest = alt.selection(type='single', nearest=True, on='mouseover',\n",
    "                        fields=['quarter'], empty='none')\n",
    "line = alt.Chart().mark_line(interpolate='basis').encode(\n",
    "    x='quarter:T',\n",
    "    y='count:Q',\n",
    "    color=alt.Color('result_ok:N', \n",
    "                    scale=alt.Scale(domain=['passed', 'rejected'], \n",
    "                                    range=['green', 'orange'])))\n",
    "selectors = alt.Chart().mark_point().encode(\n",
    "    x='quarter:Q',\n",
    "    opacity=alt.value(0),).add_selection(nearest)\n",
    "points = line.mark_point().encode(\n",
    "    opacity=alt.condition(nearest, alt.value(1), alt.value(0)))\n",
    "text = line.mark_text(align='left', dx=5, dy=-5).encode(\n",
    "    text=alt.condition(nearest, 'count:Q', alt.value(' ')))\n",
    "rules = alt.Chart().mark_rule(color='gray').encode(\n",
    "    x='quarter:Q',).transform_filter(nearest)\n",
    "\n",
    "alt.layer(line, selectors, points, rules, text, data=d, width=1000, height=400)"
   ]
  },
  {
   "cell_type": "code",
   "execution_count": 257,
   "metadata": {},
   "outputs": [
    {
     "data": {
      "application/vnd.vegalite.v2+json": {
       "$schema": "https://vega.github.io/schema/vega-lite/v2.6.0.json",
       "config": {
        "view": {
         "height": 300,
         "width": 400
        }
       },
       "data": {
        "name": "data-9f98075d429979557c09449fc62a2da5"
       },
       "datasets": {
        "data-9f98075d429979557c09449fc62a2da5": [
         {
          "congress": 105,
          "count": 411,
          "result_ok": "passed"
         },
         {
          "congress": 105,
          "count": 198,
          "result_ok": "rejected"
         },
         {
          "congress": 106,
          "count": 437,
          "result_ok": "passed"
         },
         {
          "congress": 106,
          "count": 225,
          "result_ok": "rejected"
         },
         {
          "congress": 107,
          "count": 435,
          "result_ok": "passed"
         },
         {
          "congress": 107,
          "count": 193,
          "result_ok": "rejected"
         },
         {
          "congress": 108,
          "count": 401,
          "result_ok": "passed"
         },
         {
          "congress": 108,
          "count": 273,
          "result_ok": "rejected"
         },
         {
          "congress": 109,
          "count": 360,
          "result_ok": "passed"
         },
         {
          "congress": 109,
          "count": 283,
          "result_ok": "rejected"
         },
         {
          "congress": 110,
          "count": 372,
          "result_ok": "passed"
         },
         {
          "congress": 110,
          "count": 279,
          "result_ok": "rejected"
         },
         {
          "congress": 111,
          "count": 388,
          "result_ok": "passed"
         },
         {
          "congress": 111,
          "count": 276,
          "result_ok": "rejected"
         },
         {
          "congress": 112,
          "count": 253,
          "result_ok": "passed"
         },
         {
          "congress": 112,
          "count": 178,
          "result_ok": "rejected"
         },
         {
          "congress": 113,
          "count": 506,
          "result_ok": "passed"
         },
         {
          "congress": 113,
          "count": 111,
          "result_ok": "rejected"
         },
         {
          "congress": 114,
          "count": 272,
          "result_ok": "passed"
         },
         {
          "congress": 114,
          "count": 203,
          "result_ok": "rejected"
         },
         {
          "congress": 115,
          "count": 458,
          "result_ok": "passed"
         },
         {
          "congress": 115,
          "count": 95,
          "result_ok": "rejected"
         }
        ]
       },
       "height": 300,
       "layer": [
        {
         "encoding": {
          "color": {
           "field": "result_ok",
           "scale": {
            "domain": [
             "passed",
             "rejected"
            ],
            "range": [
             "green",
             "orange"
            ]
           },
           "type": "nominal"
          },
          "x": {
           "field": "congress",
           "type": "ordinal"
          },
          "y": {
           "field": "count",
           "type": "quantitative"
          }
         },
         "mark": {
          "interpolate": "basis",
          "type": "line"
         }
        },
        {
         "encoding": {
          "opacity": {
           "value": 0
          },
          "x": {
           "field": "congress",
           "type": "quantitative"
          }
         },
         "mark": "point",
         "selection": {
          "selector028": {
           "empty": "none",
           "fields": [
            "quarter"
           ],
           "nearest": true,
           "on": "mouseover",
           "resolve": "global",
           "type": "single"
          }
         }
        },
        {
         "encoding": {
          "color": {
           "field": "result_ok",
           "scale": {
            "domain": [
             "passed",
             "rejected"
            ],
            "range": [
             "green",
             "orange"
            ]
           },
           "type": "nominal"
          },
          "opacity": {
           "condition": {
            "selection": "selector028",
            "value": 1
           },
           "value": 0
          },
          "x": {
           "field": "congress",
           "type": "ordinal"
          },
          "y": {
           "field": "count",
           "type": "quantitative"
          }
         },
         "mark": "point"
        },
        {
         "encoding": {
          "x": {
           "field": "congress",
           "type": "quantitative"
          }
         },
         "mark": {
          "color": "gray",
          "type": "rule"
         },
         "transform": [
          {
           "filter": {
            "selection": "selector028"
           }
          }
         ]
        },
        {
         "encoding": {
          "color": {
           "field": "result_ok",
           "scale": {
            "domain": [
             "passed",
             "rejected"
            ],
            "range": [
             "green",
             "orange"
            ]
           },
           "type": "nominal"
          },
          "text": {
           "condition": {
            "field": "count",
            "selection": "selector028",
            "type": "quantitative"
           },
           "value": " "
          },
          "x": {
           "field": "congress",
           "type": "ordinal"
          },
          "y": {
           "field": "count",
           "type": "quantitative"
          }
         },
         "mark": {
          "align": "left",
          "dx": 5,
          "dy": -5,
          "type": "text"
         }
        }
       ],
       "width": 800
      },
      "image/png": "[encoded data removed]",
      "text/plain": [
       "<VegaLite 2 object>\n",
       "\n",
       "If you see this message, it means the renderer has not been properly enabled\n",
       "for the frontend that you are using. For more information, see\n",
       "https://altair-viz.github.io/user_guide/troubleshooting.html\n"
      ]
     },
     "execution_count": 257,
     "metadata": {},
     "output_type": "execute_result"
    }
   ],
   "source": [
    "d = pd.DataFrame(all_laws.groupby(['congress', 'result_ok']).size()).reset_index()\n",
    "d = d.rename(columns={0: 'count'})\n",
    "\n",
    "\n",
    "# Chart\n",
    "nearest = alt.selection(type='single', nearest=True, on='mouseover',\n",
    "                        fields=['quarter'], empty='none')\n",
    "line = alt.Chart().mark_line(interpolate='basis').encode(\n",
    "    x='congress:O',\n",
    "    y='count:Q',\n",
    "    color=alt.Color('result_ok:N', \n",
    "                    scale=alt.Scale(domain=['passed', 'rejected'], \n",
    "                                    range=['green', 'orange'])))\n",
    "selectors = alt.Chart().mark_point().encode(\n",
    "    x='congress:Q',\n",
    "    opacity=alt.value(0),).add_selection(nearest)\n",
    "points = line.mark_point().encode(\n",
    "    opacity=alt.condition(nearest, alt.value(1), alt.value(0)))\n",
    "text = line.mark_text(align='left', dx=5, dy=-5).encode(\n",
    "    text=alt.condition(nearest, 'count:Q', alt.value(' ')))\n",
    "rules = alt.Chart().mark_rule(color='gray').encode(\n",
    "    x='congress:Q',).transform_filter(nearest)\n",
    "\n",
    "alt.layer(line, selectors, points, rules, text, data=d, width=800, height=300)"
   ]
  },
  {
   "cell_type": "markdown",
   "metadata": {},
   "source": [
    "## Historical Concordance Inter and Intra Party"
   ]
  },
  {
   "cell_type": "markdown",
   "metadata": {},
   "source": [
    "### Inter Party"
   ]
  },
  {
   "cell_type": "code",
   "execution_count": 156,
   "metadata": {},
   "outputs": [
    {
     "data": {
      "text/html": [
       "<div>\n",
       "<style scoped>\n",
       "    .dataframe tbody tr th:only-of-type {\n",
       "        vertical-align: middle;\n",
       "    }\n",
       "\n",
       "    .dataframe tbody tr th {\n",
       "        vertical-align: top;\n",
       "    }\n",
       "\n",
       "    .dataframe thead th {\n",
       "        text-align: right;\n",
       "    }\n",
       "</style>\n",
       "<table border=\"1\" class=\"dataframe\">\n",
       "  <thead>\n",
       "    <tr style=\"text-align: right;\">\n",
       "      <th></th>\n",
       "      <th>democrats_yes</th>\n",
       "      <th>republican_yes</th>\n",
       "      <th>democrats_no</th>\n",
       "      <th>republican_no</th>\n",
       "    </tr>\n",
       "  </thead>\n",
       "  <tbody>\n",
       "    <tr>\n",
       "      <th>democrats_yes</th>\n",
       "      <td>1.000000</td>\n",
       "      <td>-0.240580</td>\n",
       "      <td>-0.738845</td>\n",
       "      <td>0.135862</td>\n",
       "    </tr>\n",
       "    <tr>\n",
       "      <th>republican_yes</th>\n",
       "      <td>-0.240580</td>\n",
       "      <td>1.000000</td>\n",
       "      <td>0.122328</td>\n",
       "      <td>-0.752713</td>\n",
       "    </tr>\n",
       "    <tr>\n",
       "      <th>democrats_no</th>\n",
       "      <td>-0.738845</td>\n",
       "      <td>0.122328</td>\n",
       "      <td>1.000000</td>\n",
       "      <td>-0.077834</td>\n",
       "    </tr>\n",
       "    <tr>\n",
       "      <th>republican_no</th>\n",
       "      <td>0.135862</td>\n",
       "      <td>-0.752713</td>\n",
       "      <td>-0.077834</td>\n",
       "      <td>1.000000</td>\n",
       "    </tr>\n",
       "  </tbody>\n",
       "</table>\n",
       "</div>"
      ],
      "text/plain": [
       "                democrats_yes  republican_yes  democrats_no  republican_no\n",
       "democrats_yes        1.000000       -0.240580     -0.738845       0.135862\n",
       "republican_yes      -0.240580        1.000000      0.122328      -0.752713\n",
       "democrats_no        -0.738845        0.122328      1.000000      -0.077834\n",
       "republican_no        0.135862       -0.752713     -0.077834       1.000000"
      ]
     },
     "execution_count": 156,
     "metadata": {},
     "output_type": "execute_result"
    }
   ],
   "source": [
    "# Kendal: coeffient that mesures difference between concordante pairs and discordant pairs\n",
    "all_laws[['democrats_yes', 'republican_yes', 'democrats_no', 'republican_no']].corr('kendall')"
   ]
  },
  {
   "cell_type": "markdown",
   "metadata": {},
   "source": [
    "The correlation between \"yes\" of democrats and republican is -0.24 and for \"no\" is -0.07. It means, an \"yes\" position is more polemic and generates more divergence than a \"no\" position. \n",
    "\n",
    "On the other hand, the coefficients for \"yes\" and \"no\" for democrats and republican are about 0.12 and 0.13 which indicates a concordance in the opposite direction. hehehe"
   ]
  },
  {
   "cell_type": "code",
   "execution_count": 252,
   "metadata": {},
   "outputs": [
    {
     "data": {
      "image/png": "[encoded data removed]",
      "text/plain": [
       "<Figure size 3600x720 with 1 Axes>"
      ]
     },
     "metadata": {},
     "output_type": "display_data"
    }
   ],
   "source": [
    "r = all_laws[['republican_yes', 'congress']].rename(columns={'republican_yes': 'yes'})\n",
    "r['party'] = 'republican'\n",
    "d = all_laws[['democrats_yes', 'congress']].rename(columns={'democrats_yes': 'yes'})\n",
    "d['party'] = 'democrats'\n",
    "d = pd.concat([r, d], axis=0)\n",
    "\n",
    "plt.figure(figsize=(50, 10))\n",
    "ax = sns.boxplot(x='congress', y='yes', hue='party', data=d, palette=pal, boxprops=dict(alpha=.5))\n",
    "ax.legend_.remove()"
   ]
  },
  {
   "cell_type": "markdown",
   "metadata": {},
   "source": [
    "### Intra Party"
   ]
  },
  {
   "cell_type": "code",
   "execution_count": null,
   "metadata": {},
   "outputs": [],
   "source": []
  }
 ],
 "metadata": {
  "kernelspec": {
   "display_name": "Python 3",
   "language": "python",
   "name": "python3"
  },
  "language_info": {
   "codemirror_mode": {
    "name": "ipython",
    "version": 3
   },
   "file_extension": ".py",
   "mimetype": "text/x-python",
   "name": "python",
   "nbconvert_exporter": "python",
   "pygments_lexer": "ipython3",
   "version": "3.6.7"
  }
 },
 "nbformat": 4,
 "nbformat_minor": 2
}
