{
 "cells": [
  {
   "cell_type": "code",
   "execution_count": 1,
   "metadata": {},
   "outputs": [],
   "source": [
    "import os\n",
    "import pandas as pd\n",
    "import numpy as np\n",
    "import requests\n",
    "\n",
    "import pickle\n",
    "\n",
    "import matplotlib.pyplot as plt\n",
    "%matplotlib inline "
   ]
  },
  {
   "cell_type": "code",
   "execution_count": 2,
   "metadata": {},
   "outputs": [],
   "source": [
    "API_KEY = os.environ.get('SENATORS', None)\n",
    "DATA_PATH = '../data/all-votes'"
   ]
  },
  {
   "cell_type": "code",
   "execution_count": 3,
   "metadata": {},
   "outputs": [],
   "source": [
    "years = np.arange(1997, 2019, 1)\n",
    "months = np.arange(1, 13, 1)"
   ]
  },
  {
   "cell_type": "markdown",
   "metadata": {},
   "source": [
    "## Get general information about all voted laws for the last 20 years"
   ]
  },
  {
   "cell_type": "code",
   "execution_count": 4,
   "metadata": {},
   "outputs": [
    {
     "name": "stdout",
     "output_type": "stream",
     "text": [
      "(6834, 16)\n"
     ]
    }
   ],
   "source": [
    "laws = []\n",
    "for y in years:\n",
    "    for m in months:\n",
    "        url = 'https://api.propublica.org/congress/v1/senate/votes/{}/{}.json'.format(y, m)\n",
    "#         req = requests.get(url, headers={'X-API-Key': API_KEY}).json()\n",
    "        results = req['results']['votes']\n",
    "        for r in results:\n",
    "            d = {}\n",
    "            d['year'] = y\n",
    "            d['month'] = m\n",
    "            d['congress'] = r['congress']\n",
    "            d['vote_uri'] = r['vote_uri']\n",
    "            d['bill_api_uri'] = r['bill'].get('api_uri', None)\n",
    "            d['vote_type'] = r['vote_type']\n",
    "            d['result'] = r['result']\n",
    "            d['date'] = r['date']\n",
    "            d['total_yes'] = r['total']['yes']\n",
    "            d['total_no'] = r['total']['no']\n",
    "            d['total_not_voting'] = r['total']['not_voting']\n",
    "            d['democrats_no'] = r['democratic']['no']\n",
    "            d['democrats_yes'] = r['democratic']['yes']\n",
    "            d['republican_no'] = r['republican']['no']\n",
    "            d['republican_yes'] = r['republican']['yes']\n",
    "            d['independent_no'] = r['independent']['no']\n",
    "            d['independent_yes'] = r['independent']['yes']\n",
    "            laws.append(d)\n",
    "\n",
    "df = pd.DataFrame(laws)\n",
    "print(df.shape)\n",
    "df.to_csv(DATA_PATH + '/laws_20years.csv', index=False)"
   ]
  },
  {
   "cell_type": "code",
   "execution_count": 36,
   "metadata": {},
   "outputs": [],
   "source": [
    "all_laws = pd.read_csv(DATA_PATH + '/laws_20years.csv')"
   ]
  },
  {
   "cell_type": "markdown",
   "metadata": {},
   "source": [
    "## Get general information about congress members of the last 20 years"
   ]
  },
  {
   "cell_type": "code",
   "execution_count": 40,
   "metadata": {},
   "outputs": [
    {
     "name": "stdout",
     "output_type": "stream",
     "text": [
      "(1133, 8)\n"
     ]
    }
   ],
   "source": [
    "congresses_members = []\n",
    "for congress in all_laws['congress'].unique():\n",
    "    url = 'https://api.propublica.org/congress/v1/{}/senate/members.json'.format(congress)\n",
    "#     req = requests.get(url, headers={'X-API-Key': API_KEY}).json()\n",
    "    members = req['results'][0]['members']\n",
    "    infos = [{'congress': congress, \n",
    "              'name': m['first_name'] + ' ' + m['last_name'],\n",
    "              'id': m['id'], \n",
    "              'api_uri': m['api_uri'], \n",
    "              'party': m['party'],\n",
    "              'gender': m['gender'], \n",
    "              'seniority': m['seniority'],\n",
    "              'dw_nominate': m['dw_nominate']\n",
    "             } for m in members]\n",
    "    congresses_members += infos\n",
    "\n",
    "df = pd.DataFrame(congresses_members)\n",
    "print(df.shape)\n",
    "df.to_csv(DATA_PATH + '/members_20years.csv', index=False)"
   ]
  },
  {
   "cell_type": "code",
   "execution_count": 8,
   "metadata": {},
   "outputs": [],
   "source": [
    "all_members = pd.read_csv(DATA_PATH + '/members_20years.csv')"
   ]
  },
  {
   "cell_type": "code",
   "execution_count": 139,
   "metadata": {},
   "outputs": [
    {
     "name": "stdout",
     "output_type": "stream",
     "text": [
      "231\n"
     ]
    }
   ],
   "source": [
    "print(all_members.id.nunique())"
   ]
  },
  {
   "cell_type": "markdown",
   "metadata": {},
   "source": [
    "## Build adjacency matrix for every single voted laws for the last 20 years"
   ]
  },
  {
   "cell_type": "code",
   "execution_count": 5,
   "metadata": {},
   "outputs": [],
   "source": [
    "def get_adjacency(members, votes):\n",
    "    n = len(members)\n",
    "    adjancency = np.zeros((n, n))\n",
    "    \n",
    "    for i, i_id in enumerate(members):\n",
    "        for j, j_id in enumerate(members):\n",
    "            if i != j:\n",
    "                vote_i = votes.loc[i_id]['vote_position'].lower() if i_id in votes.index else 'not voting'\n",
    "                vote_j = votes.loc[j_id]['vote_position'].lower() if j_id in votes.index else 'not voting'\n",
    "                if vote_i == vote_j and vote_i != 'not voting':\n",
    "                    adjancency[i, j] = 1\n",
    "    \n",
    "    return adjancency"
   ]
  },
  {
   "cell_type": "code",
   "execution_count": 35,
   "metadata": {},
   "outputs": [],
   "source": [
    "# all_adjacency = {}\n",
    "\n",
    "for i in range(0, len(all_laws)):\n",
    "    row = all_laws.iloc[i]\n",
    "    url = row['vote_uri']\n",
    "    keyname = '_'.join(url.split('/')[4:]).split('.')[0]\n",
    "\n",
    "    if keyname not in all_adjacency:\n",
    "        print(keyname)\n",
    "        congress = row['congress']\n",
    "        members = all_members[all_members['congress'] == congress].sort_values(['party', 'id'])\n",
    "        members = members.set_index('id')\n",
    "        req = requests.get(url, headers={'X-API-Key': API_KEY}).json()\n",
    "        results = pd.DataFrame(req['results']['votes']['vote']['positions'])\n",
    "        results = results.set_index('member_id')\n",
    "    \n",
    "        all_adjacency[keyname] = get_adjacency(members.index, results)\n",
    "\n",
    "    else:\n",
    "        continue"
   ]
  },
  {
   "cell_type": "code",
   "execution_count": 33,
   "metadata": {},
   "outputs": [],
   "source": [
    "with open(DATA_PATH + '/all_adjacency.pickle', 'wb') as handle:\n",
    "    pickle.dump(all_adjacency, handle, protocol=pickle.HIGHEST_PROTOCOL)\n",
    "\n",
    "# del all_adjancency"
   ]
  },
  {
   "cell_type": "code",
   "execution_count": 206,
   "metadata": {},
   "outputs": [],
   "source": [
    "with open(DATA_PATH + '/all_adjacency.pickle', 'rb') as handle:\n",
    "    all_adjacency = pickle.load(handle)"
   ]
  },
  {
   "cell_type": "code",
   "execution_count": 209,
   "metadata": {},
   "outputs": [
    {
     "data": {
      "text/plain": [
       "6834"
      ]
     },
     "execution_count": 209,
     "metadata": {},
     "output_type": "execute_result"
    }
   ],
   "source": [
    "len(all_adjancency.keys())"
   ]
  },
  {
   "cell_type": "code",
   "execution_count": 43,
   "metadata": {},
   "outputs": [],
   "source": [
    "all_bills = []\n",
    "\n",
    "for i in range(0, len(all_laws)):\n",
    "    row = all_laws.iloc[i]\n",
    "    url = row['bill_api_uri']\n",
    "    keyname = '_'.join(row['vote_uri'].split('/')[4:]).split('.')[0]\n",
    "\n",
    "    if keyname not in all_bills and url is not np.nan:\n",
    "        d = {}\n",
    "        \n",
    "        print(keyname)\n",
    "        try:\n",
    "#             req = requests.get(url, headers={'X-API-Key': API_KEY}).json()\n",
    "            results = req['results'][0]\n",
    "            d['law_id'] = keyname\n",
    "            d['sponsor_party'] = results['sponsor_party']\n",
    "            d['sponsor_id'] = results['sponsor_id']\n",
    "            d['primary_subject'] = results['primary_subject']\n",
    "            d['committees'] = results['committees']\n",
    "            d['short_title'] = results['short_title']\n",
    "    \n",
    "            all_bills.append(d)\n",
    "        except:\n",
    "            pass\n",
    "\n",
    "    else:\n",
    "        continue"
   ]
  },
  {
   "cell_type": "code",
   "execution_count": 42,
   "metadata": {},
   "outputs": [],
   "source": [
    "pd.DataFrame(all_bills).to_csv(DATA_PATH + '/bills_20.years.csv')"
   ]
  }
 ],
 "metadata": {
  "kernelspec": {
   "display_name": "Python 3",
   "language": "python",
   "name": "python3"
  },
  "language_info": {
   "codemirror_mode": {
    "name": "ipython",
    "version": 3
   },
   "file_extension": ".py",
   "mimetype": "text/x-python",
   "name": "python",
   "nbconvert_exporter": "python",
   "pygments_lexer": "ipython3",
   "version": "3.6.7"
  }
 },
 "nbformat": 4,
 "nbformat_minor": 2
}
