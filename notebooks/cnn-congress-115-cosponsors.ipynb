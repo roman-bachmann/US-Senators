{
 "cells": [
  {
   "cell_type": "markdown",
   "metadata": {},
   "source": [
    "# CNN - sponsorship model\n",
    "\n",
    "Consider senate number 115, this notebook aims to predict votes profile for a bill using the sponsors' votes information.\n",
    "\n",
    "Any other information on each senator can be encoded on a similarity graph."
   ]
  },
  {
   "cell_type": "code",
   "execution_count": 110,
   "metadata": {},
   "outputs": [
    {
     "name": "stdout",
     "output_type": "stream",
     "text": [
      "The autoreload extension is already loaded. To reload it, use:\n",
      "  %reload_ext autoreload\n"
     ]
    }
   ],
   "source": [
    "import os\n",
    "import pandas as pd\n",
    "pd.options.mode.chained_assignment = None\n",
    "\n",
    "import numpy as np\n",
    "import ast\n",
    "from scipy import sparse\n",
    "\n",
    "import matplotlib.pyplot as plt\n",
    "%matplotlib inline \n",
    "%load_ext autoreload\n",
    "%autoreload\n",
    "\n",
    "from lib import models_alt, graph, coarsening, utils"
   ]
  },
  {
   "cell_type": "code",
   "execution_count": 2,
   "metadata": {},
   "outputs": [],
   "source": [
    "VOTES_115 = '../data/all-votes/votes_115.csv'\n",
    "BILLS_115 = '../data/bills_115.csv'\n",
    "ADJACENCY = '../data/adjacency.csv'"
   ]
  },
  {
   "cell_type": "code",
   "execution_count": 3,
   "metadata": {},
   "outputs": [],
   "source": [
    "all_bills = pd.read_csv(BILLS_115)\n",
    "votes_115 = pd.read_csv(VOTES_115)\n",
    "bills_sen = all_bills[all_bills.sponsor_title=='Sen.'] # bills sponsored by senators\n",
    "N_BILLS_SEN = bills_sen.shape[0]"
   ]
  },
  {
   "cell_type": "code",
   "execution_count": 4,
   "metadata": {},
   "outputs": [],
   "source": [
    "members_aux = pd.DataFrame(list(votes_115['member_id'].unique())).rename(columns={0: 'member_id'})\n",
    "members = members_aux.merge(votes_115.drop_duplicates(subset = 'member_id')[['member_id', 'party']], how='left').sort_values(['party', 'member_id'])\n",
    "N_SENATORS = len(members)"
   ]
  },
  {
   "cell_type": "code",
   "execution_count": 5,
   "metadata": {},
   "outputs": [],
   "source": [
    "def numeric_votes(x):\n",
    "    if x == 'Yes':\n",
    "        return 1\n",
    "    elif x == 'Not Voting' or pd.isnull(x):\n",
    "        return 0 # we can put np.nan and then fill with the median or mean, whatever for now\n",
    "    else:\n",
    "        return -1"
   ]
  },
  {
   "cell_type": "code",
   "execution_count": 6,
   "metadata": {},
   "outputs": [],
   "source": [
    "votes_matrix=np.zeros((len(votes_115.vote_uri.unique()), N_SENATORS))\n",
    "\n",
    "for i, l in enumerate(list(votes_115.vote_uri.unique())):\n",
    "    votes = (members.merge(votes_115[votes_115.vote_uri == l], how='left'))\n",
    "    feature = votes.vote_position.apply(numeric_votes).values\n",
    "    votes_matrix[i] = feature"
   ]
  },
  {
   "cell_type": "code",
   "execution_count": 8,
   "metadata": {},
   "outputs": [],
   "source": [
    "for i,j in enumerate(bills_sen.cosponsors_sen):\n",
    "    bills_sen.cosponsors_sen.iloc[i] = ast.literal_eval(j)"
   ]
  },
  {
   "cell_type": "code",
   "execution_count": 9,
   "metadata": {},
   "outputs": [
    {
     "data": {
      "text/html": [
       "<div>\n",
       "<style scoped>\n",
       "    .dataframe tbody tr th:only-of-type {\n",
       "        vertical-align: middle;\n",
       "    }\n",
       "\n",
       "    .dataframe tbody tr th {\n",
       "        vertical-align: top;\n",
       "    }\n",
       "\n",
       "    .dataframe thead th {\n",
       "        text-align: right;\n",
       "    }\n",
       "</style>\n",
       "<table border=\"1\" class=\"dataframe\">\n",
       "  <thead>\n",
       "    <tr style=\"text-align: right;\">\n",
       "      <th></th>\n",
       "      <th>Unnamed: 0</th>\n",
       "      <th>bill_api_uri</th>\n",
       "      <th>date</th>\n",
       "      <th>democrats_no</th>\n",
       "      <th>democrats_yes</th>\n",
       "      <th>independent_no</th>\n",
       "      <th>independent_yes</th>\n",
       "      <th>month</th>\n",
       "      <th>republican_no</th>\n",
       "      <th>republican_yes</th>\n",
       "      <th>...</th>\n",
       "      <th>sponsor_id</th>\n",
       "      <th>sponsor_party</th>\n",
       "      <th>sponsor_title</th>\n",
       "      <th>result_ok</th>\n",
       "      <th>nb_cosponsors_R</th>\n",
       "      <th>nb_cosponsors_D</th>\n",
       "      <th>nb_cosponsors_I</th>\n",
       "      <th>cosponsors_sen</th>\n",
       "      <th>cosponsors_rep</th>\n",
       "      <th>cosponsors_del</th>\n",
       "    </tr>\n",
       "  </thead>\n",
       "  <tbody>\n",
       "    <tr>\n",
       "      <th>1</th>\n",
       "      <td>1</td>\n",
       "      <td>https://api.propublica.org/congress/v1/115/bil...</td>\n",
       "      <td>2017-01-12</td>\n",
       "      <td>16</td>\n",
       "      <td>30</td>\n",
       "      <td>1</td>\n",
       "      <td>1</td>\n",
       "      <td>1</td>\n",
       "      <td>0</td>\n",
       "      <td>50</td>\n",
       "      <td>...</td>\n",
       "      <td>M000303</td>\n",
       "      <td>R</td>\n",
       "      <td>Sen.</td>\n",
       "      <td>passed</td>\n",
       "      <td>0</td>\n",
       "      <td>0</td>\n",
       "      <td>0</td>\n",
       "      <td>[]</td>\n",
       "      <td>[]</td>\n",
       "      <td>[]</td>\n",
       "    </tr>\n",
       "    <tr>\n",
       "      <th>2</th>\n",
       "      <td>2</td>\n",
       "      <td>https://api.propublica.org/congress/v1/115/bil...</td>\n",
       "      <td>2017-01-12</td>\n",
       "      <td>45</td>\n",
       "      <td>0</td>\n",
       "      <td>2</td>\n",
       "      <td>0</td>\n",
       "      <td>1</td>\n",
       "      <td>1</td>\n",
       "      <td>51</td>\n",
       "      <td>...</td>\n",
       "      <td>E000285</td>\n",
       "      <td>R</td>\n",
       "      <td>Sen.</td>\n",
       "      <td>passed</td>\n",
       "      <td>0</td>\n",
       "      <td>0</td>\n",
       "      <td>0</td>\n",
       "      <td>[]</td>\n",
       "      <td>[]</td>\n",
       "      <td>[]</td>\n",
       "    </tr>\n",
       "    <tr>\n",
       "      <th>3</th>\n",
       "      <td>3</td>\n",
       "      <td>https://api.propublica.org/congress/v1/115/bil...</td>\n",
       "      <td>2017-01-12</td>\n",
       "      <td>0</td>\n",
       "      <td>45</td>\n",
       "      <td>0</td>\n",
       "      <td>2</td>\n",
       "      <td>1</td>\n",
       "      <td>49</td>\n",
       "      <td>2</td>\n",
       "      <td>...</td>\n",
       "      <td>E000285</td>\n",
       "      <td>R</td>\n",
       "      <td>Sen.</td>\n",
       "      <td>rejected</td>\n",
       "      <td>0</td>\n",
       "      <td>0</td>\n",
       "      <td>0</td>\n",
       "      <td>[]</td>\n",
       "      <td>[]</td>\n",
       "      <td>[]</td>\n",
       "    </tr>\n",
       "    <tr>\n",
       "      <th>4</th>\n",
       "      <td>4</td>\n",
       "      <td>https://api.propublica.org/congress/v1/115/bil...</td>\n",
       "      <td>2017-01-12</td>\n",
       "      <td>45</td>\n",
       "      <td>0</td>\n",
       "      <td>2</td>\n",
       "      <td>0</td>\n",
       "      <td>1</td>\n",
       "      <td>0</td>\n",
       "      <td>51</td>\n",
       "      <td>...</td>\n",
       "      <td>E000285</td>\n",
       "      <td>R</td>\n",
       "      <td>Sen.</td>\n",
       "      <td>rejected</td>\n",
       "      <td>0</td>\n",
       "      <td>0</td>\n",
       "      <td>0</td>\n",
       "      <td>[]</td>\n",
       "      <td>[]</td>\n",
       "      <td>[]</td>\n",
       "    </tr>\n",
       "    <tr>\n",
       "      <th>5</th>\n",
       "      <td>5</td>\n",
       "      <td>https://api.propublica.org/congress/v1/115/bil...</td>\n",
       "      <td>2017-01-12</td>\n",
       "      <td>0</td>\n",
       "      <td>45</td>\n",
       "      <td>0</td>\n",
       "      <td>2</td>\n",
       "      <td>1</td>\n",
       "      <td>49</td>\n",
       "      <td>2</td>\n",
       "      <td>...</td>\n",
       "      <td>E000285</td>\n",
       "      <td>R</td>\n",
       "      <td>Sen.</td>\n",
       "      <td>rejected</td>\n",
       "      <td>0</td>\n",
       "      <td>0</td>\n",
       "      <td>0</td>\n",
       "      <td>[]</td>\n",
       "      <td>[]</td>\n",
       "      <td>[]</td>\n",
       "    </tr>\n",
       "  </tbody>\n",
       "</table>\n",
       "<p>5 rows × 25 columns</p>\n",
       "</div>"
      ],
      "text/plain": [
       "   Unnamed: 0                                       bill_api_uri        date  \\\n",
       "1           1  https://api.propublica.org/congress/v1/115/bil...  2017-01-12   \n",
       "2           2  https://api.propublica.org/congress/v1/115/bil...  2017-01-12   \n",
       "3           3  https://api.propublica.org/congress/v1/115/bil...  2017-01-12   \n",
       "4           4  https://api.propublica.org/congress/v1/115/bil...  2017-01-12   \n",
       "5           5  https://api.propublica.org/congress/v1/115/bil...  2017-01-12   \n",
       "\n",
       "   democrats_no  democrats_yes  independent_no  independent_yes  month  \\\n",
       "1            16             30               1                1      1   \n",
       "2            45              0               2                0      1   \n",
       "3             0             45               0                2      1   \n",
       "4            45              0               2                0      1   \n",
       "5             0             45               0                2      1   \n",
       "\n",
       "   republican_no  republican_yes       ...       sponsor_id sponsor_party  \\\n",
       "1              0              50       ...          M000303             R   \n",
       "2              1              51       ...          E000285             R   \n",
       "3             49               2       ...          E000285             R   \n",
       "4              0              51       ...          E000285             R   \n",
       "5             49               2       ...          E000285             R   \n",
       "\n",
       "   sponsor_title result_ok nb_cosponsors_R nb_cosponsors_D nb_cosponsors_I  \\\n",
       "1           Sen.    passed               0               0               0   \n",
       "2           Sen.    passed               0               0               0   \n",
       "3           Sen.  rejected               0               0               0   \n",
       "4           Sen.  rejected               0               0               0   \n",
       "5           Sen.  rejected               0               0               0   \n",
       "\n",
       "  cosponsors_sen cosponsors_rep  cosponsors_del  \n",
       "1             []             []              []  \n",
       "2             []             []              []  \n",
       "3             []             []              []  \n",
       "4             []             []              []  \n",
       "5             []             []              []  \n",
       "\n",
       "[5 rows x 25 columns]"
      ]
     },
     "execution_count": 9,
     "metadata": {},
     "output_type": "execute_result"
    }
   ],
   "source": [
    "bills_sen.head()"
   ]
  },
  {
   "cell_type": "markdown",
   "metadata": {},
   "source": [
    "Create binary matrices indicating sponsorship (and cosponsorship):"
   ]
  },
  {
   "cell_type": "code",
   "execution_count": 10,
   "metadata": {},
   "outputs": [],
   "source": [
    "S = np.zeros((N_BILLS_SEN, N_SENATORS))\n",
    "for i, j in enumerate(bills_sen.cosponsors_sen):\n",
    "    S[i, list(members['member_id']).index(bills_sen.sponsor_id.iloc[i])] = 1"
   ]
  },
  {
   "cell_type": "code",
   "execution_count": 11,
   "metadata": {},
   "outputs": [
    {
     "data": {
      "image/png": "[encoded data removed]",
      "text/plain": [
       "<Figure size 432x288 with 1 Axes>"
      ]
     },
     "metadata": {},
     "output_type": "display_data"
    }
   ],
   "source": [
    "plt.spy(S)\n",
    "plt.title('Sponsorship')\n",
    "plt.xlabel('Senator')\n",
    "plt.ylabel('Bill-vote');"
   ]
  },
  {
   "cell_type": "code",
   "execution_count": 12,
   "metadata": {},
   "outputs": [],
   "source": [
    "CS = np.zeros((N_BILLS_SEN, N_SENATORS))\n",
    "for i, j in enumerate(bills_sen.cosponsors_sen):\n",
    "    for k, l in enumerate(bills_sen.cosponsors_sen.iloc[i]):\n",
    "        CS[i, list(members['member_id']).index(bills_sen.cosponsors_sen.iloc[i][k])] = 1"
   ]
  },
  {
   "cell_type": "code",
   "execution_count": 13,
   "metadata": {},
   "outputs": [
    {
     "data": {
      "image/png": "[encoded data removed]",
      "text/plain": [
       "<Figure size 432x288 with 1 Axes>"
      ]
     },
     "metadata": {},
     "output_type": "display_data"
    }
   ],
   "source": [
    "plt.spy(CS)\n",
    "plt.title('Cosponsorship')\n",
    "plt.xlabel('Senator')\n",
    "plt.ylabel('Bill-vote');"
   ]
  },
  {
   "cell_type": "code",
   "execution_count": 14,
   "metadata": {},
   "outputs": [],
   "source": [
    "Z = S + CS # sponsorship mask"
   ]
  },
  {
   "cell_type": "markdown",
   "metadata": {},
   "source": [
    "Get all votes for each bill-vote:"
   ]
  },
  {
   "cell_type": "code",
   "execution_count": 15,
   "metadata": {},
   "outputs": [],
   "source": [
    "Y=np.zeros((N_BILLS_SEN, N_SENATORS))\n",
    "\n",
    "for i, l in enumerate(list(bills_sen.vote_uri)):\n",
    "    votes = (members.merge(votes_115[votes_115.vote_uri == l], how='left'))\n",
    "    feature = votes.vote_position.apply(numeric_votes).values\n",
    "    Y[i] = feature"
   ]
  },
  {
   "cell_type": "markdown",
   "metadata": {},
   "source": [
    "Use as feature vector the voting profile for each senator:"
   ]
  },
  {
   "cell_type": "code",
   "execution_count": 17,
   "metadata": {},
   "outputs": [],
   "source": [
    "X = np.zeros((N_BILLS_SEN, N_SENATORS))\n",
    "X[Z==1]=Y[Z==1]"
   ]
  },
  {
   "cell_type": "code",
   "execution_count": 18,
   "metadata": {},
   "outputs": [
    {
     "name": "stdout",
     "output_type": "stream",
     "text": [
      "n = 78\n",
      "d = 105\n"
     ]
    }
   ],
   "source": [
    "n = X.shape[0]\n",
    "d = X.shape[1]\n",
    "\n",
    "print('n = {}\\nd = {}'.format(n, d))"
   ]
  },
  {
   "cell_type": "code",
   "execution_count": 19,
   "metadata": {},
   "outputs": [],
   "source": [
    "n_train = n//2\n",
    "n_val = n//10\n",
    "\n",
    "np.random.seed(321)\n",
    "perm_idx = np.random.permutation(n)\n",
    "X_train = X[perm_idx[:n_train]]\n",
    "X_val = X[perm_idx[n_train:n_train+n_val]]\n",
    "X_test = X[perm_idx[n_train+n_val:]]\n",
    "\n",
    "y_train = Y[perm_idx[:n_train]]\n",
    "y_val = Y[perm_idx[n_train:n_train+n_val]]\n",
    "y_test = Y[perm_idx[n_train+n_val:]]\n"
   ]
  },
  {
   "cell_type": "code",
   "execution_count": 20,
   "metadata": {},
   "outputs": [],
   "source": [
    "dist, idx = graph.distance_scipy_spatial(votes_matrix.T, k=20, metric='euclidean')\n",
    "A = graph.adjacency(dist, idx).astype(np.float32)"
   ]
  },
  {
   "cell_type": "code",
   "execution_count": 21,
   "metadata": {},
   "outputs": [
    {
     "name": "stdout",
     "output_type": "stream",
     "text": [
      "d = |V| = 105, k|V| < |E| = 2996\n"
     ]
    },
    {
     "data": {
      "image/png": "[encoded data removed]",
      "text/plain": [
       "<Figure size 720x720 with 1 Axes>"
      ]
     },
     "metadata": {},
     "output_type": "display_data"
    }
   ],
   "source": [
    "print('d = |V| = {}, k|V| < |E| = {}'.format(d, A.nnz))\n",
    "plt.figure(figsize=(10,10))\n",
    "plt.spy(A, markersize=2, color='black');"
   ]
  },
  {
   "cell_type": "code",
   "execution_count": 80,
   "metadata": {},
   "outputs": [
    {
     "name": "stdout",
     "output_type": "stream",
     "text": [
      "Layer 0: M_0 = |V| = 106 nodes (1 added),|E| = 1498 edges\n",
      "Layer 1: M_1 = |V| = 53 nodes (0 added),|E| = 533 edges\n"
     ]
    }
   ],
   "source": [
    "graphs, perm = coarsening.coarsen(A, levels=1, self_connections=False)\n",
    "\n",
    "X_train_ = coarsening.perm_data(X_train, perm)\n",
    "X_val_ = coarsening.perm_data(X_val, perm)\n",
    "X_test_ = coarsening.perm_data(X_test, perm)\n",
    "y_train_ = coarsening.perm_data(y_train, perm)\n",
    "y_val_ = coarsening.perm_data(y_val, perm)\n",
    "y_test_ = coarsening.perm_data(y_test, perm)"
   ]
  },
  {
   "cell_type": "code",
   "execution_count": 81,
   "metadata": {},
   "outputs": [],
   "source": [
    "L = [graph.laplacian(A, normalized=True) for A in graphs]"
   ]
  },
  {
   "cell_type": "markdown",
   "metadata": {},
   "source": [
    "## CNN"
   ]
  },
  {
   "cell_type": "markdown",
   "metadata": {},
   "source": [
    "CNN model was adapted for performing regression instead of classification (see file model_alt.py)."
   ]
  },
  {
   "cell_type": "code",
   "execution_count": 94,
   "metadata": {},
   "outputs": [],
   "source": [
    "params = dict()\n",
    "params['dir_name']       = 'demo'\n",
    "params['num_epochs']     = 200\n",
    "params['batch_size']     = 10\n",
    "params['eval_frequency'] = 40\n",
    "\n",
    "# Building blocks.\n",
    "params['filter']         = 'chebyshev5'\n",
    "params['brelu']          = 'b1relu'\n",
    "params['pool']           = 'apool1'\n",
    "\n",
    "# Number of classes.\n",
    "C = L[0].shape[0]\n",
    "\n",
    "# Architecture.\n",
    "params['F']              = [32, 64]  # Number of graph convolutional filters.\n",
    "params['p']              = [1, 1]  \n",
    "params['M']              = [C]  # Output dimensionality of fully connected layers.\n",
    "params['K']              = [4, 4]\n",
    "         \n",
    "# Optimization.\n",
    "params['regularization'] = 5e-4\n",
    "params['dropout']        = 1\n",
    "params['learning_rate']  = .1\n",
    "params['decay_rate']     = 0.95\n",
    "params['momentum']       = 0\n",
    "params['decay_steps']    = n_train / params['batch_size']"
   ]
  },
  {
   "cell_type": "markdown",
   "metadata": {},
   "source": [
    "Find optimal polynomial degree and learning rate (takes long):"
   ]
  },
  {
   "cell_type": "code",
   "execution_count": 26,
   "metadata": {},
   "outputs": [],
   "source": [
    "# poly_vec = np.arange(1, 10)\n",
    "# l_rate_vec = np.linspace(1e-2, 0.9, 20)\n",
    "# VAL_ACC = np.zeros((len(poly_vec), len(l_rate_vec)))\n",
    "# for i, k in enumerate(poly_vec):\n",
    "#     for j, l in enumerate(l_rate_vec):\n",
    "#         params['K'] = [k, k]\n",
    "#         params['learning_rate']  = l \n",
    "#         model = models_alt.cgcnn(L, **params)\n",
    "#         loss_train, loss_val, train_accs, val_accs, t_step = model.fit(X_train_, y_train_, X_val_, y_val_, False)\n",
    "#         VAL_ACC[i,j] = val_accs[-1]\n",
    "        "
   ]
  },
  {
   "cell_type": "code",
   "execution_count": 27,
   "metadata": {},
   "outputs": [],
   "source": [
    "val_acc_array = np.array(VAL_ACC)"
   ]
  },
  {
   "cell_type": "code",
   "execution_count": 28,
   "metadata": {},
   "outputs": [],
   "source": [
    "ind_max = np.unravel_index(np.argmax(val_acc_array, axis=None), val_acc_array.shape)"
   ]
  },
  {
   "cell_type": "code",
   "execution_count": 37,
   "metadata": {},
   "outputs": [
    {
     "name": "stdout",
     "output_type": "stream",
     "text": [
      "Max validation accuracy: 83.29 for a poly degree 2.00 and a learning rate 0.06\n"
     ]
    }
   ],
   "source": [
    "print('Max validation accuracy: {:.2f} for a poly degree {:.2f} and a learning rate {:.2f}'.format(val_acc_array[ind_max], poly_vec[ind_max[0]], l_rate_vec[ind_max[0]]))"
   ]
  },
  {
   "cell_type": "code",
   "execution_count": 123,
   "metadata": {},
   "outputs": [
    {
     "name": "stdout",
     "output_type": "stream",
     "text": [
      "NN architecture\n",
      "  input: M_0 = 106\n",
      "  layer 1: cgconv1\n",
      "    representation: M_0 * F_1 / p_1 = 106 * 32 / 1 = 3392\n",
      "    weights: F_0 * F_1 * K_1 = 1 * 32 * 2 = 64\n",
      "    biases: F_1 = 32\n",
      "  layer 2: cgconv2\n",
      "    representation: M_1 * F_2 / p_2 = 106 * 64 / 1 = 6784\n",
      "    weights: F_1 * F_2 * K_2 = 32 * 64 * 2 = 4096\n",
      "    biases: F_2 = 64\n",
      "  layer 3: logits\n",
      "    representation: M_3 = 106\n",
      "    weights: M_2 * M_3 = 6784 * 106 = 719104\n",
      "    biases: M_3 = 106\n",
      "step 40 / 780 (epoch 10.26 / 200):\n",
      "  learning_rate = 3.78e-02, loss_average = 1.86e+00\n",
      "  train loss: 1.79e+00, accuracy: 73.08\n",
      "  validation loss: 2.67e+00, accuracy: 48.25\n",
      "  time: 1s (wall 0s)\n",
      "step 80 / 780 (epoch 20.51 / 200):\n",
      "  learning_rate = 2.15e-02, loss_average = 1.54e+00\n",
      "  train loss: 1.51e+00, accuracy: 74.58\n",
      "  validation loss: 2.46e+00, accuracy: 43.13\n",
      "  time: 3s (wall 1s)\n",
      "step 120 / 780 (epoch 30.77 / 200):\n",
      "  learning_rate = 1.29e-02, loss_average = 1.31e+00\n",
      "  train loss: 1.28e+00, accuracy: 77.07\n",
      "  validation loss: 2.12e+00, accuracy: 52.02\n",
      "  time: 4s (wall 1s)\n",
      "step 160 / 780 (epoch 41.03 / 200):\n",
      "  learning_rate = 7.71e-03, loss_average = 1.15e+00\n",
      "  train loss: 1.10e+00, accuracy: 80.70\n",
      "  validation loss: 1.84e+00, accuracy: 62.80\n",
      "  time: 5s (wall 2s)\n",
      "step 200 / 780 (epoch 51.28 / 200):\n",
      "  learning_rate = 4.39e-03, loss_average = 9.96e-01\n",
      "  train loss: 9.71e-01, accuracy: 82.54\n",
      "  validation loss: 1.50e+00, accuracy: 72.64\n",
      "  time: 6s (wall 2s)\n",
      "step 240 / 780 (epoch 61.54 / 200):\n",
      "  learning_rate = 2.63e-03, loss_average = 8.74e-01\n",
      "  train loss: 8.74e-01, accuracy: 80.82\n",
      "  validation loss: 1.42e+00, accuracy: 66.31\n",
      "  time: 7s (wall 2s)\n",
      "step 280 / 780 (epoch 71.79 / 200):\n",
      "  learning_rate = 1.57e-03, loss_average = 7.82e-01\n",
      "  train loss: 7.62e-01, accuracy: 85.03\n",
      "  validation loss: 1.14e+00, accuracy: 77.22\n",
      "  time: 8s (wall 3s)\n",
      "step 320 / 780 (epoch 82.05 / 200):\n",
      "  learning_rate = 9.41e-04, loss_average = 6.87e-01\n",
      "  train loss: 6.78e-01, accuracy: 85.46\n",
      "  validation loss: 1.03e+00, accuracy: 74.53\n",
      "  time: 9s (wall 3s)\n",
      "step 360 / 780 (epoch 92.31 / 200):\n",
      "  learning_rate = 5.35e-04, loss_average = 6.09e-01\n",
      "  train loss: 6.10e-01, accuracy: 85.87\n",
      "  validation loss: 9.28e-01, accuracy: 76.42\n",
      "  time: 11s (wall 3s)\n",
      "step 400 / 780 (epoch 102.56 / 200):\n",
      "  learning_rate = 3.21e-04, loss_average = 5.62e-01\n",
      "  train loss: 5.54e-01, accuracy: 85.66\n",
      "  validation loss: 8.49e-01, accuracy: 78.98\n",
      "  time: 12s (wall 4s)\n",
      "step 440 / 780 (epoch 112.82 / 200):\n",
      "  learning_rate = 1.92e-04, loss_average = 5.11e-01\n",
      "  train loss: 5.07e-01, accuracy: 84.66\n",
      "  validation loss: 7.95e-01, accuracy: 74.80\n",
      "  time: 13s (wall 4s)\n",
      "step 480 / 780 (epoch 123.08 / 200):\n",
      "  learning_rate = 1.15e-04, loss_average = 4.62e-01\n",
      "  train loss: 4.59e-01, accuracy: 86.65\n",
      "  validation loss: 7.31e-01, accuracy: 79.38\n",
      "  time: 14s (wall 4s)\n",
      "step 520 / 780 (epoch 133.33 / 200):\n",
      "  learning_rate = 6.54e-05, loss_average = 4.42e-01\n",
      "  train loss: 4.24e-01, accuracy: 86.36\n",
      "  validation loss: 7.02e-01, accuracy: 78.98\n",
      "  time: 15s (wall 5s)\n",
      "step 560 / 780 (epoch 143.59 / 200):\n",
      "  learning_rate = 3.91e-05, loss_average = 3.73e-01\n",
      "  train loss: 3.94e-01, accuracy: 86.65\n",
      "  validation loss: 6.73e-01, accuracy: 77.63\n",
      "  time: 16s (wall 5s)\n",
      "step 600 / 780 (epoch 153.85 / 200):\n",
      "  learning_rate = 2.34e-05, loss_average = 3.72e-01\n",
      "  train loss: 3.63e-01, accuracy: 86.65\n",
      "  validation loss: 6.22e-01, accuracy: 79.65\n",
      "  time: 18s (wall 5s)\n",
      "step 640 / 780 (epoch 164.10 / 200):\n",
      "  learning_rate = 1.40e-05, loss_average = 3.44e-01\n",
      "  train loss: 3.40e-01, accuracy: 86.65\n",
      "  validation loss: 5.95e-01, accuracy: 79.25\n",
      "  time: 19s (wall 6s)\n",
      "step 680 / 780 (epoch 174.36 / 200):\n",
      "  learning_rate = 7.98e-06, loss_average = 3.24e-01\n",
      "  train loss: 3.21e-01, accuracy: 86.77\n",
      "  validation loss: 5.62e-01, accuracy: 79.38\n",
      "  time: 20s (wall 6s)\n",
      "step 720 / 780 (epoch 184.62 / 200):\n",
      "  learning_rate = 4.78e-06, loss_average = 3.13e-01\n",
      "  train loss: 3.01e-01, accuracy: 86.60\n",
      "  validation loss: 5.43e-01, accuracy: 80.59\n",
      "  time: 21s (wall 6s)\n",
      "step 760 / 780 (epoch 194.87 / 200):\n",
      "  learning_rate = 2.86e-06, loss_average = 2.60e-01\n",
      "  train loss: 2.87e-01, accuracy: 85.80\n",
      "  validation loss: 5.34e-01, accuracy: 79.51\n",
      "  time: 22s (wall 7s)\n",
      "step 780 / 780 (epoch 200.00 / 200):\n",
      "  learning_rate = 2.21e-06, loss_average = 2.82e-01\n",
      "  train loss: 2.78e-01, accuracy: 86.16\n",
      "  validation loss: 5.14e-01, accuracy: 80.32\n",
      "  time: 23s (wall 7s)\n",
      "validation loss: peak = 0.51, mean = 0.63\n"
     ]
    }
   ],
   "source": [
    "params['K'] = [2, 2]\n",
    "params['learning_rate']  = 0.06\n",
    "model = models_alt.cgcnn(L, **params)\n",
    "loss_train, loss_val, train_accs, val_accs, t_step = model.fit(X_train_, y_train_, X_val_, y_val_, True)"
   ]
  },
  {
   "cell_type": "code",
   "execution_count": 124,
   "metadata": {},
   "outputs": [
    {
     "data": {
      "image/png": "[encoded data removed]",
      "text/plain": [
       "<Figure size 1080x360 with 2 Axes>"
      ]
     },
     "metadata": {},
     "output_type": "display_data"
    }
   ],
   "source": [
    "fig, ax1 = plt.subplots(figsize=(15, 5))\n",
    "ax1.plot(loss_train, 'b.-')\n",
    "ax1.set_ylabel('Loss', color='b')\n",
    "ax1.plot(loss_val, 'b.:')\n",
    "ax1.legend(['Train', 'Validation'])\n",
    "ax2 = ax1.twinx()\n",
    "ax2.plot(train_accs, 'r.-')\n",
    "ax2.set_ylabel('Accuracy', color='r')\n",
    "ax2.plot(val_accs, 'r.:')\n",
    "ax2.legend(['Train', 'Validation'])\n",
    "\n",
    "plt.show()"
   ]
  },
  {
   "cell_type": "code",
   "execution_count": 125,
   "metadata": {},
   "outputs": [
    {
     "name": "stdout",
     "output_type": "stream",
     "text": [
      "INFO:tensorflow:Restoring parameters from /Users/virginiabordignon/US-Senators/notebooks/lib/../checkpoints/demo/model-780\n",
      "loss: 5.53e-01, accuracy: 76.74\n",
      "time: 0s (wall 0s)\n"
     ]
    }
   ],
   "source": [
    "res = model.evaluate(X_test_, y_test_)\n",
    "print(res[0])"
   ]
  },
  {
   "cell_type": "code",
   "execution_count": 126,
   "metadata": {},
   "outputs": [],
   "source": [
    "def eval_prediction(Pred):\n",
    "    Pred_bool = (Pred-Pred.mean(axis=1)[:,np.newaxis])>0\n",
    "    Pred[Pred_bool] = 1\n",
    "    Pred[~Pred_bool] = -1\n",
    "    return Pred\n",
    "\n",
    "def accuracy(pred, truth):\n",
    "    not_vot = np.not_equal(truth, 0)\n",
    "    a = np.equal(pred, truth)\n",
    "    acc=np.sum(a[not_vot])/np.size(truth[not_vot])\n",
    "    return acc"
   ]
  },
  {
   "cell_type": "code",
   "execution_count": 127,
   "metadata": {},
   "outputs": [
    {
     "name": "stdout",
     "output_type": "stream",
     "text": [
      "INFO:tensorflow:Restoring parameters from /Users/virginiabordignon/US-Senators/notebooks/lib/../checkpoints/demo/model-780\n",
      "INFO:tensorflow:Restoring parameters from /Users/virginiabordignon/US-Senators/notebooks/lib/../checkpoints/demo/model-780\n"
     ]
    }
   ],
   "source": [
    "Pred_train = model.predict(X_train_)\n",
    "Pred_test = model.predict(X_test_)\n",
    "Pred_train = eval_prediction(Pred_train)\n",
    "Pred_test = eval_prediction(Pred_test)\n"
   ]
  },
  {
   "cell_type": "code",
   "execution_count": 128,
   "metadata": {},
   "outputs": [],
   "source": [
    "from matplotlib.colors import ListedColormap\n",
    "mycmap = ListedColormap(['blue','white','red'])\n"
   ]
  },
  {
   "cell_type": "markdown",
   "metadata": {},
   "source": [
    "Votes color:\n",
    "- Red: Yes\n",
    "- Blue: No\n"
   ]
  },
  {
   "cell_type": "code",
   "execution_count": 129,
   "metadata": {},
   "outputs": [
    {
     "data": {
      "text/plain": [
       "Text(0.5,1,'Training truth')"
      ]
     },
     "execution_count": 129,
     "metadata": {},
     "output_type": "execute_result"
    },
    {
     "data": {
      "image/png": "[encoded data removed]",
      "text/plain": [
       "<Figure size 1440x720 with 3 Axes>"
      ]
     },
     "metadata": {},
     "output_type": "display_data"
    }
   ],
   "source": [
    "fig = plt.figure(figsize=(20,10))\n",
    "plt.subplot(1,3,1)\n",
    "plt.imshow(X_train, vmax = 1, vmin= -1, cmap = mycmap)\n",
    "plt.xlabel('Bill-vote #')\n",
    "plt.ylabel('Senator #')\n",
    "plt.title('Training data')\n",
    "plt.subplot(1,3,2)\n",
    "plt.imshow(Pred_train[:, np.argsort(perm)], vmax = 1, vmin= -1, cmap = mycmap)\n",
    "plt.xlabel('Bill-vote #')\n",
    "plt.ylabel('Senator #')\n",
    "plt.title('Training prediction')\n",
    "plt.subplot(1,3,3)\n",
    "plt.imshow(y_train, vmax = 1, vmin=-1, cmap = mycmap)\n",
    "plt.xlabel('Senator #')\n",
    "plt.ylabel('Bill-vote #')\n",
    "plt.title('Training truth')"
   ]
  },
  {
   "cell_type": "code",
   "execution_count": 130,
   "metadata": {},
   "outputs": [
    {
     "name": "stdout",
     "output_type": "stream",
     "text": [
      "Accuracy train:  0.9334381551362684\n"
     ]
    }
   ],
   "source": [
    "print('Accuracy train: ', accuracy(Pred_train,y_train_))"
   ]
  },
  {
   "cell_type": "code",
   "execution_count": 131,
   "metadata": {},
   "outputs": [
    {
     "data": {
      "image/png": "[encoded data removed]",
      "text/plain": [
       "<Figure size 1440x720 with 3 Axes>"
      ]
     },
     "metadata": {},
     "output_type": "display_data"
    }
   ],
   "source": [
    "plt.figure(figsize=(20,10))\n",
    "plt.subplot(1,3,1)\n",
    "plt.imshow(X_test, vmax = 1, vmin= -1, cmap = mycmap)\n",
    "plt.xlabel('Senator #')\n",
    "plt.ylabel('Bill-vote #')\n",
    "plt.title('Test data')\n",
    "plt.subplot(1,3,2)\n",
    "plt.imshow(Pred_test[:, np.argsort(perm)], vmax = 1, vmin= -1, cmap = mycmap)\n",
    "plt.xlabel('Senator #')\n",
    "plt.ylabel('Bill-vote #')\n",
    "plt.title('Test prediction')\n",
    "plt.subplot(1,3,3)\n",
    "plt.imshow(y_test, vmax = 1, vmin= -1, cmap = mycmap)\n",
    "plt.xlabel('Senator #')\n",
    "plt.ylabel('Bill-vote #')\n",
    "plt.title('Test truth');"
   ]
  },
  {
   "cell_type": "code",
   "execution_count": 132,
   "metadata": {},
   "outputs": [
    {
     "name": "stdout",
     "output_type": "stream",
     "text": [
      "Accuracy test:  0.8264593908629442\n"
     ]
    }
   ],
   "source": [
    "print('Accuracy test: ', accuracy(Pred_test,y_test_))"
   ]
  },
  {
   "cell_type": "code",
   "execution_count": null,
   "metadata": {},
   "outputs": [],
   "source": []
  }
 ],
 "metadata": {
  "kernelspec": {
   "display_name": "Python 3",
   "language": "python",
   "name": "python3"
  },
  "language_info": {
   "codemirror_mode": {
    "name": "ipython",
    "version": 3
   },
   "file_extension": ".py",
   "mimetype": "text/x-python",
   "name": "python",
   "nbconvert_exporter": "python",
   "pygments_lexer": "ipython3",
   "version": "3.6.5"
  }
 },
 "nbformat": 4,
 "nbformat_minor": 2
}
