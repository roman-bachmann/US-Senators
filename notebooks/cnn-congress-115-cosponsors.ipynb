{
 "cells": [
  {
   "cell_type": "markdown",
   "metadata": {},
   "source": [
    "# CNN - yet another model\n",
    "\n",
    "Consider senate number 115, this notebook aims to predict votes profile for a bill using the following information:\n",
    "1. Political party\n",
    "2. Cosponsors"
   ]
  },
  {
   "cell_type": "code",
   "execution_count": 28,
   "metadata": {},
   "outputs": [],
   "source": [
    "import os\n",
    "import pandas as pd\n",
    "pd.options.mode.chained_assignment = None\n",
    "\n",
    "import numpy as np\n",
    "import ast\n",
    "from scipy import sparse\n",
    "\n",
    "import matplotlib.pyplot as plt\n",
    "%matplotlib inline \n",
    "\n",
    "from lib import models, graph, coarsening, utils"
   ]
  },
  {
   "cell_type": "code",
   "execution_count": 29,
   "metadata": {},
   "outputs": [],
   "source": [
    "VOTES_115 = '../data/all-votes/votes_115.csv'\n",
    "BILLS_115 = '../data/bills_115.csv'\n",
    "ADJACENCY = '../data/adjacency_normalized.csv'"
   ]
  },
  {
   "cell_type": "code",
   "execution_count": 30,
   "metadata": {},
   "outputs": [],
   "source": [
    "all_bills = pd.read_csv(BILLS_115)\n",
    "votes_115 = pd.read_csv(VOTES_115)\n",
    "bills_sen = all_bills[all_bills.sponsor_title=='Sen.'] # bills sponsored by senators\n",
    "N_BILLS_SEN = bills_sen.shape[0]"
   ]
  },
  {
   "cell_type": "code",
   "execution_count": 31,
   "metadata": {},
   "outputs": [],
   "source": [
    "members_aux = pd.DataFrame(list(votes_115['member_id'].unique())).rename(columns={0: 'member_id'})\n",
    "members = members_aux.merge(votes_115.drop_duplicates(subset = 'member_id')[['member_id', 'party']], how='left').sort_values(['party', 'member_id'])\n",
    "N_SENATORS = len(members)"
   ]
  },
  {
   "cell_type": "code",
   "execution_count": 32,
   "metadata": {},
   "outputs": [],
   "source": [
    "for i,j in enumerate(bills_sen.cosponsors_sen):\n",
    "    bills_sen.cosponsors_sen.iloc[i] = ast.literal_eval(j)"
   ]
  },
  {
   "cell_type": "code",
   "execution_count": 33,
   "metadata": {},
   "outputs": [
    {
     "data": {
      "text/html": [
       "<div>\n",
       "<style scoped>\n",
       "    .dataframe tbody tr th:only-of-type {\n",
       "        vertical-align: middle;\n",
       "    }\n",
       "\n",
       "    .dataframe tbody tr th {\n",
       "        vertical-align: top;\n",
       "    }\n",
       "\n",
       "    .dataframe thead th {\n",
       "        text-align: right;\n",
       "    }\n",
       "</style>\n",
       "<table border=\"1\" class=\"dataframe\">\n",
       "  <thead>\n",
       "    <tr style=\"text-align: right;\">\n",
       "      <th></th>\n",
       "      <th>Unnamed: 0</th>\n",
       "      <th>bill_api_uri</th>\n",
       "      <th>date</th>\n",
       "      <th>democrats_no</th>\n",
       "      <th>democrats_yes</th>\n",
       "      <th>independent_no</th>\n",
       "      <th>independent_yes</th>\n",
       "      <th>month</th>\n",
       "      <th>republican_no</th>\n",
       "      <th>republican_yes</th>\n",
       "      <th>...</th>\n",
       "      <th>sponsor_id</th>\n",
       "      <th>sponsor_party</th>\n",
       "      <th>sponsor_title</th>\n",
       "      <th>result_ok</th>\n",
       "      <th>nb_cosponsors_R</th>\n",
       "      <th>nb_cosponsors_D</th>\n",
       "      <th>nb_cosponsors_I</th>\n",
       "      <th>cosponsors_sen</th>\n",
       "      <th>cosponsors_rep</th>\n",
       "      <th>cosponsors_del</th>\n",
       "    </tr>\n",
       "  </thead>\n",
       "  <tbody>\n",
       "    <tr>\n",
       "      <th>1</th>\n",
       "      <td>1</td>\n",
       "      <td>https://api.propublica.org/congress/v1/115/bil...</td>\n",
       "      <td>2017-01-12</td>\n",
       "      <td>16</td>\n",
       "      <td>30</td>\n",
       "      <td>1</td>\n",
       "      <td>1</td>\n",
       "      <td>1</td>\n",
       "      <td>0</td>\n",
       "      <td>50</td>\n",
       "      <td>...</td>\n",
       "      <td>M000303</td>\n",
       "      <td>R</td>\n",
       "      <td>Sen.</td>\n",
       "      <td>passed</td>\n",
       "      <td>0</td>\n",
       "      <td>0</td>\n",
       "      <td>0</td>\n",
       "      <td>[]</td>\n",
       "      <td>[]</td>\n",
       "      <td>[]</td>\n",
       "    </tr>\n",
       "    <tr>\n",
       "      <th>2</th>\n",
       "      <td>3</td>\n",
       "      <td>https://api.propublica.org/congress/v1/115/bil...</td>\n",
       "      <td>2017-01-12</td>\n",
       "      <td>0</td>\n",
       "      <td>45</td>\n",
       "      <td>0</td>\n",
       "      <td>2</td>\n",
       "      <td>1</td>\n",
       "      <td>49</td>\n",
       "      <td>2</td>\n",
       "      <td>...</td>\n",
       "      <td>E000285</td>\n",
       "      <td>R</td>\n",
       "      <td>Sen.</td>\n",
       "      <td>rejected</td>\n",
       "      <td>0</td>\n",
       "      <td>0</td>\n",
       "      <td>0</td>\n",
       "      <td>[]</td>\n",
       "      <td>[]</td>\n",
       "      <td>[]</td>\n",
       "    </tr>\n",
       "    <tr>\n",
       "      <th>3</th>\n",
       "      <td>4</td>\n",
       "      <td>https://api.propublica.org/congress/v1/115/bil...</td>\n",
       "      <td>2017-01-12</td>\n",
       "      <td>45</td>\n",
       "      <td>0</td>\n",
       "      <td>2</td>\n",
       "      <td>0</td>\n",
       "      <td>1</td>\n",
       "      <td>0</td>\n",
       "      <td>51</td>\n",
       "      <td>...</td>\n",
       "      <td>E000285</td>\n",
       "      <td>R</td>\n",
       "      <td>Sen.</td>\n",
       "      <td>rejected</td>\n",
       "      <td>0</td>\n",
       "      <td>0</td>\n",
       "      <td>0</td>\n",
       "      <td>[]</td>\n",
       "      <td>[]</td>\n",
       "      <td>[]</td>\n",
       "    </tr>\n",
       "    <tr>\n",
       "      <th>4</th>\n",
       "      <td>5</td>\n",
       "      <td>https://api.propublica.org/congress/v1/115/bil...</td>\n",
       "      <td>2017-01-12</td>\n",
       "      <td>0</td>\n",
       "      <td>45</td>\n",
       "      <td>0</td>\n",
       "      <td>2</td>\n",
       "      <td>1</td>\n",
       "      <td>49</td>\n",
       "      <td>2</td>\n",
       "      <td>...</td>\n",
       "      <td>E000285</td>\n",
       "      <td>R</td>\n",
       "      <td>Sen.</td>\n",
       "      <td>rejected</td>\n",
       "      <td>0</td>\n",
       "      <td>0</td>\n",
       "      <td>0</td>\n",
       "      <td>[]</td>\n",
       "      <td>[]</td>\n",
       "      <td>[]</td>\n",
       "    </tr>\n",
       "    <tr>\n",
       "      <th>5</th>\n",
       "      <td>6</td>\n",
       "      <td>https://api.propublica.org/congress/v1/115/bil...</td>\n",
       "      <td>2017-01-11</td>\n",
       "      <td>44</td>\n",
       "      <td>1</td>\n",
       "      <td>2</td>\n",
       "      <td>0</td>\n",
       "      <td>1</td>\n",
       "      <td>0</td>\n",
       "      <td>51</td>\n",
       "      <td>...</td>\n",
       "      <td>E000285</td>\n",
       "      <td>R</td>\n",
       "      <td>Sen.</td>\n",
       "      <td>rejected</td>\n",
       "      <td>0</td>\n",
       "      <td>0</td>\n",
       "      <td>0</td>\n",
       "      <td>[]</td>\n",
       "      <td>[]</td>\n",
       "      <td>[]</td>\n",
       "    </tr>\n",
       "  </tbody>\n",
       "</table>\n",
       "<p>5 rows × 25 columns</p>\n",
       "</div>"
      ],
      "text/plain": [
       "   Unnamed: 0                                       bill_api_uri        date  \\\n",
       "1           1  https://api.propublica.org/congress/v1/115/bil...  2017-01-12   \n",
       "2           3  https://api.propublica.org/congress/v1/115/bil...  2017-01-12   \n",
       "3           4  https://api.propublica.org/congress/v1/115/bil...  2017-01-12   \n",
       "4           5  https://api.propublica.org/congress/v1/115/bil...  2017-01-12   \n",
       "5           6  https://api.propublica.org/congress/v1/115/bil...  2017-01-11   \n",
       "\n",
       "   democrats_no  democrats_yes  independent_no  independent_yes  month  \\\n",
       "1            16             30               1                1      1   \n",
       "2             0             45               0                2      1   \n",
       "3            45              0               2                0      1   \n",
       "4             0             45               0                2      1   \n",
       "5            44              1               2                0      1   \n",
       "\n",
       "   republican_no  republican_yes       ...       sponsor_id sponsor_party  \\\n",
       "1              0              50       ...          M000303             R   \n",
       "2             49               2       ...          E000285             R   \n",
       "3              0              51       ...          E000285             R   \n",
       "4             49               2       ...          E000285             R   \n",
       "5              0              51       ...          E000285             R   \n",
       "\n",
       "   sponsor_title result_ok nb_cosponsors_R nb_cosponsors_D nb_cosponsors_I  \\\n",
       "1           Sen.    passed               0               0               0   \n",
       "2           Sen.  rejected               0               0               0   \n",
       "3           Sen.  rejected               0               0               0   \n",
       "4           Sen.  rejected               0               0               0   \n",
       "5           Sen.  rejected               0               0               0   \n",
       "\n",
       "  cosponsors_sen cosponsors_rep  cosponsors_del  \n",
       "1             []             []              []  \n",
       "2             []             []              []  \n",
       "3             []             []              []  \n",
       "4             []             []              []  \n",
       "5             []             []              []  \n",
       "\n",
       "[5 rows x 25 columns]"
      ]
     },
     "execution_count": 33,
     "metadata": {},
     "output_type": "execute_result"
    }
   ],
   "source": [
    "bills_sen.head()"
   ]
  },
  {
   "cell_type": "markdown",
   "metadata": {},
   "source": [
    "Create binary matrices indicating sponsorship (and cosponsorship):"
   ]
  },
  {
   "cell_type": "code",
   "execution_count": 34,
   "metadata": {},
   "outputs": [],
   "source": [
    "S = np.zeros((N_BILLS_SEN, N_SENATORS))\n",
    "for i, j in enumerate(bills_sen.cosponsors_sen):\n",
    "    S[i, list(members['member_id']).index(bills_sen.sponsor_id.iloc[i])] = 1"
   ]
  },
  {
   "cell_type": "code",
   "execution_count": 35,
   "metadata": {},
   "outputs": [
    {
     "data": {
      "image/png": "[encoded data removed]",
      "text/plain": [
       "<Figure size 432x288 with 1 Axes>"
      ]
     },
     "metadata": {},
     "output_type": "display_data"
    }
   ],
   "source": [
    "plt.spy(S)\n",
    "plt.title('Sponsorship')\n",
    "plt.xlabel('Senator')\n",
    "plt.ylabel('Bill-vote');"
   ]
  },
  {
   "cell_type": "code",
   "execution_count": 36,
   "metadata": {},
   "outputs": [],
   "source": [
    "CS = np.zeros((N_BILLS_SEN, N_SENATORS))\n",
    "for i, j in enumerate(bills_sen.cosponsors_sen):\n",
    "    for k, l in enumerate(bills_sen.cosponsors_sen.iloc[i]):\n",
    "        CS[i, list(members['member_id']).index(bills_sen.cosponsors_sen.iloc[i][k])] = 1"
   ]
  },
  {
   "cell_type": "code",
   "execution_count": 37,
   "metadata": {},
   "outputs": [
    {
     "data": {
      "image/png": "[encoded data removed]",
      "text/plain": [
       "<Figure size 432x288 with 1 Axes>"
      ]
     },
     "metadata": {},
     "output_type": "display_data"
    }
   ],
   "source": [
    "plt.spy(CS)\n",
    "plt.title('Cosponsorship')\n",
    "plt.xlabel('Senator')\n",
    "plt.ylabel('Bill-vote');"
   ]
  },
  {
   "cell_type": "code",
   "execution_count": 38,
   "metadata": {},
   "outputs": [],
   "source": [
    "Z = S + CS # sponsorship mask"
   ]
  },
  {
   "cell_type": "code",
   "execution_count": 39,
   "metadata": {},
   "outputs": [],
   "source": [
    "def numeric_votes(x):\n",
    "    if x == 'Yes':\n",
    "        return 1\n",
    "    elif x == 'Not Voting' or pd.isnull(x):\n",
    "        return 2 # we can put np.nan and then fill with the median or mean, whatever for now\n",
    "    else:\n",
    "        return 0"
   ]
  },
  {
   "cell_type": "markdown",
   "metadata": {},
   "source": [
    "Get all votes for each bill-vote:"
   ]
  },
  {
   "cell_type": "code",
   "execution_count": 40,
   "metadata": {},
   "outputs": [],
   "source": [
    "Y=np.zeros((N_BILLS_SEN, N_SENATORS))\n",
    "\n",
    "for i, l in enumerate(list(bills_sen.vote_uri)):\n",
    "    votes = (members.merge(votes_115[votes_115.vote_uri == l], how='left'))\n",
    "    feature = votes.vote_position.apply(numeric_votes).values\n",
    "    Y[i] = feature"
   ]
  },
  {
   "cell_type": "markdown",
   "metadata": {},
   "source": [
    "Use as feature number 1 only the votes for sponsors:"
   ]
  },
  {
   "cell_type": "code",
   "execution_count": 41,
   "metadata": {},
   "outputs": [],
   "source": [
    "X_aux = -np.ones((N_BILLS_SEN, N_SENATORS))\n",
    "X_aux[Z==1]=Y[Z==1]"
   ]
  },
  {
   "cell_type": "markdown",
   "metadata": {},
   "source": [
    "Use as feature number 2 only the parties:"
   ]
  },
  {
   "cell_type": "code",
   "execution_count": 42,
   "metadata": {},
   "outputs": [],
   "source": [
    "Y1 = votes.party.values\n",
    "Y1[Y1=='D']=0\n",
    "Y1[Y1=='R']=1\n",
    "Y1[Y1=='I']=2"
   ]
  },
  {
   "cell_type": "markdown",
   "metadata": {},
   "source": [
    "Matrix $X$, used for training and validation, consists of 2 features:\n",
    "1. Sponsors voting profile for 3 bill-votes\n",
    "2. Political parties for each sponsor "
   ]
  },
  {
   "cell_type": "code",
   "execution_count": 43,
   "metadata": {},
   "outputs": [
    {
     "data": {
      "text/plain": [
       "(315, 2)"
      ]
     },
     "execution_count": 43,
     "metadata": {},
     "output_type": "execute_result"
    }
   ],
   "source": [
    "X = np.array([X_aux[39:42].flatten(), np.kron(np.ones(3), Y1)]).T\n",
    "y = Y[39:42].flatten()\n",
    "X.shape"
   ]
  },
  {
   "cell_type": "markdown",
   "metadata": {},
   "source": [
    "Matrix $X_{test}$, used for test, consists of the same features for another bill-vote:"
   ]
  },
  {
   "cell_type": "code",
   "execution_count": 44,
   "metadata": {},
   "outputs": [],
   "source": [
    "X_test0 = np.array([X_aux[42:43].flatten(), np.kron(np.ones(1), Y1)]).T\n",
    "y_test  = Y[42:43].flatten()"
   ]
  },
  {
   "cell_type": "code",
   "execution_count": 45,
   "metadata": {},
   "outputs": [
    {
     "name": "stdout",
     "output_type": "stream",
     "text": [
      "n = 315\n",
      "d = 2\n"
     ]
    }
   ],
   "source": [
    "n = X.shape[0]\n",
    "d = X.shape[1]\n",
    "\n",
    "print('n = {}\\nd = {}'.format(n, d))"
   ]
  },
  {
   "cell_type": "code",
   "execution_count": 46,
   "metadata": {},
   "outputs": [],
   "source": [
    "n_train = int(.8 * n)\n",
    "\n",
    "perm = np.random.permutation(n)\n",
    "X_train0 = X[perm[:n_train]]\n",
    "X_val0   = X[perm[n_train:]]\n",
    "\n",
    "y_train = y[perm[:n_train]]\n",
    "y_val   = y[perm[n_train:]]"
   ]
  },
  {
   "cell_type": "code",
   "execution_count": 47,
   "metadata": {},
   "outputs": [
    {
     "name": "stdout",
     "output_type": "stream",
     "text": [
      "d = |V| = 2, k|V| < |E| = 4492\n"
     ]
    },
    {
     "data": {
      "image/png": "[encoded data removed]",
      "text/plain": [
       "<Figure size 720x720 with 1 Axes>"
      ]
     },
     "metadata": {},
     "output_type": "display_data"
    }
   ],
   "source": [
    "dist, idx = graph.distance_scipy_spatial(X_train0, k=10, metric='euclidean')\n",
    "A = graph.adjacency(dist, idx).astype(np.float32)\n",
    "assert A.shape == (n_train, n_train)\n",
    "print('d = |V| = {}, k|V| < |E| = {}'.format(d, A.nnz))\n",
    "plt.figure(figsize=(10,10))\n",
    "plt.spy(A, markersize=2, color='black');"
   ]
  },
  {
   "cell_type": "code",
   "execution_count": 48,
   "metadata": {},
   "outputs": [
    {
     "name": "stdout",
     "output_type": "stream",
     "text": [
      "Layer 0: M_0 = |V| = 1200 nodes (948 added),|E| = 2246 edges\n",
      "Layer 1: M_1 = |V| = 600 nodes (385 added),|E| = 1902 edges\n",
      "Layer 2: M_2 = |V| = 300 nodes (120 added),|E| = 1588 edges\n",
      "Layer 3: M_3 = |V| = 150 nodes (0 added),|E| = 1307 edges\n"
     ]
    }
   ],
   "source": [
    "graphs, perm = coarsening.coarsen(A, levels=3, self_connections=False)\n",
    "\n",
    "X_train = coarsening.perm_data(X_train0, perm)\n",
    "X_val = coarsening.perm_data(X_val0, perm)\n",
    "X_test = coarsening.perm_data(X_test0, perm)"
   ]
  },
  {
   "cell_type": "code",
   "execution_count": 49,
   "metadata": {},
   "outputs": [],
   "source": [
    "L = [graph.laplacian(A, normalized=True) for A in graphs]"
   ]
  },
  {
   "cell_type": "code",
   "execution_count": 50,
   "metadata": {},
   "outputs": [],
   "source": [
    "params = dict()\n",
    "params['dir_name']       = 'demo'\n",
    "params['num_epochs']     = 40\n",
    "params['batch_size']     = 10 # changed\n",
    "params['eval_frequency'] = 50 # changed\n",
    "\n",
    "# Building blocks.\n",
    "params['filter']         = 'chebyshev5'\n",
    "params['brelu']          = 'b1relu'\n",
    "params['pool']           = 'apool1'\n",
    "\n",
    "# Number of classes.\n",
    "C = y.max() + 1\n",
    "assert C == np.unique(y).size\n",
    "\n",
    "# Architecture.\n",
    "params['F']              = [32, 64]  # Number of graph convolutional filters.\n",
    "params['K']              = [20, 20]  # Polynomial orders.\n",
    "params['p']              = [4, 2]    # Pooling sizes.\n",
    "params['M']              = [512, C]  # Output dimensionality of fully connected layers.\n",
    "\n",
    "# Optimization.\n",
    "params['regularization'] = 5e-4\n",
    "params['dropout']        = 1 # changed\n",
    "params['learning_rate']  = 1e-3\n",
    "params['decay_rate']     = 0.95\n",
    "params['momentum']       = 0.9\n",
    "params['decay_steps']    = n_train / params['batch_size']"
   ]
  },
  {
   "cell_type": "code",
   "execution_count": 51,
   "metadata": {},
   "outputs": [
    {
     "name": "stdout",
     "output_type": "stream",
     "text": [
      "NN architecture\n",
      "  input: M_0 = 1200\n",
      "  layer 1: cgconv1\n",
      "    representation: M_0 * F_1 / p_1 = 1200 * 32 / 4 = 9600\n",
      "    weights: F_0 * F_1 * K_1 = 1 * 32 * 20 = 640\n",
      "    biases: F_1 = 32\n",
      "  layer 2: cgconv2\n",
      "    representation: M_1 * F_2 / p_2 = 300 * 64 / 2 = 9600\n",
      "    weights: F_1 * F_2 * K_2 = 32 * 64 * 20 = 40960\n",
      "    biases: F_2 = 64\n",
      "  layer 3: fc1\n",
      "    representation: M_3 = 512\n",
      "    weights: M_2 * M_3 = 9600 * 512 = 4915200\n",
      "    biases: M_3 = 512\n",
      "  layer 4: logits (softmax)\n",
      "    representation: M_4 = 3.0\n",
      "    weights: M_3 * M_4 = 512 * 3.0 = 1536.0\n",
      "    biases: M_4 = 3.0\n",
      "step 50 / 1008 (epoch 1.98 / 40):\n",
      "  learning_rate = 9.50e-04, loss_average = 1.06e+01\n"
     ]
    },
    {
     "name": "stderr",
     "output_type": "stream",
     "text": [
      "/anaconda3/lib/python3.6/site-packages/sklearn/metrics/classification.py:1143: UndefinedMetricWarning: F-score is ill-defined and being set to 0.0 in labels with no predicted samples.\n",
      "  'precision', 'predicted', average, warn_for)\n"
     ]
    },
    {
     "name": "stdout",
     "output_type": "stream",
     "text": [
      "  validation accuracy: 31.75 (20 / 63), f1 (weighted): 15.30, loss: 1.16e+01\n",
      "  time: 23s (wall 5s)\n",
      "step 100 / 1008 (epoch 3.97 / 40):\n",
      "  learning_rate = 8.57e-04, loss_average = 1.04e+01\n",
      "  validation accuracy: 31.75 (20 / 63), f1 (weighted): 15.30, loss: 1.16e+01\n",
      "  time: 47s (wall 11s)\n",
      "step 150 / 1008 (epoch 5.95 / 40):\n",
      "  learning_rate = 7.74e-04, loss_average = 1.04e+01\n",
      "  validation accuracy: 61.90 (39 / 63), f1 (weighted): 47.34, loss: 1.15e+01\n",
      "  time: 70s (wall 16s)\n",
      "step 200 / 1008 (epoch 7.94 / 40):\n",
      "  learning_rate = 6.98e-04, loss_average = 1.03e+01\n",
      "  validation accuracy: 61.90 (39 / 63), f1 (weighted): 47.34, loss: 1.15e+01\n",
      "  time: 93s (wall 21s)\n",
      "step 250 / 1008 (epoch 9.92 / 40):\n",
      "  learning_rate = 6.30e-04, loss_average = 1.03e+01\n",
      "  validation accuracy: 76.19 (48 / 63), f1 (weighted): 74.44, loss: 1.15e+01\n",
      "  time: 116s (wall 26s)\n",
      "step 300 / 1008 (epoch 11.90 / 40):\n",
      "  learning_rate = 5.69e-04, loss_average = 1.04e+01\n",
      "  validation accuracy: 53.97 (34 / 63), f1 (weighted): 51.11, loss: 1.15e+01\n",
      "  time: 139s (wall 31s)\n",
      "step 350 / 1008 (epoch 13.89 / 40):\n",
      "  learning_rate = 5.13e-04, loss_average = 1.03e+01\n",
      "  validation accuracy: 61.90 (39 / 63), f1 (weighted): 47.34, loss: 1.15e+01\n",
      "  time: 163s (wall 36s)\n",
      "step 400 / 1008 (epoch 15.87 / 40):\n",
      "  learning_rate = 4.63e-04, loss_average = 1.03e+01\n",
      "  validation accuracy: 76.19 (48 / 63), f1 (weighted): 74.44, loss: 1.15e+01\n",
      "  time: 186s (wall 40s)\n",
      "step 450 / 1008 (epoch 17.86 / 40):\n",
      "  learning_rate = 4.18e-04, loss_average = 1.03e+01\n",
      "  validation accuracy: 61.90 (39 / 63), f1 (weighted): 47.34, loss: 1.15e+01\n",
      "  time: 209s (wall 45s)\n",
      "step 500 / 1008 (epoch 19.84 / 40):\n",
      "  learning_rate = 3.77e-04, loss_average = 1.03e+01\n",
      "  validation accuracy: 61.90 (39 / 63), f1 (weighted): 47.34, loss: 1.14e+01\n",
      "  time: 231s (wall 50s)\n",
      "step 550 / 1008 (epoch 21.83 / 40):\n",
      "  learning_rate = 3.41e-04, loss_average = 1.03e+01\n",
      "  validation accuracy: 61.90 (39 / 63), f1 (weighted): 47.34, loss: 1.15e+01\n",
      "  time: 254s (wall 55s)\n",
      "step 600 / 1008 (epoch 23.81 / 40):\n",
      "  learning_rate = 3.07e-04, loss_average = 1.03e+01\n",
      "  validation accuracy: 61.90 (39 / 63), f1 (weighted): 47.34, loss: 1.15e+01\n",
      "  time: 277s (wall 60s)\n",
      "step 650 / 1008 (epoch 25.79 / 40):\n",
      "  learning_rate = 2.77e-04, loss_average = 1.03e+01\n",
      "  validation accuracy: 61.90 (39 / 63), f1 (weighted): 47.34, loss: 1.15e+01\n",
      "  time: 300s (wall 65s)\n",
      "step 700 / 1008 (epoch 27.78 / 40):\n",
      "  learning_rate = 2.50e-04, loss_average = 1.03e+01\n",
      "  validation accuracy: 61.90 (39 / 63), f1 (weighted): 47.34, loss: 1.15e+01\n",
      "  time: 324s (wall 70s)\n",
      "step 750 / 1008 (epoch 29.76 / 40):\n",
      "  learning_rate = 2.26e-04, loss_average = 1.03e+01\n",
      "  validation accuracy: 76.19 (48 / 63), f1 (weighted): 74.44, loss: 1.14e+01\n",
      "  time: 347s (wall 75s)\n",
      "step 800 / 1008 (epoch 31.75 / 40):\n",
      "  learning_rate = 2.04e-04, loss_average = 1.03e+01\n",
      "  validation accuracy: 61.90 (39 / 63), f1 (weighted): 47.34, loss: 1.14e+01\n",
      "  time: 370s (wall 80s)\n",
      "step 850 / 1008 (epoch 33.73 / 40):\n",
      "  learning_rate = 1.84e-04, loss_average = 1.03e+01\n",
      "  validation accuracy: 61.90 (39 / 63), f1 (weighted): 47.34, loss: 1.14e+01\n",
      "  time: 394s (wall 85s)\n",
      "step 900 / 1008 (epoch 35.71 / 40):\n",
      "  learning_rate = 1.66e-04, loss_average = 1.02e+01\n",
      "  validation accuracy: 61.90 (39 / 63), f1 (weighted): 47.34, loss: 1.14e+01\n",
      "  time: 417s (wall 90s)\n",
      "step 950 / 1008 (epoch 37.70 / 40):\n",
      "  learning_rate = 1.50e-04, loss_average = 1.03e+01\n",
      "  validation accuracy: 61.90 (39 / 63), f1 (weighted): 47.34, loss: 1.14e+01\n",
      "  time: 440s (wall 95s)\n",
      "step 1000 / 1008 (epoch 39.68 / 40):\n",
      "  learning_rate = 1.35e-04, loss_average = 1.03e+01\n",
      "  validation accuracy: 76.19 (48 / 63), f1 (weighted): 74.44, loss: 1.14e+01\n",
      "  time: 463s (wall 100s)\n",
      "step 1008 / 1008 (epoch 40.00 / 40):\n",
      "  learning_rate = 1.35e-04, loss_average = 1.03e+01\n",
      "  validation accuracy: 61.90 (39 / 63), f1 (weighted): 47.34, loss: 1.14e+01\n",
      "  time: 469s (wall 102s)\n",
      "validation accuracy: peak = 76.19, mean = 64.76\n"
     ]
    }
   ],
   "source": [
    "model = models.cgcnn(L, **params)\n",
    "accuracy, loss, t_step = model.fit(X_train, y_train, X_val, y_val)"
   ]
  },
  {
   "cell_type": "code",
   "execution_count": 52,
   "metadata": {},
   "outputs": [
    {
     "data": {
      "image/png": "[encoded data removed]",
      "text/plain": [
       "<Figure size 1080x360 with 2 Axes>"
      ]
     },
     "metadata": {},
     "output_type": "display_data"
    }
   ],
   "source": [
    "fig, ax1 = plt.subplots(figsize=(15, 5))\n",
    "ax1.plot(accuracy, 'b.-')\n",
    "ax1.set_ylabel('validation accuracy', color='b')\n",
    "ax2 = ax1.twinx()\n",
    "ax2.plot(loss, 'g.-')\n",
    "ax2.set_ylabel('training loss', color='g')\n",
    "plt.show()"
   ]
  },
  {
   "cell_type": "code",
   "execution_count": 53,
   "metadata": {},
   "outputs": [
    {
     "name": "stdout",
     "output_type": "stream",
     "text": [
      "INFO:tensorflow:Restoring parameters from /Users/virginiabordignon/US-Senators/notebooks/lib/../checkpoints/demo/model-1008\n",
      "accuracy: 64.76 (68 / 105), f1 (weighted): 51.85, loss: 1.08e+01\n",
      "time: 3s (wall 1s)\n"
     ]
    },
    {
     "name": "stderr",
     "output_type": "stream",
     "text": [
      "/anaconda3/lib/python3.6/site-packages/sklearn/metrics/classification.py:1143: UndefinedMetricWarning: F-score is ill-defined and being set to 0.0 in labels with no predicted samples.\n",
      "  'precision', 'predicted', average, warn_for)\n"
     ]
    }
   ],
   "source": [
    "res = model.evaluate(X_test, y_test)\n",
    "print(res[0])"
   ]
  }
 ],
 "metadata": {
  "kernelspec": {
   "display_name": "Python 3",
   "language": "python",
   "name": "python3"
  },
  "language_info": {
   "codemirror_mode": {
    "name": "ipython",
    "version": 3
   },
   "file_extension": ".py",
   "mimetype": "text/x-python",
   "name": "python",
   "nbconvert_exporter": "python",
   "pygments_lexer": "ipython3",
   "version": "3.6.5"
  }
 },
 "nbformat": 4,
 "nbformat_minor": 2
}
