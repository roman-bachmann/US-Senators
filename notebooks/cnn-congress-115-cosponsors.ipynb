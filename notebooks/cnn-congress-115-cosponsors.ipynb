{
 "cells": [
  {
   "cell_type": "markdown",
   "metadata": {},
   "source": [
    "# Sponsorship models\n",
    "\n",
    "Consider senate number 115, this notebook aims to predict votes profile for a bill using the sponsors' votes information.\n",
    "\n",
    "Any other information on each senator can be encoded on a similarity graph."
   ]
  },
  {
   "cell_type": "code",
   "execution_count": 1,
   "metadata": {},
   "outputs": [],
   "source": [
    "import os\n",
    "import pandas as pd\n",
    "pd.options.mode.chained_assignment = None\n",
    "\n",
    "import numpy as np\n",
    "import ast\n",
    "from scipy import sparse\n",
    "\n",
    "import matplotlib.pyplot as plt\n",
    "%matplotlib inline \n",
    "%load_ext autoreload\n",
    "%autoreload\n",
    "\n",
    "from lib import models_alt, graph, coarsening, utils"
   ]
  },
  {
   "cell_type": "code",
   "execution_count": 2,
   "metadata": {},
   "outputs": [],
   "source": [
    "VOTES_115 = '../data/all-votes/votes_115.csv'\n",
    "BILLS_115 = '../data/bills_115.csv'\n",
    "ADJACENCY = '../data/adjacency.csv'"
   ]
  },
  {
   "cell_type": "code",
   "execution_count": 3,
   "metadata": {},
   "outputs": [],
   "source": [
    "all_bills = pd.read_csv(BILLS_115)\n",
    "votes_115 = pd.read_csv(VOTES_115)\n",
    "bills_sen = all_bills[all_bills.sponsor_title=='Sen.'] # bills sponsored by senators\n",
    "N_BILLS_SEN = bills_sen.shape[0]"
   ]
  },
  {
   "cell_type": "code",
   "execution_count": 4,
   "metadata": {},
   "outputs": [],
   "source": [
    "members_aux = pd.DataFrame(list(votes_115['member_id'].unique())).rename(columns={0: 'member_id'})\n",
    "members = members_aux.merge(votes_115.drop_duplicates(subset = 'member_id')[['member_id', 'party']], how='left').sort_values(['party', 'member_id'])\n",
    "N_SENATORS = len(members)"
   ]
  },
  {
   "cell_type": "code",
   "execution_count": 5,
   "metadata": {},
   "outputs": [],
   "source": [
    "def numeric_votes(x):\n",
    "    if x == 'Yes':\n",
    "        return 1\n",
    "    elif x == 'Not Voting' or pd.isnull(x):\n",
    "        return 0 # we can put np.nan and then fill with the median or mean, whatever for now\n",
    "    else:\n",
    "        return -1"
   ]
  },
  {
   "cell_type": "code",
   "execution_count": 6,
   "metadata": {},
   "outputs": [],
   "source": [
    "votes_matrix=np.zeros((len(votes_115.vote_uri.unique()), N_SENATORS))\n",
    "\n",
    "for i, l in enumerate(list(votes_115.vote_uri.unique())):\n",
    "    votes = (members.merge(votes_115[votes_115.vote_uri == l], how='left'))\n",
    "    feature = votes.vote_position.apply(numeric_votes).values\n",
    "    votes_matrix[i] = feature"
   ]
  },
  {
   "cell_type": "code",
   "execution_count": 7,
   "metadata": {},
   "outputs": [
    {
     "data": {
      "text/plain": [
       "(599, 105)"
      ]
     },
     "execution_count": 7,
     "metadata": {},
     "output_type": "execute_result"
    }
   ],
   "source": [
    "votes_matrix.shape"
   ]
  },
  {
   "cell_type": "code",
   "execution_count": 8,
   "metadata": {},
   "outputs": [],
   "source": [
    "for i,j in enumerate(bills_sen.cosponsors_sen):\n",
    "    bills_sen.cosponsors_sen.iloc[i] = ast.literal_eval(j)"
   ]
  },
  {
   "cell_type": "code",
   "execution_count": 9,
   "metadata": {},
   "outputs": [
    {
     "data": {
      "text/html": [
       "<div>\n",
       "<style scoped>\n",
       "    .dataframe tbody tr th:only-of-type {\n",
       "        vertical-align: middle;\n",
       "    }\n",
       "\n",
       "    .dataframe tbody tr th {\n",
       "        vertical-align: top;\n",
       "    }\n",
       "\n",
       "    .dataframe thead th {\n",
       "        text-align: right;\n",
       "    }\n",
       "</style>\n",
       "<table border=\"1\" class=\"dataframe\">\n",
       "  <thead>\n",
       "    <tr style=\"text-align: right;\">\n",
       "      <th></th>\n",
       "      <th>Unnamed: 0</th>\n",
       "      <th>bill_api_uri</th>\n",
       "      <th>date</th>\n",
       "      <th>democrats_no</th>\n",
       "      <th>democrats_yes</th>\n",
       "      <th>independent_no</th>\n",
       "      <th>independent_yes</th>\n",
       "      <th>month</th>\n",
       "      <th>republican_no</th>\n",
       "      <th>republican_yes</th>\n",
       "      <th>...</th>\n",
       "      <th>sponsor_id</th>\n",
       "      <th>sponsor_party</th>\n",
       "      <th>sponsor_title</th>\n",
       "      <th>result_ok</th>\n",
       "      <th>nb_cosponsors_R</th>\n",
       "      <th>nb_cosponsors_D</th>\n",
       "      <th>nb_cosponsors_I</th>\n",
       "      <th>cosponsors_sen</th>\n",
       "      <th>cosponsors_rep</th>\n",
       "      <th>cosponsors_del</th>\n",
       "    </tr>\n",
       "  </thead>\n",
       "  <tbody>\n",
       "    <tr>\n",
       "      <th>1</th>\n",
       "      <td>1</td>\n",
       "      <td>https://api.propublica.org/congress/v1/115/bil...</td>\n",
       "      <td>2017-01-12</td>\n",
       "      <td>16</td>\n",
       "      <td>30</td>\n",
       "      <td>1</td>\n",
       "      <td>1</td>\n",
       "      <td>1</td>\n",
       "      <td>0</td>\n",
       "      <td>50</td>\n",
       "      <td>...</td>\n",
       "      <td>M000303</td>\n",
       "      <td>R</td>\n",
       "      <td>Sen.</td>\n",
       "      <td>passed</td>\n",
       "      <td>0</td>\n",
       "      <td>0</td>\n",
       "      <td>0</td>\n",
       "      <td>[]</td>\n",
       "      <td>[]</td>\n",
       "      <td>[]</td>\n",
       "    </tr>\n",
       "    <tr>\n",
       "      <th>2</th>\n",
       "      <td>3</td>\n",
       "      <td>https://api.propublica.org/congress/v1/115/bil...</td>\n",
       "      <td>2017-01-12</td>\n",
       "      <td>0</td>\n",
       "      <td>45</td>\n",
       "      <td>0</td>\n",
       "      <td>2</td>\n",
       "      <td>1</td>\n",
       "      <td>49</td>\n",
       "      <td>2</td>\n",
       "      <td>...</td>\n",
       "      <td>E000285</td>\n",
       "      <td>R</td>\n",
       "      <td>Sen.</td>\n",
       "      <td>rejected</td>\n",
       "      <td>0</td>\n",
       "      <td>0</td>\n",
       "      <td>0</td>\n",
       "      <td>[]</td>\n",
       "      <td>[]</td>\n",
       "      <td>[]</td>\n",
       "    </tr>\n",
       "    <tr>\n",
       "      <th>3</th>\n",
       "      <td>4</td>\n",
       "      <td>https://api.propublica.org/congress/v1/115/bil...</td>\n",
       "      <td>2017-01-12</td>\n",
       "      <td>45</td>\n",
       "      <td>0</td>\n",
       "      <td>2</td>\n",
       "      <td>0</td>\n",
       "      <td>1</td>\n",
       "      <td>0</td>\n",
       "      <td>51</td>\n",
       "      <td>...</td>\n",
       "      <td>E000285</td>\n",
       "      <td>R</td>\n",
       "      <td>Sen.</td>\n",
       "      <td>rejected</td>\n",
       "      <td>0</td>\n",
       "      <td>0</td>\n",
       "      <td>0</td>\n",
       "      <td>[]</td>\n",
       "      <td>[]</td>\n",
       "      <td>[]</td>\n",
       "    </tr>\n",
       "    <tr>\n",
       "      <th>4</th>\n",
       "      <td>5</td>\n",
       "      <td>https://api.propublica.org/congress/v1/115/bil...</td>\n",
       "      <td>2017-01-12</td>\n",
       "      <td>0</td>\n",
       "      <td>45</td>\n",
       "      <td>0</td>\n",
       "      <td>2</td>\n",
       "      <td>1</td>\n",
       "      <td>49</td>\n",
       "      <td>2</td>\n",
       "      <td>...</td>\n",
       "      <td>E000285</td>\n",
       "      <td>R</td>\n",
       "      <td>Sen.</td>\n",
       "      <td>rejected</td>\n",
       "      <td>0</td>\n",
       "      <td>0</td>\n",
       "      <td>0</td>\n",
       "      <td>[]</td>\n",
       "      <td>[]</td>\n",
       "      <td>[]</td>\n",
       "    </tr>\n",
       "    <tr>\n",
       "      <th>5</th>\n",
       "      <td>6</td>\n",
       "      <td>https://api.propublica.org/congress/v1/115/bil...</td>\n",
       "      <td>2017-01-11</td>\n",
       "      <td>44</td>\n",
       "      <td>1</td>\n",
       "      <td>2</td>\n",
       "      <td>0</td>\n",
       "      <td>1</td>\n",
       "      <td>0</td>\n",
       "      <td>51</td>\n",
       "      <td>...</td>\n",
       "      <td>E000285</td>\n",
       "      <td>R</td>\n",
       "      <td>Sen.</td>\n",
       "      <td>rejected</td>\n",
       "      <td>0</td>\n",
       "      <td>0</td>\n",
       "      <td>0</td>\n",
       "      <td>[]</td>\n",
       "      <td>[]</td>\n",
       "      <td>[]</td>\n",
       "    </tr>\n",
       "  </tbody>\n",
       "</table>\n",
       "<p>5 rows × 25 columns</p>\n",
       "</div>"
      ],
      "text/plain": [
       "   Unnamed: 0                                       bill_api_uri        date  \\\n",
       "1           1  https://api.propublica.org/congress/v1/115/bil...  2017-01-12   \n",
       "2           3  https://api.propublica.org/congress/v1/115/bil...  2017-01-12   \n",
       "3           4  https://api.propublica.org/congress/v1/115/bil...  2017-01-12   \n",
       "4           5  https://api.propublica.org/congress/v1/115/bil...  2017-01-12   \n",
       "5           6  https://api.propublica.org/congress/v1/115/bil...  2017-01-11   \n",
       "\n",
       "   democrats_no  democrats_yes  independent_no  independent_yes  month  \\\n",
       "1            16             30               1                1      1   \n",
       "2             0             45               0                2      1   \n",
       "3            45              0               2                0      1   \n",
       "4             0             45               0                2      1   \n",
       "5            44              1               2                0      1   \n",
       "\n",
       "   republican_no  republican_yes       ...       sponsor_id sponsor_party  \\\n",
       "1              0              50       ...          M000303             R   \n",
       "2             49               2       ...          E000285             R   \n",
       "3              0              51       ...          E000285             R   \n",
       "4             49               2       ...          E000285             R   \n",
       "5              0              51       ...          E000285             R   \n",
       "\n",
       "   sponsor_title result_ok nb_cosponsors_R nb_cosponsors_D nb_cosponsors_I  \\\n",
       "1           Sen.    passed               0               0               0   \n",
       "2           Sen.  rejected               0               0               0   \n",
       "3           Sen.  rejected               0               0               0   \n",
       "4           Sen.  rejected               0               0               0   \n",
       "5           Sen.  rejected               0               0               0   \n",
       "\n",
       "  cosponsors_sen cosponsors_rep  cosponsors_del  \n",
       "1             []             []              []  \n",
       "2             []             []              []  \n",
       "3             []             []              []  \n",
       "4             []             []              []  \n",
       "5             []             []              []  \n",
       "\n",
       "[5 rows x 25 columns]"
      ]
     },
     "execution_count": 9,
     "metadata": {},
     "output_type": "execute_result"
    }
   ],
   "source": [
    "bills_sen.head()"
   ]
  },
  {
   "cell_type": "markdown",
   "metadata": {},
   "source": [
    "Create binary matrices indicating sponsorship (and cosponsorship):"
   ]
  },
  {
   "cell_type": "code",
   "execution_count": 10,
   "metadata": {},
   "outputs": [],
   "source": [
    "S = np.zeros((N_BILLS_SEN, N_SENATORS))\n",
    "for i, j in enumerate(bills_sen.cosponsors_sen):\n",
    "    S[i, list(members['member_id']).index(bills_sen.sponsor_id.iloc[i])] = 1"
   ]
  },
  {
   "cell_type": "code",
   "execution_count": 11,
   "metadata": {},
   "outputs": [
    {
     "data": {
      "image/png": "[encoded data removed]",
      "text/plain": [
       "<Figure size 432x288 with 1 Axes>"
      ]
     },
     "metadata": {
      "needs_background": "light"
     },
     "output_type": "display_data"
    }
   ],
   "source": [
    "plt.spy(S)\n",
    "plt.title('Sponsorship')\n",
    "plt.xlabel('Senator')\n",
    "plt.ylabel('Bill-vote');"
   ]
  },
  {
   "cell_type": "code",
   "execution_count": 12,
   "metadata": {},
   "outputs": [],
   "source": [
    "CS = np.zeros((N_BILLS_SEN, N_SENATORS))\n",
    "for i, j in enumerate(bills_sen.cosponsors_sen):\n",
    "    for k, l in enumerate(bills_sen.cosponsors_sen.iloc[i]):\n",
    "        CS[i, list(members['member_id']).index(bills_sen.cosponsors_sen.iloc[i][k])] = 1"
   ]
  },
  {
   "cell_type": "code",
   "execution_count": 13,
   "metadata": {},
   "outputs": [
    {
     "data": {
      "image/png": "[encoded data removed]",
      "text/plain": [
       "<Figure size 432x288 with 1 Axes>"
      ]
     },
     "metadata": {
      "needs_background": "light"
     },
     "output_type": "display_data"
    }
   ],
   "source": [
    "plt.spy(CS)\n",
    "plt.title('Cosponsorship')\n",
    "plt.xlabel('Senator')\n",
    "plt.ylabel('Bill-vote');"
   ]
  },
  {
   "cell_type": "code",
   "execution_count": 14,
   "metadata": {},
   "outputs": [],
   "source": [
    "Z = S + CS # sponsorship mask"
   ]
  },
  {
   "cell_type": "markdown",
   "metadata": {},
   "source": [
    "Get all votes for each bill-vote:"
   ]
  },
  {
   "cell_type": "code",
   "execution_count": 15,
   "metadata": {},
   "outputs": [],
   "source": [
    "Y=np.zeros((N_BILLS_SEN, N_SENATORS))\n",
    "\n",
    "for i, l in enumerate(list(bills_sen.vote_uri)):\n",
    "    votes = (members.merge(votes_115[votes_115.vote_uri == l], how='left'))\n",
    "    feature = votes.vote_position.apply(numeric_votes).values\n",
    "    Y[i] = feature"
   ]
  },
  {
   "cell_type": "code",
   "execution_count": 16,
   "metadata": {},
   "outputs": [
    {
     "data": {
      "text/plain": [
       "(66, 105)"
      ]
     },
     "execution_count": 16,
     "metadata": {},
     "output_type": "execute_result"
    }
   ],
   "source": [
    "Y.shape"
   ]
  },
  {
   "cell_type": "markdown",
   "metadata": {},
   "source": [
    "Use as feature vector the voting profile for each senator:"
   ]
  },
  {
   "cell_type": "code",
   "execution_count": 17,
   "metadata": {},
   "outputs": [],
   "source": [
    "X = np.zeros((N_BILLS_SEN, N_SENATORS))\n",
    "X[Z==1]=Y[Z==1]"
   ]
  },
  {
   "cell_type": "code",
   "execution_count": 18,
   "metadata": {},
   "outputs": [
    {
     "data": {
      "text/plain": [
       "(66, 105)"
      ]
     },
     "execution_count": 18,
     "metadata": {},
     "output_type": "execute_result"
    }
   ],
   "source": [
    "X.shape"
   ]
  },
  {
   "cell_type": "code",
   "execution_count": 19,
   "metadata": {},
   "outputs": [
    {
     "name": "stdout",
     "output_type": "stream",
     "text": [
      "n = 66\n",
      "d = 105\n"
     ]
    }
   ],
   "source": [
    "n = X.shape[0]\n",
    "d = X.shape[1]\n",
    "\n",
    "print('n = {}\\nd = {}'.format(n, d))"
   ]
  },
  {
   "cell_type": "code",
   "execution_count": 74,
   "metadata": {},
   "outputs": [],
   "source": [
    "n_train = n//2\n",
    "n_val = n//10\n",
    "\n",
    "perm_idx = np.random.permutation(n)\n",
    "X_train = X[perm_idx[:n_train]]\n",
    "X_val = X[perm_idx[n_train:n_train+n_val]]\n",
    "X_test = X[perm_idx[n_train+n_val:]]\n",
    "\n",
    "y_train = Y[perm_idx[:n_train]]\n",
    "y_val = Y[perm_idx[n_train:n_train+n_val]]\n",
    "y_test = Y[perm_idx[n_train+n_val:]]\n"
   ]
  },
  {
   "cell_type": "code",
   "execution_count": 75,
   "metadata": {},
   "outputs": [],
   "source": [
    "# adj = sparse.csr_matrix(np.genfromtxt(ADJACENCY, delimiter = ','), dtype = np.float32)"
   ]
  },
  {
   "cell_type": "code",
   "execution_count": 76,
   "metadata": {},
   "outputs": [],
   "source": [
    "dist, idx = graph.distance_scipy_spatial(votes_matrix.T, k=40, metric='euclidean')\n",
    "A = graph.adjacency(dist, idx).astype(np.float32)"
   ]
  },
  {
   "cell_type": "code",
   "execution_count": 77,
   "metadata": {},
   "outputs": [
    {
     "name": "stdout",
     "output_type": "stream",
     "text": [
      "d = |V| = 105, k|V| < |E| = 5012\n"
     ]
    },
    {
     "data": {
      "image/png": "[encoded data removed]",
      "text/plain": [
       "<Figure size 720x720 with 1 Axes>"
      ]
     },
     "metadata": {
      "needs_background": "light"
     },
     "output_type": "display_data"
    }
   ],
   "source": [
    "print('d = |V| = {}, k|V| < |E| = {}'.format(d, A.nnz))\n",
    "plt.figure(figsize=(10,10))\n",
    "plt.spy(A, markersize=2, color='black');"
   ]
  },
  {
   "cell_type": "code",
   "execution_count": 78,
   "metadata": {},
   "outputs": [],
   "source": [
    "L = [graph.laplacian(A, normalized=True) for z in range(2)]"
   ]
  },
  {
   "cell_type": "code",
   "execution_count": 79,
   "metadata": {},
   "outputs": [
    {
     "name": "stderr",
     "output_type": "stream",
     "text": [
      "/Users/virginiabordignon/miniconda3/lib/python3.6/site-packages/matplotlib/axes/_base.py:3455: MatplotlibDeprecationWarning: \n",
      "The `ymin` argument was deprecated in Matplotlib 3.0 and will be removed in 3.2. Use `bottom` instead.\n",
      "  alternative='`bottom`', obj_type='argument')\n"
     ]
    },
    {
     "data": {
      "text/plain": [
       "(0, 1.1607812411832616)"
      ]
     },
     "execution_count": 79,
     "metadata": {},
     "output_type": "execute_result"
    },
    {
     "data": {
      "image/png": "[encoded data removed]",
      "text/plain": [
       "<Figure size 1224x360 with 1 Axes>"
      ]
     },
     "metadata": {
      "needs_background": "light"
     },
     "output_type": "display_data"
    }
   ],
   "source": [
    "plt.figure(figsize=(17, 5))\n",
    "lamb, U = np.linalg.eigh(L[0].toarray())\n",
    "x = range(0, L[0].shape[0])\n",
    "lb = 'L spectrum in [{:1.2e}, {:1.2e}]'.format(lamb[0], lamb[-1])\n",
    "plt.plot(x, lamb, '.', label=lb)\n",
    "plt.legend(loc='best')\n",
    "plt.xlim(0, L[0].shape[0])\n",
    "plt.ylim(ymin=0)"
   ]
  },
  {
   "cell_type": "markdown",
   "metadata": {},
   "source": [
    "## CNN"
   ]
  },
  {
   "cell_type": "markdown",
   "metadata": {},
   "source": [
    "CNN model was adapted for performing regression instead of classification (see file model_alt.py)."
   ]
  },
  {
   "cell_type": "code",
   "execution_count": 80,
   "metadata": {},
   "outputs": [],
   "source": [
    "params = dict()\n",
    "params['dir_name']       = 'demo'\n",
    "params['num_epochs']     = 50\n",
    "params['batch_size']     = 10 # changed\n",
    "params['eval_frequency'] = 20 # changed\n",
    "\n",
    "# Building blocks.\n",
    "params['filter']         = 'chebyshev5'\n",
    "params['brelu']          = 'b1relu'\n",
    "params['pool']           = 'apool1'\n",
    "\n",
    "# Number of classes.\n",
    "C = A.shape[0]\n",
    "\n",
    "# Architecture.\n",
    "params['F']              = [32, 64]  # Number of graph convolutional filters.\n",
    "params['K']              = [2, 2]  # Polynomial orders.\n",
    "params['p']              = [1, 1]    # Pooling sizes.\n",
    "params['M']              = [C]  # Output dimensionality of fully connected layers.\n",
    "\n",
    "# Optimization.\n",
    "params['regularization'] = 5e-4\n",
    "params['dropout']        = .7 # changed\n",
    "params['learning_rate']  = 1e-3\n",
    "params['decay_rate']     = 0.95\n",
    "params['momentum']       = 0.9\n",
    "params['decay_steps']    = n_train / params['batch_size']"
   ]
  },
  {
   "cell_type": "code",
   "execution_count": 81,
   "metadata": {},
   "outputs": [
    {
     "name": "stdout",
     "output_type": "stream",
     "text": [
      "NN architecture\n",
      "  input: M_0 = 105\n",
      "  layer 1: cgconv1\n",
      "    representation: M_0 * F_1 / p_1 = 105 * 32 / 1 = 3360\n",
      "    weights: F_0 * F_1 * K_1 = 1 * 32 * 2 = 64\n",
      "    biases: F_1 = 32\n",
      "  layer 2: cgconv2\n",
      "    representation: M_1 * F_2 / p_2 = 105 * 64 / 1 = 6720\n",
      "    weights: F_1 * F_2 * K_2 = 32 * 64 * 2 = 4096\n",
      "    biases: F_2 = 64\n",
      "  layer 3: logits (softmax)\n",
      "    representation: M_3 = 105\n",
      "    weights: M_2 * M_3 = 6720 * 105 = 705600\n",
      "    biases: M_3 = 105\n",
      "step 20 / 165 (epoch 6.06 / 50):\n",
      "  learning_rate = 7.74e-04, loss_average = 2.40e+00\n",
      "  validation loss: 3.49e+00\n",
      "  time: 1s (wall 0s)\n",
      "step 40 / 165 (epoch 12.12 / 50):\n",
      "  learning_rate = 5.69e-04, loss_average = 2.38e+00\n",
      "  validation loss: 3.27e+00\n",
      "  time: 1s (wall 1s)\n",
      "step 60 / 165 (epoch 18.18 / 50):\n",
      "  learning_rate = 4.18e-04, loss_average = 2.33e+00\n",
      "  validation loss: 3.22e+00\n",
      "  time: 2s (wall 1s)\n",
      "step 80 / 165 (epoch 24.24 / 50):\n",
      "  learning_rate = 3.07e-04, loss_average = 2.30e+00\n",
      "  validation loss: 3.20e+00\n",
      "  time: 2s (wall 1s)\n",
      "step 100 / 165 (epoch 30.30 / 50):\n",
      "  learning_rate = 2.15e-04, loss_average = 2.29e+00\n",
      "  validation loss: 3.19e+00\n",
      "  time: 3s (wall 1s)\n",
      "step 120 / 165 (epoch 36.36 / 50):\n",
      "  learning_rate = 1.58e-04, loss_average = 2.29e+00\n",
      "  validation loss: 3.18e+00\n",
      "  time: 3s (wall 2s)\n",
      "step 140 / 165 (epoch 42.42 / 50):\n",
      "  learning_rate = 1.16e-04, loss_average = 2.28e+00\n",
      "  validation loss: 3.18e+00\n",
      "  time: 4s (wall 2s)\n",
      "step 160 / 165 (epoch 48.48 / 50):\n",
      "  learning_rate = 8.53e-05, loss_average = 2.28e+00\n",
      "  validation loss: 3.18e+00\n",
      "  time: 4s (wall 2s)\n",
      "step 165 / 165 (epoch 50.00 / 50):\n",
      "  learning_rate = 8.10e-05, loss_average = 2.28e+00\n",
      "  validation loss: 3.18e+00\n",
      "  time: 5s (wall 2s)\n",
      "validation loss: peak = 3.18, mean = 3.23\n"
     ]
    }
   ],
   "source": [
    "model = models_alt.cgcnn(L, **params)\n",
    "loss_train, loss_val, t_step = model.fit(X_train, y_train, X_val, y_val)"
   ]
  },
  {
   "cell_type": "code",
   "execution_count": 82,
   "metadata": {},
   "outputs": [
    {
     "data": {
      "image/png": "[encoded data removed]",
      "text/plain": [
       "<Figure size 1080x360 with 1 Axes>"
      ]
     },
     "metadata": {
      "needs_background": "light"
     },
     "output_type": "display_data"
    }
   ],
   "source": [
    "fig, ax1 = plt.subplots(figsize=(15, 5))\n",
    "ax1.plot(loss_val, 'b.-')\n",
    "ax1.set_ylabel('validation loss', color='b')\n",
    "# ax2 = ax1.twinx()\n",
    "# ax2.plot(loss_train, 'g.-')\n",
    "# ax2.set_ylabel('training loss', color='g')\n",
    "plt.show()"
   ]
  },
  {
   "cell_type": "code",
   "execution_count": 83,
   "metadata": {},
   "outputs": [
    {
     "name": "stdout",
     "output_type": "stream",
     "text": [
      "INFO:tensorflow:Restoring parameters from /Users/virginiabordignon/US-Senators/notebooks/lib/../checkpoints/demo/model-165\n",
      "loss: 2.41e+00\n",
      "time: 0s (wall 0s)\n"
     ]
    }
   ],
   "source": [
    "res = model.evaluate(X_test, y_test)\n",
    "print(res[0])"
   ]
  },
  {
   "cell_type": "code",
   "execution_count": 84,
   "metadata": {},
   "outputs": [],
   "source": [
    "def eval_prediction(Pred):\n",
    "    Pred_bool = (Pred-Pred.mean(axis=1)[:,np.newaxis])>0\n",
    "    Pred[Pred_bool] = 1\n",
    "    Pred[~Pred_bool] = -1\n",
    "    return Pred"
   ]
  },
  {
   "cell_type": "code",
   "execution_count": 85,
   "metadata": {},
   "outputs": [
    {
     "name": "stdout",
     "output_type": "stream",
     "text": [
      "INFO:tensorflow:Restoring parameters from /Users/virginiabordignon/US-Senators/notebooks/lib/../checkpoints/demo/model-165\n",
      "INFO:tensorflow:Restoring parameters from /Users/virginiabordignon/US-Senators/notebooks/lib/../checkpoints/demo/model-165\n"
     ]
    }
   ],
   "source": [
    "Pred_train = model.predict(X_train)\n",
    "Pred_test = model.predict(X_test)\n",
    "Pred_train = eval_prediction(Pred_train)\n",
    "Pred_test = eval_prediction(Pred_test)\n"
   ]
  },
  {
   "cell_type": "code",
   "execution_count": 86,
   "metadata": {},
   "outputs": [],
   "source": [
    "from matplotlib.colors import ListedColormap\n",
    "mycmap = ListedColormap(['blue','white','red'])\n"
   ]
  },
  {
   "cell_type": "markdown",
   "metadata": {},
   "source": [
    "Votes color:\n",
    "- Red: Yes\n",
    "- Blue: No\n"
   ]
  },
  {
   "cell_type": "code",
   "execution_count": 87,
   "metadata": {},
   "outputs": [
    {
     "data": {
      "text/plain": [
       "Text(0.5, 1.0, 'Training truth')"
      ]
     },
     "execution_count": 87,
     "metadata": {},
     "output_type": "execute_result"
    },
    {
     "data": {
      "image/png": "[encoded data removed]",
      "text/plain": [
       "<Figure size 1440x720 with 3 Axes>"
      ]
     },
     "metadata": {
      "needs_background": "light"
     },
     "output_type": "display_data"
    }
   ],
   "source": [
    "fig = plt.figure(figsize=(20,10))\n",
    "plt.subplot(1,3,1)\n",
    "plt.imshow(X_train, vmax = 1, vmin= -1, cmap = mycmap)\n",
    "plt.xlabel('Bill-vote #')\n",
    "plt.ylabel('Senator #')\n",
    "plt.title('Training data')\n",
    "plt.subplot(1,3,2)\n",
    "plt.imshow(Pred_train, vmax = 1, vmin= -1, cmap = mycmap)\n",
    "plt.xlabel('Bill-vote #')\n",
    "plt.ylabel('Senator #')\n",
    "plt.title('Training prediction')\n",
    "plt.subplot(1,3,3)\n",
    "plt.imshow(y_train, vmax = 1, vmin=-1, cmap = mycmap)\n",
    "plt.xlabel('Senator #')\n",
    "plt.ylabel('Bill-vote #')\n",
    "plt.title('Training truth')"
   ]
  },
  {
   "cell_type": "code",
   "execution_count": 88,
   "metadata": {},
   "outputs": [
    {
     "data": {
      "image/png": "[encoded data removed]",
      "text/plain": [
       "<Figure size 1440x720 with 3 Axes>"
      ]
     },
     "metadata": {
      "needs_background": "light"
     },
     "output_type": "display_data"
    }
   ],
   "source": [
    "plt.figure(figsize=(20,10))\n",
    "plt.subplot(1,3,1)\n",
    "plt.imshow(X_test, vmax = 1, vmin= -1, cmap = mycmap)\n",
    "plt.xlabel('Senator #')\n",
    "plt.ylabel('Bill-vote #')\n",
    "plt.title('Test data')\n",
    "plt.subplot(1,3,2)\n",
    "plt.imshow(Pred_test, vmax = 1, vmin= -1, cmap = mycmap)\n",
    "plt.xlabel('Senator #')\n",
    "plt.ylabel('Bill-vote #')\n",
    "plt.title('Test prediction')\n",
    "plt.subplot(1,3,3)\n",
    "plt.imshow(y_test, vmax = 1, vmin= -1, cmap = mycmap)\n",
    "plt.xlabel('Senator #')\n",
    "plt.ylabel('Bill-vote #')\n",
    "plt.title('Test truth');"
   ]
  },
  {
   "cell_type": "markdown",
   "metadata": {},
   "source": [
    "## Estimate graph filter - linear regression"
   ]
  },
  {
   "cell_type": "code",
   "execution_count": 89,
   "metadata": {},
   "outputs": [],
   "source": [
    "from sklearn import linear_model\n",
    "import scipy\n",
    "\n",
    "\n",
    "def accuracy(pred, truth):\n",
    "    not_vot = np.not_equal(truth, 0)\n",
    "    a = np.equal(pred, truth)\n",
    "    acc=np.sum(a[not_vot])/np.size(truth[not_vot])\n",
    "    return acc\n",
    "\n",
    "def build_pol_base(X, Laplacian, K):\n",
    "    tX=[]\n",
    "    for i in range(K):\n",
    "        tX.append(np.array(X @ np.linalg.matrix_power(Laplacian, i)))\n",
    "    return tX\n",
    "\n",
    "def build_pol_base_exp(X, Laplacian, K, a):\n",
    "    tX=[]\n",
    "    for i in range(K):\n",
    "        tX.append(np.array(X @ scipy.linalg.expm(k*a*Laplacian)))\n",
    "    return tX\n",
    "\n",
    "def get_reg_matrices(K, y, tX):\n",
    "    M=np.zeros((K,K))\n",
    "    Ym = np.zeros(K)\n",
    "    for i in range(K):\n",
    "        for j in range(K):\n",
    "            M[i,j] = np.sum(tX[i] * tX[j])\n",
    "        Ym[i] = np.sum(tX[i] * y)\n",
    "    return M, Ym\n",
    "\n",
    "def get_reg_matrices2(K, y, tX):\n",
    "    D = y.shape[1]\n",
    "    M= np.zeros((D*K, D*K))\n",
    "    Ym = np.zeros(D*K)\n",
    "    for i in range(K):\n",
    "        for j in range(K):\n",
    "            aux = np.sum(tX[i] * tX[j], axis = 0)\n",
    "            np.fill_diagonal(M[D*i: D*(i+1),D*j: D*(j+1)], aux)\n",
    "        Ym[D*i:D*(i+1)] = np.sum(tX[i] * y, axis = 0)\n",
    "    return M, Ym\n",
    "\n",
    "def train_ls(M, Ym):\n",
    "    reg = linear_model.LinearRegression()\n",
    "    reg.fit(M, Ym)\n",
    "    theta = reg.coef_\n",
    "    return theta\n",
    "\n",
    "def predict(tX, theta):\n",
    "    Pred = sum([theta[i]*j for i, j in enumerate(tX)])\n",
    "    Pred_bool = (Pred-Pred.mean(axis=1)[:,np.newaxis])>0\n",
    "    Pred[Pred_bool] = 1\n",
    "    Pred[~Pred_bool] = -1\n",
    "    return Pred\n",
    "\n",
    "def predict2(tX, theta):\n",
    "    Pred = sum([j@theta[i] for i, j in enumerate(tX)])\n",
    "    Pred_bool = (Pred-Pred.mean(axis=1)[:,np.newaxis])>0\n",
    "    Pred[Pred_bool] = 1\n",
    "    Pred[~Pred_bool] = -1\n",
    "    return Pred"
   ]
  },
  {
   "cell_type": "code",
   "execution_count": 90,
   "metadata": {},
   "outputs": [],
   "source": [
    "Laplacian = L[0].todense()"
   ]
  },
  {
   "cell_type": "code",
   "execution_count": 91,
   "metadata": {},
   "outputs": [
    {
     "data": {
      "text/plain": [
       "(105, 105)"
      ]
     },
     "execution_count": 91,
     "metadata": {},
     "output_type": "execute_result"
    }
   ],
   "source": [
    "Laplacian.shape"
   ]
  },
  {
   "cell_type": "code",
   "execution_count": 92,
   "metadata": {},
   "outputs": [
    {
     "data": {
      "text/plain": [
       "0.8124614435533621"
      ]
     },
     "execution_count": 92,
     "metadata": {},
     "output_type": "execute_result"
    }
   ],
   "source": [
    "K = 4  # Filter parameters\n",
    "tX = build_pol_base(X_train, Laplacian, K)\n",
    "M, Ym = get_reg_matrices(K, y_train, tX)\n",
    "theta = train_ls(M, Ym)\n",
    "Pred = predict(tX, theta)\n",
    "accuracy(Pred, y_train)"
   ]
  },
  {
   "cell_type": "code",
   "execution_count": 93,
   "metadata": {},
   "outputs": [
    {
     "data": {
      "text/plain": [
       "Text(0.5, 1.0, 'Training truth')"
      ]
     },
     "execution_count": 93,
     "metadata": {},
     "output_type": "execute_result"
    },
    {
     "data": {
      "image/png": "[encoded data removed]",
      "text/plain": [
       "<Figure size 1440x720 with 3 Axes>"
      ]
     },
     "metadata": {
      "needs_background": "light"
     },
     "output_type": "display_data"
    }
   ],
   "source": [
    "fig = plt.figure(figsize=(20,10))\n",
    "plt.subplot(1,3,1)\n",
    "plt.imshow(X_train, vmax = 1, vmin= -1, cmap = mycmap)\n",
    "plt.xlabel('Bill-vote #')\n",
    "plt.ylabel('Senator #')\n",
    "plt.title('Training data')\n",
    "plt.subplot(1,3,2)\n",
    "plt.imshow(Pred, vmax = 1, vmin= -1, cmap = mycmap)\n",
    "plt.xlabel('Bill-vote #')\n",
    "plt.ylabel('Senator #')\n",
    "plt.title('Training prediction')\n",
    "plt.subplot(1,3,3)\n",
    "plt.imshow(y_train, vmax = 1, vmin=-1, cmap = mycmap)\n",
    "plt.xlabel('Senator #')\n",
    "plt.ylabel('Bill-vote #')\n",
    "plt.title('Training truth')\n"
   ]
  },
  {
   "cell_type": "markdown",
   "metadata": {},
   "source": []
  },
  {
   "cell_type": "markdown",
   "metadata": {},
   "source": [
    "Test:"
   ]
  },
  {
   "cell_type": "code",
   "execution_count": 94,
   "metadata": {},
   "outputs": [
    {
     "data": {
      "text/plain": [
       "0.7187145557655955"
      ]
     },
     "execution_count": 94,
     "metadata": {},
     "output_type": "execute_result"
    }
   ],
   "source": [
    "tX_test = build_pol_base(X_test, Laplacian, K)\n",
    "\n",
    "Pred_test = predict(tX_test, theta)\n",
    "accuracy(Pred_test, y_test)"
   ]
  },
  {
   "cell_type": "code",
   "execution_count": 95,
   "metadata": {},
   "outputs": [
    {
     "data": {
      "text/plain": [
       "Text(0.5, 1.0, 'Test truth')"
      ]
     },
     "execution_count": 95,
     "metadata": {},
     "output_type": "execute_result"
    },
    {
     "data": {
      "image/png": "[encoded data removed]",
      "text/plain": [
       "<Figure size 1440x720 with 3 Axes>"
      ]
     },
     "metadata": {
      "needs_background": "light"
     },
     "output_type": "display_data"
    }
   ],
   "source": [
    "fig = plt.figure(figsize=(20,10))\n",
    "plt.subplot(1,3,1)\n",
    "plt.imshow(X_test, vmax = 1, vmin= -1, cmap = mycmap)\n",
    "plt.xlabel('Bill-vote #')\n",
    "plt.ylabel('Senator #')\n",
    "plt.title('Test data')\n",
    "plt.subplot(1,3,2)\n",
    "plt.imshow(Pred_test, vmax = 1, vmin= -1, cmap = mycmap)\n",
    "plt.xlabel('Bill-vote #')\n",
    "plt.ylabel('Senator #')\n",
    "plt.title('Test prediction')\n",
    "plt.subplot(1,3,3)\n",
    "plt.imshow(y_test, vmax = 1, vmin=-1, cmap = mycmap)\n",
    "plt.xlabel('Senator #')\n",
    "plt.ylabel('Bill-vote #')\n",
    "plt.title('Test truth')"
   ]
  },
  {
   "cell_type": "markdown",
   "metadata": {},
   "source": [
    "### Model 1:"
   ]
  },
  {
   "cell_type": "markdown",
   "metadata": {},
   "source": [
    "Estimate the polynomial graph filter $f(L) = \\sum^K_k \\alpha_k L^k$ using least squares:\n",
    "1. Solve: \n",
    "$$\\min_{\\alpha}\\left\\Vert Y-\\sum^K_{k=0} \\alpha_k L^k X\\right\\Vert^2$$"
   ]
  },
  {
   "cell_type": "code",
   "execution_count": 96,
   "metadata": {},
   "outputs": [],
   "source": [
    "acc_test = []\n",
    "acc_train = []\n",
    "k_vec = range(2, 200)\n",
    "for k in k_vec:\n",
    "    tX_train = build_pol_base(X_train, Laplacian, k)\n",
    "    M, Ym = get_reg_matrices(k, y_train, tX_train)\n",
    "    theta = train_ls(M, Ym)\n",
    "    tX_test = build_pol_base(X_test, Laplacian, k)\n",
    "    Pred_test = predict(tX_test, theta)\n",
    "    Pred_train = predict(tX_train, theta)\n",
    "    acc_train.append(accuracy(Pred_train, y_train))\n",
    "    acc_test.append(accuracy(Pred_test, y_test))"
   ]
  },
  {
   "cell_type": "code",
   "execution_count": 97,
   "metadata": {},
   "outputs": [
    {
     "data": {
      "text/plain": [
       "<matplotlib.legend.Legend at 0x1f34800f28>"
      ]
     },
     "execution_count": 97,
     "metadata": {},
     "output_type": "execute_result"
    },
    {
     "data": {
      "image/png": "[encoded data removed]",
      "text/plain": [
       "<Figure size 720x288 with 1 Axes>"
      ]
     },
     "metadata": {
      "needs_background": "light"
     },
     "output_type": "display_data"
    }
   ],
   "source": [
    "plt.figure(figsize=(10,4))\n",
    "plt.plot(k_vec, acc_train)\n",
    "plt.plot(k_vec, acc_test)\n",
    "plt.xlabel('K')\n",
    "plt.ylabel('Accuracy')\n",
    "plt.legend(['Train', 'Test'])"
   ]
  },
  {
   "cell_type": "code",
   "execution_count": 98,
   "metadata": {},
   "outputs": [
    {
     "name": "stdout",
     "output_type": "stream",
     "text": [
      "0.7187145557655955\n",
      "2\n"
     ]
    }
   ],
   "source": [
    "print(np.max(acc_test))\n",
    "print(np.argmax(acc_test))"
   ]
  },
  {
   "cell_type": "markdown",
   "metadata": {},
   "source": [
    "### Model 2:"
   ]
  },
  {
   "cell_type": "markdown",
   "metadata": {},
   "source": [
    "Estimate the polynomial graph filter $f(L) = \\sum^K_k A_k L^k$ using least squares:\n",
    "1. Solve: \n",
    "$$\\min_{A}\\left\\Vert Y-\\sum^K_{k=0} A_k L^k X\\right\\Vert^2$$\n",
    "\n",
    "where $A_k = diag(\\alpha_{1k},\\dots, \\alpha_{Dk})$."
   ]
  },
  {
   "cell_type": "code",
   "execution_count": 99,
   "metadata": {},
   "outputs": [],
   "source": [
    "def make_Theta(K, D, theta):\n",
    "    Theta = []\n",
    "    for i in range(K):\n",
    "        Theta.append(np.diag(theta[i*D: (i+1)*D]))\n",
    "    return Theta"
   ]
  },
  {
   "cell_type": "code",
   "execution_count": 100,
   "metadata": {},
   "outputs": [],
   "source": [
    "acc_test = []\n",
    "acc_train = []\n",
    "k_vec = range(2, 50)\n",
    "for k in k_vec:\n",
    "    tX_train = build_pol_base(X_train, Laplacian, k)\n",
    "    M, Ym = get_reg_matrices2(k, y_train, tX_train)\n",
    "    theta = train_ls(M, Ym)\n",
    "    Theta = make_Theta(k, y_train.shape[1], theta)\n",
    "    tX_test = build_pol_base(X_test, Laplacian, k)\n",
    "    Pred_test = predict2(tX_test, Theta)\n",
    "    Pred_train = predict2(tX_train, Theta)\n",
    "    acc_train.append(accuracy(Pred_train, y_train))\n",
    "    acc_test.append(accuracy(Pred_test, y_test))"
   ]
  },
  {
   "cell_type": "code",
   "execution_count": 101,
   "metadata": {},
   "outputs": [
    {
     "data": {
      "text/plain": [
       "<matplotlib.legend.Legend at 0x1f30f1b7b8>"
      ]
     },
     "execution_count": 101,
     "metadata": {},
     "output_type": "execute_result"
    },
    {
     "data": {
      "image/png": "[encoded data removed]",
      "text/plain": [
       "<Figure size 720x288 with 1 Axes>"
      ]
     },
     "metadata": {
      "needs_background": "light"
     },
     "output_type": "display_data"
    }
   ],
   "source": [
    "plt.figure(figsize=(10,4))\n",
    "plt.plot(k_vec, acc_train)\n",
    "plt.plot(k_vec, acc_test)\n",
    "plt.xlabel('K')\n",
    "plt.ylabel('Accuracy')\n",
    "plt.legend(['Train', 'Test'])"
   ]
  },
  {
   "cell_type": "code",
   "execution_count": 102,
   "metadata": {},
   "outputs": [
    {
     "name": "stdout",
     "output_type": "stream",
     "text": [
      "0.732703213610586\n",
      "30\n"
     ]
    }
   ],
   "source": [
    "print(np.max(acc_test))\n",
    "print(np.argmax(acc_test))"
   ]
  },
  {
   "cell_type": "markdown",
   "metadata": {},
   "source": [
    "### Model 3:"
   ]
  },
  {
   "cell_type": "markdown",
   "metadata": {},
   "source": [
    "Estimate the polynomial graph filter $f(L) = \\sum^K_k \\alpha_k e^{k\\tau L}$ using least squares:\n",
    "1. Solve: \n",
    "$$\\min_{\\alpha}\\left\\Vert Y-\\sum^K_{k=0} \\alpha_k e^{k\\tau L} X\\right\\Vert^2$$\n"
   ]
  },
  {
   "cell_type": "code",
   "execution_count": 103,
   "metadata": {},
   "outputs": [],
   "source": [
    "a_vec= np.logspace(-5, 0, 20)\n",
    "acc_test = []\n",
    "acc_train = []\n",
    "k_vec = range(2, 50)\n",
    "for a in a_vec:\n",
    "    for k in k_vec:\n",
    "        tX_train = build_pol_base_exp(X_train, Laplacian, k, a)\n",
    "        M, Ym = get_reg_matrices(k, y_train, tX_train)\n",
    "        theta = train_ls(M, Ym)\n",
    "        tX_test = build_pol_base_exp(X_test, Laplacian, k, a)\n",
    "        Pred_test = predict(tX_test, theta)\n",
    "        Pred_train = predict(tX_train, theta)\n",
    "        acc_train.append(accuracy(Pred_train, y_train))\n",
    "        acc_test.append(accuracy(Pred_test, y_test))"
   ]
  },
  {
   "cell_type": "code",
   "execution_count": 104,
   "metadata": {},
   "outputs": [],
   "source": [
    "acc_train_ = np.array(acc_train).reshape(len(a_vec),len(k_vec))\n",
    "acc_test_ = np.array(acc_test).reshape(len(a_vec),len(k_vec))"
   ]
  },
  {
   "cell_type": "code",
   "execution_count": 105,
   "metadata": {},
   "outputs": [
    {
     "data": {
      "text/plain": [
       "Text(0.5, 1.0, 'Test accuracy')"
      ]
     },
     "execution_count": 105,
     "metadata": {},
     "output_type": "execute_result"
    },
    {
     "data": {
      "image/png": "[encoded data removed]",
      "text/plain": [
       "<Figure size 1080x432 with 4 Axes>"
      ]
     },
     "metadata": {
      "needs_background": "light"
     },
     "output_type": "display_data"
    }
   ],
   "source": [
    "fig, ax = plt.subplots(1,2, figsize=(15,6))\n",
    "im1 = ax[0].contourf(acc_train_, vmin = 0, vmax = 1,cmap ='plasma')\n",
    "im2 = ax[1].contourf(acc_test_, vmin = 0, vmax = 1, cmap = 'plasma')\n",
    "plt.colorbar(im1, ax = ax[0])\n",
    "plt.colorbar(im2, ax = ax[1])\n",
    "ax[0].set_title('Train accuracy')\n",
    "ax[1].set_title('Test accuracy')\n"
   ]
  },
  {
   "cell_type": "code",
   "execution_count": 107,
   "metadata": {},
   "outputs": [
    {
     "data": {
      "text/plain": [
       "0.6956521739130435"
      ]
     },
     "execution_count": 107,
     "metadata": {},
     "output_type": "execute_result"
    }
   ],
   "source": [
    "np.max(acc_test_)"
   ]
  },
  {
   "cell_type": "code",
   "execution_count": null,
   "metadata": {},
   "outputs": [],
   "source": []
  }
 ],
 "metadata": {
  "kernelspec": {
   "display_name": "Python 3",
   "language": "python",
   "name": "python3"
  },
  "language_info": {
   "codemirror_mode": {
    "name": "ipython",
    "version": 3
   },
   "file_extension": ".py",
   "mimetype": "text/x-python",
   "name": "python",
   "nbconvert_exporter": "python",
   "pygments_lexer": "ipython3",
   "version": "3.6.7"
  }
 },
 "nbformat": 4,
 "nbformat_minor": 2
}
