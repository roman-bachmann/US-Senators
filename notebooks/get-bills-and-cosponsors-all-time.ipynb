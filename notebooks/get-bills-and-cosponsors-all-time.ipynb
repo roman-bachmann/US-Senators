{
 "cells": [
  {
   "cell_type": "markdown",
   "metadata": {},
   "source": [
    "# Bills and votes"
   ]
  },
  {
   "cell_type": "markdown",
   "metadata": {},
   "source": [
    "This notebook aims to\n",
    "1. generate csv"
   ]
  },
  {
   "cell_type": "code",
   "execution_count": 1,
   "metadata": {},
   "outputs": [],
   "source": [
    "import numpy as np\n",
    "import pandas as pd\n",
    "pd.options.mode.chained_assignment = None\n",
    "import matplotlib.pyplot as plt\n",
    "import requests\n"
   ]
  },
  {
   "cell_type": "code",
   "execution_count": 2,
   "metadata": {},
   "outputs": [],
   "source": [
    "ALL_LAWS_PATH = '../data/all-votes/laws_20years.csv'\n",
    "VOTES_115 = '../data/all-votes/votes_115.csv'\n",
    "API_KEY = 'EaNt0652GV92i9U9Mlhs0ggCwLPyRB23bc6qAeyX'\n"
   ]
  },
  {
   "cell_type": "code",
   "execution_count": 3,
   "metadata": {},
   "outputs": [],
   "source": [
    "all_laws = pd.read_csv(ALL_LAWS_PATH)"
   ]
  },
  {
   "cell_type": "code",
   "execution_count": 4,
   "metadata": {},
   "outputs": [],
   "source": [
    "def get_cosponsors_idx(bills):\n",
    "    bills['cosponsors_sen'] = ''\n",
    "    bills['cosponsors_rep'] = ''\n",
    "    bills['cosponsors_del'] = ''\n",
    "\n",
    "    for i in range(len(bills)):\n",
    "        cosponsors_list_sen = []\n",
    "        cosponsors_list_rep = []\n",
    "        cosponsors_list_del = []\n",
    "        for j in range(len(bills.cosponsors.iloc[i])):\n",
    "            if bills.cosponsors.iloc[i][j]['cosponsor_title'] == 'Sen.':\n",
    "                cosponsors_list_sen.append(bills.cosponsors.iloc[i][j]['cosponsor_id'])\n",
    "            elif bills.cosponsors.iloc[i][j]['cosponsor_title'] == 'Rep.':\n",
    "                cosponsors_list_rep.append(bills.cosponsors.iloc[i][j]['cosponsor_id'])\n",
    "            elif bills.cosponsors.iloc[i][j]['cosponsor_title'] == 'Del.':\n",
    "                cosponsors_list_del.append(bills.cosponsors.iloc[i][j]['cosponsor_id'])\n",
    "        bills.cosponsors_sen.iloc[i] = cosponsors_list_sen\n",
    "        bills.cosponsors_rep.iloc[i] = cosponsors_list_rep\n",
    "        bills.cosponsors_del.iloc[i] = cosponsors_list_del\n",
    "        \n",
    "    bills = bills.drop('cosponsors', axis = 1)\n",
    "\n",
    "    return bills"
   ]
  },
  {
   "cell_type": "code",
   "execution_count": 22,
   "metadata": {},
   "outputs": [],
   "source": [
    "def gen_bill_csv_file(congress_number):\n",
    "    bills = all_laws[(all_laws['congress'] == congress_number) & (all_laws['bill_api_uri'].notnull())]\n",
    "    bills_ = bills['bill_api_uri'].unique()\n",
    "\n",
    "    bills_sponsorship = []\n",
    "\n",
    "    for i in range(0, len(bills_)):\n",
    "        url = bills_[i][:-5] + '/cosponsors.json'\n",
    "\n",
    "        d = {}\n",
    "        try:\n",
    "            req = requests.get(url, headers={'X-API-Key': API_KEY}).json()\n",
    "            results = req['results'][0]\n",
    "            d['bill_url'] = bills_[i]\n",
    "            d['sponsor_party'] = results['sponsor_party']\n",
    "            d['sponsor_id'] = results['sponsor_id']\n",
    "            d['sponsor_title'] = results['sponsor_title']\n",
    "            d['committees'] = results['committees']\n",
    "            d['number_of_cosponsors'] = results['number_of_cosponsors']\n",
    "            d['cosponsors_by_party'] = results['cosponsors_by_party']\n",
    "            d['cosponsors'] = results['cosponsors']\n",
    "\n",
    "            bills_sponsorship.append(d)\n",
    "        except:\n",
    "            pass\n",
    "\n",
    "    bills_sponsorship = pd.DataFrame(bills_sponsorship)\n",
    "    bills = bills.merge(bills_sponsorship, left_on = 'bill_api_uri', right_on = 'bill_url')\n",
    "    bills = bills.drop(['result','total_no', 'total_not_voting', 'total_yes', 'cosponsors_by_party','number_of_cosponsors','congress'], axis=1)\n",
    "    bills = bills[bills['sponsor_id'] !='']\n",
    "    bills = bills[bills['sponsor_title'] !='']\n",
    "    bills = bills[bills['sponsor_party'] != 'ID']\n",
    "    bills = get_cosponsors_idx(bills)\n",
    "    bills.to_csv('../data/bills/bills_{}.csv'.format(congress_number), index = False)\n",
    "\n"
   ]
  },
  {
   "cell_type": "code",
   "execution_count": 23,
   "metadata": {},
   "outputs": [],
   "source": [
    "for congress_number in range(105, 116):\n",
    "    gen_bill_csv_file(congress_number);"
   ]
  },
  {
   "cell_type": "markdown",
   "metadata": {},
   "source": [
    "## Get votes senate"
   ]
  },
  {
   "cell_type": "code",
   "execution_count": 26,
   "metadata": {},
   "outputs": [],
   "source": [
    "def get_votes(congress_number):\n",
    "    votes = list(all_laws[all_laws.congress == congress_number]['vote_uri'])\n",
    "\n",
    "    df = pd.DataFrame()\n",
    "\n",
    "    for i, url in enumerate(votes):\n",
    "        req = requests.get(url, headers={'X-API-Key': API_KEY}).json()\n",
    "        d = pd.DataFrame(req['results']['votes']['vote']['positions'])\n",
    "        d['vote_uri'] = url\n",
    "\n",
    "        df = pd.concat([df, d])\n",
    "\n",
    "    df.to_csv('../data/votes/votes_{}.csv'.format(congress_number), index=False)"
   ]
  },
  {
   "cell_type": "code",
   "execution_count": 37,
   "metadata": {},
   "outputs": [],
   "source": [
    "for congress_number in range(105, 116):\n",
    "    get_votes(congress_number);"
   ]
  },
  {
   "cell_type": "code",
   "execution_count": null,
   "metadata": {},
   "outputs": [],
   "source": []
  }
 ],
 "metadata": {
  "kernelspec": {
   "display_name": "Python 3",
   "language": "python",
   "name": "python3"
  },
  "language_info": {
   "codemirror_mode": {
    "name": "ipython",
    "version": 3
   },
   "file_extension": ".py",
   "mimetype": "text/x-python",
   "name": "python",
   "nbconvert_exporter": "python",
   "pygments_lexer": "ipython3",
   "version": "3.6.7"
  }
 },
 "nbformat": 4,
 "nbformat_minor": 2
}
