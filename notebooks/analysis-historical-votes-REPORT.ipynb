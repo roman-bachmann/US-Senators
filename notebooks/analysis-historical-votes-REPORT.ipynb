{
 "cells": [
  {
   "cell_type": "markdown",
   "metadata": {},
   "source": [
    "# Goal\n",
    "\n",
    "Play around with all laws voted over the last 20 years (since 1997 until 2018) to analyse the voting behavior of two parties. \n",
    "\n",
    "The goal here is not analyse the historical adjacency matrix of laws, for it, please check `analysis-historical-adjacency.ipynb`\n",
    "\n",
    "## Main Takeaways\n",
    "\n",
    "- High level of divergency does not mean that laws won't be approved (look congress 111 where the level of approvals kept the same but the divergency was highest possible)\n",
    "- Republicans have dominated democrats until 109 congress (2005-2007), then democrats took the power until congress 113 (2013-2015) and then republicans dominate until now\n",
    "- According with our sample of 2 data points, Obama - Democrat assumes in 2009 (2 years before democrats have dominated the congress) and Trump - Republican assumes in 2018 (2 years before republicans have already taken the power again). Is it the congress a good predictor of the next presindent?\n",
    "- The highest divergence was in the congress 111 which started when Obama assumed as president. The rate of republicans' \"yes\" for laws has dropped during this congress.\n",
    "- When a party is dominated, it takes decisions less consistently (a lot of discondance inside the party) - It happened with Republicans in 110 congress and in 115 congress with Democrats\n",
    "- When a party starts to dominated, it takes decisions more consistently (there is not a lot of discondance and everyone votes the same) - It happened with Democrats in 110 congress and in 115 with Republicans\n",
    "- In the last semester of the first year, the level of laws proposed is much lower than in the other semesters. In trends can not be observed in the last semester of the second year.\n",
    "\n",
    "> Domination means that most of laws were approved because JUST ONE of the parties wanted it\n",
    "\n",
    "## Further Analysis\n",
    "\n",
    "It would be interesting analyse the approval rate by subject as well\n",
    "\n"
   ]
  },
  {
   "cell_type": "code",
   "execution_count": 1,
   "metadata": {},
   "outputs": [],
   "source": [
    "import os\n",
    "import pandas as pd\n",
    "import numpy as np\n",
    "\n",
    "import altair as alt\n",
    "import seaborn as sns\n",
    "import matplotlib.pyplot as plt\n",
    "%matplotlib inline "
   ]
  },
  {
   "cell_type": "code",
   "execution_count": 2,
   "metadata": {},
   "outputs": [],
   "source": [
    "ALL_LAWS_PATH = '../data/all-votes/laws_20years.csv'\n",
    "pal = {'republican': '#ff0000', 'democrats': '#0000ff'}\n",
    "sns.set(context='notebook', style='darkgrid', palette='deep', font='sans-serif', font_scale=2, color_codes=True, rc=None)"
   ]
  },
  {
   "cell_type": "code",
   "execution_count": 3,
   "metadata": {},
   "outputs": [
    {
     "name": "stdout",
     "output_type": "stream",
     "text": [
      "(6834, 17)\n"
     ]
    }
   ],
   "source": [
    "all_laws = pd.read_csv(ALL_LAWS_PATH)\n",
    "print(all_laws.shape)"
   ]
  },
  {
   "cell_type": "code",
   "execution_count": 4,
   "metadata": {},
   "outputs": [],
   "source": [
    "LOOKUP_RESULT = {\n",
    "    'Agreed to': 'passed', 'Rejected': 'rejected', 'Nomination Confirmed': 'passed',\n",
    "    'Cloture Motion Agreed to': 'passed', 'Amendment Rejected': 'rejected', 'Confirmed': 'passed',\n",
    "    'Passed': 'passed', 'Amendment Agreed to': 'passed', 'Motion Rejected': 'rejected',\n",
    "    'Motion Agreed to': 'passed', 'Bill Passed': 'passed', 'Motion to Table Agreed to': 'passed',\n",
    "    'Cloture Motion Rejected': 'rejected', 'Motion to Proceed Agreed to': 'passed',\n",
    "    'Cloture on the Motion to Proceed Agreed to': 'passed', 'Cloture on the Motion to Proceed Rejected': 'rejected'\n",
    "}"
   ]
  },
  {
   "cell_type": "code",
   "execution_count": 5,
   "metadata": {},
   "outputs": [],
   "source": [
    "all_laws['result_ok'] = all_laws.result.apply(lambda x: LOOKUP_RESULT.get(x, 'undefinied'))\n",
    "all_laws['quarter'] = all_laws['year'].apply(str) + '-' + pd.to_datetime(all_laws.date).dt.quarter.apply(str) "
   ]
  },
  {
   "cell_type": "code",
   "execution_count": 6,
   "metadata": {},
   "outputs": [
    {
     "data": {
      "text/html": [
       "<div>\n",
       "<style scoped>\n",
       "    .dataframe tbody tr th:only-of-type {\n",
       "        vertical-align: middle;\n",
       "    }\n",
       "\n",
       "    .dataframe tbody tr th {\n",
       "        vertical-align: top;\n",
       "    }\n",
       "\n",
       "    .dataframe thead th {\n",
       "        text-align: right;\n",
       "    }\n",
       "</style>\n",
       "<table border=\"1\" class=\"dataframe\">\n",
       "  <thead>\n",
       "    <tr style=\"text-align: right;\">\n",
       "      <th></th>\n",
       "      <th>result_ok</th>\n",
       "    </tr>\n",
       "  </thead>\n",
       "  <tbody>\n",
       "    <tr>\n",
       "      <th>passed</th>\n",
       "      <td>4293</td>\n",
       "    </tr>\n",
       "    <tr>\n",
       "      <th>rejected</th>\n",
       "      <td>2314</td>\n",
       "    </tr>\n",
       "    <tr>\n",
       "      <th>undefinied</th>\n",
       "      <td>227</td>\n",
       "    </tr>\n",
       "  </tbody>\n",
       "</table>\n",
       "</div>"
      ],
      "text/plain": [
       "            result_ok\n",
       "passed           4293\n",
       "rejected         2314\n",
       "undefinied        227"
      ]
     },
     "execution_count": 6,
     "metadata": {},
     "output_type": "execute_result"
    }
   ],
   "source": [
    "pd.DataFrame(all_laws.result_ok.value_counts())"
   ]
  },
  {
   "cell_type": "code",
   "execution_count": 8,
   "metadata": {},
   "outputs": [
    {
     "data": {
      "image/png": "[encoded data removed]",
      "text/plain": [
       "<Figure size 720x360 with 1 Axes>"
      ]
     },
     "metadata": {},
     "output_type": "display_data"
    }
   ],
   "source": [
    "plt.figure(figsize=(10, 5))\n",
    "d = pd.DataFrame(all_laws.groupby('congress').size()).reset_index().rename(columns={0: 'count'})\n",
    "sns.barplot(y='count', x='congress', data=d);\n",
    "plt.ylabel('# Laws');"
   ]
  },
  {
   "cell_type": "code",
   "execution_count": 9,
   "metadata": {},
   "outputs": [
    {
     "data": {
      "text/plain": [
       "Index(['bill_api_uri', 'congress', 'date', 'democrats_no', 'democrats_yes',\n",
       "       'independent_no', 'independent_yes', 'month', 'republican_no',\n",
       "       'republican_yes', 'result', 'total_no', 'total_not_voting', 'total_yes',\n",
       "       'vote_type', 'vote_uri', 'year', 'result_ok', 'quarter'],\n",
       "      dtype='object')"
      ]
     },
     "execution_count": 9,
     "metadata": {},
     "output_type": "execute_result"
    }
   ],
   "source": [
    "all_laws.columns"
   ]
  },
  {
   "cell_type": "code",
   "execution_count": 25,
   "metadata": {},
   "outputs": [],
   "source": [
    "# plt.figure(figsize=(10, 5))\n",
    "# d = pd.DataFrame(all_laws.groupby('quarter_join').size()).reset_index().rename(columns={0: 'count'})\n",
    "# sns.barplot(y='count', x='quarter_join', data=d);\n",
    "# plt.ylabel('# Laws');"
   ]
  },
  {
   "cell_type": "markdown",
   "metadata": {},
   "source": [
    "## Historical Passed over Rejected"
   ]
  },
  {
   "cell_type": "code",
   "execution_count": 11,
   "metadata": {},
   "outputs": [
    {
     "data": {
      "application/vnd.vegalite.v2+json": {
       "$schema": "https://vega.github.io/schema/vega-lite/v2.6.0.json",
       "config": {
        "view": {
         "height": 300,
         "width": 400
        }
       },
       "data": {
        "name": "data-e2878c20cac8b5f0faa5462b2698ff61"
       },
       "datasets": {
        "data-e2878c20cac8b5f0faa5462b2698ff61": [
         {
          "count": 32,
          "quarter": "1997-01-01T00:00:00",
          "result_ok": "passed"
         },
         {
          "count": 3,
          "quarter": "1997-01-01T00:00:00",
          "result_ok": "rejected"
         },
         {
          "count": 79,
          "quarter": "1997-02-01T00:00:00",
          "result_ok": "passed"
         },
         {
          "count": 46,
          "quarter": "1997-02-01T00:00:00",
          "result_ok": "rejected"
         },
         {
          "count": 70,
          "quarter": "1997-03-01T00:00:00",
          "result_ok": "passed"
         },
         {
          "count": 32,
          "quarter": "1997-03-01T00:00:00",
          "result_ok": "rejected"
         },
         {
          "count": 1,
          "quarter": "1997-03-01T00:00:00",
          "result_ok": "undefinied"
         },
         {
          "count": 23,
          "quarter": "1997-04-01T00:00:00",
          "result_ok": "passed"
         },
         {
          "count": 12,
          "quarter": "1997-04-01T00:00:00",
          "result_ok": "rejected"
         },
         {
          "count": 36,
          "quarter": "1998-01-01T00:00:00",
          "result_ok": "passed"
         },
         {
          "count": 15,
          "quarter": "1998-01-01T00:00:00",
          "result_ok": "rejected"
         },
         {
          "count": 1,
          "quarter": "1998-01-01T00:00:00",
          "result_ok": "undefinied"
         },
         {
          "count": 79,
          "quarter": "1998-02-01T00:00:00",
          "result_ok": "passed"
         },
         {
          "count": 52,
          "quarter": "1998-02-01T00:00:00",
          "result_ok": "rejected"
         },
         {
          "count": 73,
          "quarter": "1998-03-01T00:00:00",
          "result_ok": "passed"
         },
         {
          "count": 35,
          "quarter": "1998-03-01T00:00:00",
          "result_ok": "rejected"
         },
         {
          "count": 1,
          "quarter": "1998-03-01T00:00:00",
          "result_ok": "undefinied"
         },
         {
          "count": 19,
          "quarter": "1998-04-01T00:00:00",
          "result_ok": "passed"
         },
         {
          "count": 3,
          "quarter": "1998-04-01T00:00:00",
          "result_ok": "rejected"
         },
         {
          "count": 47,
          "quarter": "1999-01-01T00:00:00",
          "result_ok": "passed"
         },
         {
          "count": 31,
          "quarter": "1999-01-01T00:00:00",
          "result_ok": "rejected"
         },
         {
          "count": 3,
          "quarter": "1999-01-01T00:00:00",
          "result_ok": "undefinied"
         },
         {
          "count": 85,
          "quarter": "1999-02-01T00:00:00",
          "result_ok": "passed"
         },
         {
          "count": 26,
          "quarter": "1999-02-01T00:00:00",
          "result_ok": "rejected"
         },
         {
          "count": 62,
          "quarter": "1999-03-01T00:00:00",
          "result_ok": "passed"
         },
         {
          "count": 49,
          "quarter": "1999-03-01T00:00:00",
          "result_ok": "rejected"
         },
         {
          "count": 1,
          "quarter": "1999-03-01T00:00:00",
          "result_ok": "undefinied"
         },
         {
          "count": 54,
          "quarter": "1999-04-01T00:00:00",
          "result_ok": "passed"
         },
         {
          "count": 16,
          "quarter": "1999-04-01T00:00:00",
          "result_ok": "rejected"
         },
         {
          "count": 38,
          "quarter": "2000-01-01T00:00:00",
          "result_ok": "passed"
         },
         {
          "count": 13,
          "quarter": "2000-01-01T00:00:00",
          "result_ok": "rejected"
         },
         {
          "count": 78,
          "quarter": "2000-02-01T00:00:00",
          "result_ok": "passed"
         },
         {
          "count": 38,
          "quarter": "2000-02-01T00:00:00",
          "result_ok": "rejected"
         },
         {
          "count": 4,
          "quarter": "2000-02-01T00:00:00",
          "result_ok": "undefinied"
         },
         {
          "count": 38,
          "quarter": "2000-03-01T00:00:00",
          "result_ok": "passed"
         },
         {
          "count": 50,
          "quarter": "2000-03-01T00:00:00",
          "result_ok": "rejected"
         },
         {
          "count": 1,
          "quarter": "2000-03-01T00:00:00",
          "result_ok": "undefinied"
         },
         {
          "count": 35,
          "quarter": "2000-04-01T00:00:00",
          "result_ok": "passed"
         },
         {
          "count": 2,
          "quarter": "2000-04-01T00:00:00",
          "result_ok": "rejected"
         },
         {
          "count": 1,
          "quarter": "2000-04-01T00:00:00",
          "result_ok": "undefinied"
         },
         {
          "count": 46,
          "quarter": "2001-01-01T00:00:00",
          "result_ok": "passed"
         },
         {
          "count": 17,
          "quarter": "2001-01-01T00:00:00",
          "result_ok": "rejected"
         },
         {
          "count": 73,
          "quarter": "2001-02-01T00:00:00",
          "result_ok": "passed"
         },
         {
          "count": 81,
          "quarter": "2001-02-01T00:00:00",
          "result_ok": "rejected"
         },
         {
          "count": 3,
          "quarter": "2001-02-01T00:00:00",
          "result_ok": "undefinied"
         },
         {
          "count": 58,
          "quarter": "2001-03-01T00:00:00",
          "result_ok": "passed"
         },
         {
          "count": 10,
          "quarter": "2001-03-01T00:00:00",
          "result_ok": "rejected"
         },
         {
          "count": 69,
          "quarter": "2001-04-01T00:00:00",
          "result_ok": "passed"
         },
         {
          "count": 21,
          "quarter": "2001-04-01T00:00:00",
          "result_ok": "rejected"
         },
         {
          "count": 2,
          "quarter": "2001-04-01T00:00:00",
          "result_ok": "undefinied"
         },
         {
          "count": 36,
          "quarter": "2002-01-01T00:00:00",
          "result_ok": "passed"
         },
         {
          "count": 23,
          "quarter": "2002-01-01T00:00:00",
          "result_ok": "rejected"
         },
         {
          "count": 86,
          "quarter": "2002-02-01T00:00:00",
          "result_ok": "passed"
         },
         {
          "count": 21,
          "quarter": "2002-02-01T00:00:00",
          "result_ok": "rejected"
         },
         {
          "count": 47,
          "quarter": "2002-03-01T00:00:00",
          "result_ok": "passed"
         },
         {
          "count": 14,
          "quarter": "2002-03-01T00:00:00",
          "result_ok": "rejected"
         },
         {
          "count": 20,
          "quarter": "2002-04-01T00:00:00",
          "result_ok": "passed"
         },
         {
          "count": 6,
          "quarter": "2002-04-01T00:00:00",
          "result_ok": "rejected"
         },
         {
          "count": 61,
          "quarter": "2003-01-01T00:00:00",
          "result_ok": "passed"
         },
         {
          "count": 51,
          "quarter": "2003-01-01T00:00:00",
          "result_ok": "rejected"
         },
         {
          "count": 83,
          "quarter": "2003-02-01T00:00:00",
          "result_ok": "passed"
         },
         {
          "count": 67,
          "quarter": "2003-02-01T00:00:00",
          "result_ok": "rejected"
         },
         {
          "count": 63,
          "quarter": "2003-03-01T00:00:00",
          "result_ok": "passed"
         },
         {
          "count": 45,
          "quarter": "2003-03-01T00:00:00",
          "result_ok": "rejected"
         },
         {
          "count": 60,
          "quarter": "2003-04-01T00:00:00",
          "result_ok": "passed"
         },
         {
          "count": 29,
          "quarter": "2003-04-01T00:00:00",
          "result_ok": "rejected"
         },
         {
          "count": 31,
          "quarter": "2004-01-01T00:00:00",
          "result_ok": "passed"
         },
         {
          "count": 32,
          "quarter": "2004-01-01T00:00:00",
          "result_ok": "rejected"
         },
         {
          "count": 1,
          "quarter": "2004-01-01T00:00:00",
          "result_ok": "undefinied"
         },
         {
          "count": 58,
          "quarter": "2004-02-01T00:00:00",
          "result_ok": "passed"
         },
         {
          "count": 30,
          "quarter": "2004-02-01T00:00:00",
          "result_ok": "rejected"
         },
         {
          "count": 26,
          "quarter": "2004-03-01T00:00:00",
          "result_ok": "passed"
         },
         {
          "count": 16,
          "quarter": "2004-03-01T00:00:00",
          "result_ok": "rejected"
         },
         {
          "count": 19,
          "quarter": "2004-04-01T00:00:00",
          "result_ok": "passed"
         },
         {
          "count": 3,
          "quarter": "2004-04-01T00:00:00",
          "result_ok": "rejected"
         },
         {
          "count": 29,
          "quarter": "2005-01-01T00:00:00",
          "result_ok": "passed"
         },
         {
          "count": 51,
          "quarter": "2005-01-01T00:00:00",
          "result_ok": "rejected"
         },
         {
          "count": 1,
          "quarter": "2005-01-01T00:00:00",
          "result_ok": "undefinied"
         },
         {
          "count": 61,
          "quarter": "2005-02-01T00:00:00",
          "result_ok": "passed"
         },
         {
          "count": 28,
          "quarter": "2005-02-01T00:00:00",
          "result_ok": "rejected"
         },
         {
          "count": 45,
          "quarter": "2005-03-01T00:00:00",
          "result_ok": "passed"
         },
         {
          "count": 31,
          "quarter": "2005-03-01T00:00:00",
          "result_ok": "rejected"
         },
         {
          "count": 53,
          "quarter": "2005-04-01T00:00:00",
          "result_ok": "passed"
         },
         {
          "count": 66,
          "quarter": "2005-04-01T00:00:00",
          "result_ok": "rejected"
         },
         {
          "count": 1,
          "quarter": "2005-04-01T00:00:00",
          "result_ok": "undefinied"
         },
         {
          "count": 43,
          "quarter": "2006-01-01T00:00:00",
          "result_ok": "passed"
         },
         {
          "count": 40,
          "quarter": "2006-01-01T00:00:00",
          "result_ok": "rejected"
         },
         {
          "count": 72,
          "quarter": "2006-02-01T00:00:00",
          "result_ok": "passed"
         },
         {
          "count": 35,
          "quarter": "2006-02-01T00:00:00",
          "result_ok": "rejected"
         },
         {
          "count": 47,
          "quarter": "2006-03-01T00:00:00",
          "result_ok": "passed"
         },
         {
          "count": 26,
          "quarter": "2006-03-01T00:00:00",
          "result_ok": "rejected"
         },
         {
          "count": 10,
          "quarter": "2006-04-01T00:00:00",
          "result_ok": "passed"
         },
         {
          "count": 6,
          "quarter": "2006-04-01T00:00:00",
          "result_ok": "rejected"
         },
         {
          "count": 75,
          "quarter": "2007-01-01T00:00:00",
          "result_ok": "passed"
         },
         {
          "count": 50,
          "quarter": "2007-01-01T00:00:00",
          "result_ok": "rejected"
         },
         {
          "count": 1,
          "quarter": "2007-01-01T00:00:00",
          "result_ok": "undefinied"
         },
         {
          "count": 62,
          "quarter": "2007-02-01T00:00:00",
          "result_ok": "passed"
         },
         {
          "count": 50,
          "quarter": "2007-02-01T00:00:00",
          "result_ok": "rejected"
         },
         {
          "count": 64,
          "quarter": "2007-03-01T00:00:00",
          "result_ok": "passed"
         },
         {
          "count": 54,
          "quarter": "2007-03-01T00:00:00",
          "result_ok": "rejected"
         },
         {
          "count": 1,
          "quarter": "2007-03-01T00:00:00",
          "result_ok": "undefinied"
         },
         {
          "count": 49,
          "quarter": "2007-04-01T00:00:00",
          "result_ok": "passed"
         },
         {
          "count": 35,
          "quarter": "2007-04-01T00:00:00",
          "result_ok": "rejected"
         },
         {
          "count": 1,
          "quarter": "2007-04-01T00:00:00",
          "result_ok": "undefinied"
         },
         {
          "count": 45,
          "quarter": "2008-01-01T00:00:00",
          "result_ok": "passed"
         },
         {
          "count": 40,
          "quarter": "2008-01-01T00:00:00",
          "result_ok": "rejected"
         },
         {
          "count": 44,
          "quarter": "2008-02-01T00:00:00",
          "result_ok": "passed"
         },
         {
          "count": 31,
          "quarter": "2008-02-01T00:00:00",
          "result_ok": "rejected"
         },
         {
          "count": 2,
          "quarter": "2008-02-01T00:00:00",
          "result_ok": "undefinied"
         },
         {
          "count": 28,
          "quarter": "2008-03-01T00:00:00",
          "result_ok": "passed"
         },
         {
          "count": 18,
          "quarter": "2008-03-01T00:00:00",
          "result_ok": "rejected"
         },
         {
          "count": 1,
          "quarter": "2008-03-01T00:00:00",
          "result_ok": "undefinied"
         },
         {
          "count": 5,
          "quarter": "2008-04-01T00:00:00",
          "result_ok": "passed"
         },
         {
          "count": 1,
          "quarter": "2008-04-01T00:00:00",
          "result_ok": "rejected"
         },
         {
          "count": 59,
          "quarter": "2009-01-01T00:00:00",
          "result_ok": "passed"
         },
         {
          "count": 58,
          "quarter": "2009-01-01T00:00:00",
          "result_ok": "rejected"
         },
         {
          "count": 1,
          "quarter": "2009-01-01T00:00:00",
          "result_ok": "undefinied"
         },
         {
          "count": 55,
          "quarter": "2009-02-01T00:00:00",
          "result_ok": "passed"
         },
         {
          "count": 38,
          "quarter": "2009-02-01T00:00:00",
          "result_ok": "rejected"
         },
         {
          "count": 3,
          "quarter": "2009-02-01T00:00:00",
          "result_ok": "undefinied"
         },
         {
          "count": 46,
          "quarter": "2009-03-01T00:00:00",
          "result_ok": "passed"
         },
         {
          "count": 41,
          "quarter": "2009-03-01T00:00:00",
          "result_ok": "rejected"
         },
         {
          "count": 2,
          "quarter": "2009-03-01T00:00:00",
          "result_ok": "undefinied"
         },
         {
          "count": 59,
          "quarter": "2009-04-01T00:00:00",
          "result_ok": "passed"
         },
         {
          "count": 26,
          "quarter": "2009-04-01T00:00:00",
          "result_ok": "rejected"
         },
         {
          "count": 9,
          "quarter": "2009-04-01T00:00:00",
          "result_ok": "undefinied"
         },
         {
          "count": 70,
          "quarter": "2010-01-01T00:00:00",
          "result_ok": "passed"
         },
         {
          "count": 35,
          "quarter": "2010-01-01T00:00:00",
          "result_ok": "rejected"
         },
         {
          "count": 3,
          "quarter": "2010-01-01T00:00:00",
          "result_ok": "undefinied"
         },
         {
          "count": 59,
          "quarter": "2010-02-01T00:00:00",
          "result_ok": "passed"
         },
         {
          "count": 34,
          "quarter": "2010-02-01T00:00:00",
          "result_ok": "rejected"
         },
         {
          "count": 3,
          "quarter": "2010-02-01T00:00:00",
          "result_ok": "undefinied"
         },
         {
          "count": 19,
          "quarter": "2010-03-01T00:00:00",
          "result_ok": "passed"
         },
         {
          "count": 19,
          "quarter": "2010-03-01T00:00:00",
          "result_ok": "rejected"
         },
         {
          "count": 6,
          "quarter": "2010-03-01T00:00:00",
          "result_ok": "undefinied"
         },
         {
          "count": 21,
          "quarter": "2010-04-01T00:00:00",
          "result_ok": "passed"
         },
         {
          "count": 25,
          "quarter": "2010-04-01T00:00:00",
          "result_ok": "rejected"
         },
         {
          "count": 5,
          "quarter": "2010-04-01T00:00:00",
          "result_ok": "undefinied"
         },
         {
          "count": 31,
          "quarter": "2011-01-01T00:00:00",
          "result_ok": "passed"
         },
         {
          "count": 5,
          "quarter": "2011-01-01T00:00:00",
          "result_ok": "rejected"
         },
         {
          "count": 10,
          "quarter": "2011-01-01T00:00:00",
          "result_ok": "undefinied"
         },
         {
          "count": 29,
          "quarter": "2011-02-01T00:00:00",
          "result_ok": "passed"
         },
         {
          "count": 19,
          "quarter": "2011-02-01T00:00:00",
          "result_ok": "rejected"
         },
         {
          "count": 10,
          "quarter": "2011-02-01T00:00:00",
          "result_ok": "undefinied"
         },
         {
          "count": 30,
          "quarter": "2011-03-01T00:00:00",
          "result_ok": "passed"
         },
         {
          "count": 18,
          "quarter": "2011-03-01T00:00:00",
          "result_ok": "rejected"
         },
         {
          "count": 1,
          "quarter": "2011-03-01T00:00:00",
          "result_ok": "undefinied"
         },
         {
          "count": 41,
          "quarter": "2011-04-01T00:00:00",
          "result_ok": "passed"
         },
         {
          "count": 25,
          "quarter": "2011-04-01T00:00:00",
          "result_ok": "rejected"
         },
         {
          "count": 16,
          "quarter": "2011-04-01T00:00:00",
          "result_ok": "undefinied"
         },
         {
          "count": 32,
          "quarter": "2012-01-01T00:00:00",
          "result_ok": "passed"
         },
         {
          "count": 28,
          "quarter": "2012-01-01T00:00:00",
          "result_ok": "rejected"
         },
         {
          "count": 3,
          "quarter": "2012-01-01T00:00:00",
          "result_ok": "undefinied"
         },
         {
          "count": 46,
          "quarter": "2012-02-01T00:00:00",
          "result_ok": "passed"
         },
         {
          "count": 53,
          "quarter": "2012-02-01T00:00:00",
          "result_ok": "rejected"
         },
         {
          "count": 10,
          "quarter": "2012-02-01T00:00:00",
          "result_ok": "undefinied"
         },
         {
          "count": 16,
          "quarter": "2012-03-01T00:00:00",
          "result_ok": "passed"
         },
         {
          "count": 9,
          "quarter": "2012-03-01T00:00:00",
          "result_ok": "rejected"
         },
         {
          "count": 3,
          "quarter": "2012-03-01T00:00:00",
          "result_ok": "undefinied"
         },
         {
          "count": 27,
          "quarter": "2012-04-01T00:00:00",
          "result_ok": "passed"
         },
         {
          "count": 21,
          "quarter": "2012-04-01T00:00:00",
          "result_ok": "rejected"
         },
         {
          "count": 2,
          "quarter": "2012-04-01T00:00:00",
          "result_ok": "undefinied"
         },
         {
          "count": 40,
          "quarter": "2013-01-01T00:00:00",
          "result_ok": "passed"
         },
         {
          "count": 48,
          "quarter": "2013-01-01T00:00:00",
          "result_ok": "rejected"
         },
         {
          "count": 5,
          "quarter": "2013-01-01T00:00:00",
          "result_ok": "undefinied"
         },
         {
          "count": 52,
          "quarter": "2013-02-01T00:00:00",
          "result_ok": "passed"
         },
         {
          "count": 23,
          "quarter": "2013-02-01T00:00:00",
          "result_ok": "rejected"
         },
         {
          "count": 1,
          "quarter": "2013-02-01T00:00:00",
          "result_ok": "undefinied"
         },
         {
          "count": 36,
          "quarter": "2013-03-01T00:00:00",
          "result_ok": "passed"
         },
         {
          "count": 4,
          "quarter": "2013-03-01T00:00:00",
          "result_ok": "rejected"
         },
         {
          "count": 3,
          "quarter": "2013-03-01T00:00:00",
          "result_ok": "undefinied"
         },
         {
          "count": 59,
          "quarter": "2013-04-01T00:00:00",
          "result_ok": "passed"
         },
         {
          "count": 9,
          "quarter": "2013-04-01T00:00:00",
          "result_ok": "rejected"
         },
         {
          "count": 12,
          "quarter": "2013-04-01T00:00:00",
          "result_ok": "undefinied"
         },
         {
          "count": 77,
          "quarter": "2014-01-01T00:00:00",
          "result_ok": "passed"
         },
         {
          "count": 10,
          "quarter": "2014-01-01T00:00:00",
          "result_ok": "rejected"
         },
         {
          "count": 6,
          "quarter": "2014-01-01T00:00:00",
          "result_ok": "undefinied"
         },
         {
          "count": 111,
          "quarter": "2014-02-01T00:00:00",
          "result_ok": "passed"
         },
         {
          "count": 7,
          "quarter": "2014-02-01T00:00:00",
          "result_ok": "rejected"
         },
         {
          "count": 5,
          "quarter": "2014-02-01T00:00:00",
          "result_ok": "undefinied"
         },
         {
          "count": 41,
          "quarter": "2014-03-01T00:00:00",
          "result_ok": "passed"
         },
         {
          "count": 9,
          "quarter": "2014-03-01T00:00:00",
          "result_ok": "rejected"
         },
         {
          "count": 4,
          "quarter": "2014-03-01T00:00:00",
          "result_ok": "undefinied"
         },
         {
          "count": 91,
          "quarter": "2014-04-01T00:00:00",
          "result_ok": "passed"
         },
         {
          "count": 1,
          "quarter": "2014-04-01T00:00:00",
          "result_ok": "rejected"
         },
         {
          "count": 4,
          "quarter": "2014-04-01T00:00:00",
          "result_ok": "undefinied"
         },
         {
          "count": 62,
          "quarter": "2015-01-01T00:00:00",
          "result_ok": "passed"
         },
         {
          "count": 68,
          "quarter": "2015-01-01T00:00:00",
          "result_ok": "rejected"
         },
         {
          "count": 5,
          "quarter": "2015-01-01T00:00:00",
          "result_ok": "undefinied"
         },
         {
          "count": 50,
          "quarter": "2015-02-01T00:00:00",
          "result_ok": "passed"
         },
         {
          "count": 32,
          "quarter": "2015-02-01T00:00:00",
          "result_ok": "rejected"
         },
         {
          "count": 3,
          "quarter": "2015-02-01T00:00:00",
          "result_ok": "undefinied"
         },
         {
          "count": 27,
          "quarter": "2015-03-01T00:00:00",
          "result_ok": "passed"
         },
         {
          "count": 24,
          "quarter": "2015-03-01T00:00:00",
          "result_ok": "rejected"
         },
         {
          "count": 1,
          "quarter": "2015-03-01T00:00:00",
          "result_ok": "undefinied"
         },
         {
          "count": 33,
          "quarter": "2015-04-01T00:00:00",
          "result_ok": "passed"
         },
         {
          "count": 27,
          "quarter": "2015-04-01T00:00:00",
          "result_ok": "rejected"
         },
         {
          "count": 7,
          "quarter": "2015-04-01T00:00:00",
          "result_ok": "undefinied"
         },
         {
          "count": 21,
          "quarter": "2016-01-01T00:00:00",
          "result_ok": "passed"
         },
         {
          "count": 14,
          "quarter": "2016-01-01T00:00:00",
          "result_ok": "rejected"
         },
         {
          "count": 3,
          "quarter": "2016-01-01T00:00:00",
          "result_ok": "undefinied"
         },
         {
          "count": 47,
          "quarter": "2016-02-01T00:00:00",
          "result_ok": "passed"
         },
         {
          "count": 28,
          "quarter": "2016-02-01T00:00:00",
          "result_ok": "rejected"
         },
         {
          "count": 4,
          "quarter": "2016-02-01T00:00:00",
          "result_ok": "undefinied"
         },
         {
          "count": 22,
          "quarter": "2016-03-01T00:00:00",
          "result_ok": "passed"
         },
         {
          "count": 9,
          "quarter": "2016-03-01T00:00:00",
          "result_ok": "rejected"
         },
         {
          "count": 3,
          "quarter": "2016-03-01T00:00:00",
          "result_ok": "undefinied"
         },
         {
          "count": 10,
          "quarter": "2016-04-01T00:00:00",
          "result_ok": "passed"
         },
         {
          "count": 1,
          "quarter": "2016-04-01T00:00:00",
          "result_ok": "rejected"
         },
         {
          "count": 1,
          "quarter": "2016-04-01T00:00:00",
          "result_ok": "undefinied"
         },
         {
          "count": 59,
          "quarter": "2017-01-01T00:00:00",
          "result_ok": "passed"
         },
         {
          "count": 25,
          "quarter": "2017-01-01T00:00:00",
          "result_ok": "rejected"
         },
         {
          "count": 17,
          "quarter": "2017-01-01T00:00:00",
          "result_ok": "undefinied"
         },
         {
          "count": 45,
          "quarter": "2017-02-01T00:00:00",
          "result_ok": "passed"
         },
         {
          "count": 1,
          "quarter": "2017-02-01T00:00:00",
          "result_ok": "rejected"
         },
         {
          "count": 8,
          "quarter": "2017-02-01T00:00:00",
          "result_ok": "undefinied"
         },
         {
          "count": 43,
          "quarter": "2017-03-01T00:00:00",
          "result_ok": "passed"
         },
         {
          "count": 10,
          "quarter": "2017-03-01T00:00:00",
          "result_ok": "rejected"
         },
         {
          "count": 75,
          "quarter": "2017-04-01T00:00:00",
          "result_ok": "passed"
         },
         {
          "count": 38,
          "quarter": "2017-04-01T00:00:00",
          "result_ok": "rejected"
         },
         {
          "count": 4,
          "quarter": "2017-04-01T00:00:00",
          "result_ok": "undefinied"
         },
         {
          "count": 54,
          "quarter": "2018-01-01T00:00:00",
          "result_ok": "passed"
         },
         {
          "count": 8,
          "quarter": "2018-01-01T00:00:00",
          "result_ok": "rejected"
         },
         {
          "count": 1,
          "quarter": "2018-01-01T00:00:00",
          "result_ok": "undefinied"
         },
         {
          "count": 70,
          "quarter": "2018-02-01T00:00:00",
          "result_ok": "passed"
         },
         {
          "count": 4,
          "quarter": "2018-02-01T00:00:00",
          "result_ok": "rejected"
         },
         {
          "count": 6,
          "quarter": "2018-02-01T00:00:00",
          "result_ok": "undefinied"
         },
         {
          "count": 66,
          "quarter": "2018-03-01T00:00:00",
          "result_ok": "passed"
         },
         {
          "count": 5,
          "quarter": "2018-03-01T00:00:00",
          "result_ok": "rejected"
         },
         {
          "count": 4,
          "quarter": "2018-03-01T00:00:00",
          "result_ok": "undefinied"
         },
         {
          "count": 46,
          "quarter": "2018-04-01T00:00:00",
          "result_ok": "passed"
         },
         {
          "count": 4,
          "quarter": "2018-04-01T00:00:00",
          "result_ok": "rejected"
         },
         {
          "count": 6,
          "quarter": "2018-04-01T00:00:00",
          "result_ok": "undefinied"
         }
        ]
       },
       "height": 400,
       "layer": [
        {
         "encoding": {
          "color": {
           "field": "result_ok",
           "scale": {
            "domain": [
             "passed",
             "rejected"
            ],
            "range": [
             "green",
             "orange"
            ]
           },
           "type": "nominal"
          },
          "x": {
           "field": "quarter",
           "type": "temporal"
          },
          "y": {
           "field": "count",
           "type": "quantitative"
          }
         },
         "mark": {
          "interpolate": "basis",
          "type": "line"
         }
        },
        {
         "encoding": {
          "opacity": {
           "value": 0
          },
          "x": {
           "field": "quarter",
           "type": "quantitative"
          }
         },
         "mark": "point",
         "selection": {
          "selector001": {
           "empty": "none",
           "fields": [
            "quarter"
           ],
           "nearest": true,
           "on": "mouseover",
           "resolve": "global",
           "type": "single"
          }
         }
        },
        {
         "encoding": {
          "color": {
           "field": "result_ok",
           "scale": {
            "domain": [
             "passed",
             "rejected"
            ],
            "range": [
             "green",
             "orange"
            ]
           },
           "type": "nominal"
          },
          "opacity": {
           "condition": {
            "selection": "selector001",
            "value": 1
           },
           "value": 0
          },
          "x": {
           "field": "quarter",
           "type": "temporal"
          },
          "y": {
           "field": "count",
           "type": "quantitative"
          }
         },
         "mark": "point"
        },
        {
         "encoding": {
          "x": {
           "field": "quarter",
           "type": "quantitative"
          }
         },
         "mark": {
          "color": "gray",
          "type": "rule"
         },
         "transform": [
          {
           "filter": {
            "selection": "selector001"
           }
          }
         ]
        },
        {
         "encoding": {
          "color": {
           "field": "result_ok",
           "scale": {
            "domain": [
             "passed",
             "rejected"
            ],
            "range": [
             "green",
             "orange"
            ]
           },
           "type": "nominal"
          },
          "text": {
           "condition": {
            "field": "count",
            "selection": "selector001",
            "type": "quantitative"
           },
           "value": " "
          },
          "x": {
           "field": "quarter",
           "type": "temporal"
          },
          "y": {
           "field": "count",
           "type": "quantitative"
          }
         },
         "mark": {
          "align": "left",
          "dx": 5,
          "dy": -5,
          "type": "text"
         }
        }
       ],
       "width": 1000
      },
      "image/png": "[encoded data removed]",
      "text/plain": [
       "<VegaLite 2 object>\n",
       "\n",
       "If you see this message, it means the renderer has not been properly enabled\n",
       "for the frontend that you are using. For more information, see\n",
       "https://altair-viz.github.io/user_guide/troubleshooting.html\n"
      ]
     },
     "execution_count": 11,
     "metadata": {},
     "output_type": "execute_result"
    }
   ],
   "source": [
    "d = pd.DataFrame(all_laws.groupby(['quarter', 'result_ok']).size()).reset_index()\n",
    "d = d.rename(columns={0: 'count'})\n",
    "d['quarter'] = pd.to_datetime(d['quarter'])\n",
    "\n",
    "\n",
    "# Chart\n",
    "nearest = alt.selection(type='single', nearest=True, on='mouseover',\n",
    "                        fields=['quarter'], empty='none')\n",
    "line = alt.Chart().mark_line(interpolate='basis').encode(\n",
    "    x='quarter:T',\n",
    "    y='count:Q',\n",
    "    color=alt.Color('result_ok:N', \n",
    "                    scale=alt.Scale(domain=['passed', 'rejected'], \n",
    "                                    range=['green', 'orange'])))\n",
    "selectors = alt.Chart().mark_point().encode(\n",
    "    x='quarter:Q',\n",
    "    opacity=alt.value(0),).add_selection(nearest)\n",
    "points = line.mark_point().encode(\n",
    "    opacity=alt.condition(nearest, alt.value(1), alt.value(0)))\n",
    "text = line.mark_text(align='left', dx=5, dy=-5).encode(\n",
    "    text=alt.condition(nearest, 'count:Q', alt.value(' ')))\n",
    "rules = alt.Chart().mark_rule(color='gray').encode(\n",
    "    x='quarter:Q',).transform_filter(nearest)\n",
    "\n",
    "alt.layer(line, selectors, points, rules, text, data=d, width=1000, height=400)"
   ]
  },
  {
   "cell_type": "code",
   "execution_count": 12,
   "metadata": {},
   "outputs": [
    {
     "data": {
      "application/vnd.vegalite.v2+json": {
       "$schema": "https://vega.github.io/schema/vega-lite/v2.6.0.json",
       "config": {
        "view": {
         "height": 300,
         "width": 400
        }
       },
       "data": {
        "name": "data-c866f2a9acbef45c271aed11aeac94ce"
       },
       "datasets": {
        "data-c866f2a9acbef45c271aed11aeac94ce": [
         {
          "congress": 105,
          "count": 411,
          "result_ok": "passed"
         },
         {
          "congress": 105,
          "count": 198,
          "result_ok": "rejected"
         },
         {
          "congress": 105,
          "count": 3,
          "result_ok": "undefinied"
         },
         {
          "congress": 106,
          "count": 437,
          "result_ok": "passed"
         },
         {
          "congress": 106,
          "count": 225,
          "result_ok": "rejected"
         },
         {
          "congress": 106,
          "count": 10,
          "result_ok": "undefinied"
         },
         {
          "congress": 107,
          "count": 435,
          "result_ok": "passed"
         },
         {
          "congress": 107,
          "count": 193,
          "result_ok": "rejected"
         },
         {
          "congress": 107,
          "count": 5,
          "result_ok": "undefinied"
         },
         {
          "congress": 108,
          "count": 401,
          "result_ok": "passed"
         },
         {
          "congress": 108,
          "count": 273,
          "result_ok": "rejected"
         },
         {
          "congress": 108,
          "count": 1,
          "result_ok": "undefinied"
         },
         {
          "congress": 109,
          "count": 360,
          "result_ok": "passed"
         },
         {
          "congress": 109,
          "count": 283,
          "result_ok": "rejected"
         },
         {
          "congress": 109,
          "count": 2,
          "result_ok": "undefinied"
         },
         {
          "congress": 110,
          "count": 372,
          "result_ok": "passed"
         },
         {
          "congress": 110,
          "count": 279,
          "result_ok": "rejected"
         },
         {
          "congress": 110,
          "count": 6,
          "result_ok": "undefinied"
         },
         {
          "congress": 111,
          "count": 388,
          "result_ok": "passed"
         },
         {
          "congress": 111,
          "count": 276,
          "result_ok": "rejected"
         },
         {
          "congress": 111,
          "count": 32,
          "result_ok": "undefinied"
         },
         {
          "congress": 112,
          "count": 253,
          "result_ok": "passed"
         },
         {
          "congress": 112,
          "count": 178,
          "result_ok": "rejected"
         },
         {
          "congress": 112,
          "count": 55,
          "result_ok": "undefinied"
         },
         {
          "congress": 113,
          "count": 506,
          "result_ok": "passed"
         },
         {
          "congress": 113,
          "count": 111,
          "result_ok": "rejected"
         },
         {
          "congress": 113,
          "count": 40,
          "result_ok": "undefinied"
         },
         {
          "congress": 114,
          "count": 272,
          "result_ok": "passed"
         },
         {
          "congress": 114,
          "count": 203,
          "result_ok": "rejected"
         },
         {
          "congress": 114,
          "count": 27,
          "result_ok": "undefinied"
         },
         {
          "congress": 115,
          "count": 458,
          "result_ok": "passed"
         },
         {
          "congress": 115,
          "count": 95,
          "result_ok": "rejected"
         },
         {
          "congress": 115,
          "count": 46,
          "result_ok": "undefinied"
         }
        ]
       },
       "height": 300,
       "layer": [
        {
         "encoding": {
          "color": {
           "field": "result_ok",
           "scale": {
            "domain": [
             "passed",
             "rejected"
            ],
            "range": [
             "green",
             "orange"
            ]
           },
           "type": "nominal"
          },
          "x": {
           "field": "congress",
           "type": "ordinal"
          },
          "y": {
           "field": "count",
           "type": "quantitative"
          }
         },
         "mark": "line"
        },
        {
         "encoding": {
          "opacity": {
           "value": 0
          },
          "x": {
           "field": "congress",
           "type": "quantitative"
          }
         },
         "mark": "point",
         "selection": {
          "selector002": {
           "empty": "none",
           "fields": [
            "quarter"
           ],
           "nearest": true,
           "on": "mouseover",
           "resolve": "global",
           "type": "single"
          }
         }
        },
        {
         "encoding": {
          "color": {
           "field": "result_ok",
           "scale": {
            "domain": [
             "passed",
             "rejected"
            ],
            "range": [
             "green",
             "orange"
            ]
           },
           "type": "nominal"
          },
          "opacity": {
           "condition": {
            "selection": "selector002",
            "value": 1
           },
           "value": 0
          },
          "x": {
           "field": "congress",
           "type": "ordinal"
          },
          "y": {
           "field": "count",
           "type": "quantitative"
          }
         },
         "mark": "point"
        },
        {
         "encoding": {
          "x": {
           "field": "congress",
           "type": "quantitative"
          }
         },
         "mark": {
          "color": "gray",
          "type": "rule"
         },
         "transform": [
          {
           "filter": {
            "selection": "selector002"
           }
          }
         ]
        },
        {
         "encoding": {
          "color": {
           "field": "result_ok",
           "scale": {
            "domain": [
             "passed",
             "rejected"
            ],
            "range": [
             "green",
             "orange"
            ]
           },
           "type": "nominal"
          },
          "text": {
           "condition": {
            "field": "count",
            "selection": "selector002",
            "type": "quantitative"
           },
           "value": " "
          },
          "x": {
           "field": "congress",
           "type": "ordinal"
          },
          "y": {
           "field": "count",
           "type": "quantitative"
          }
         },
         "mark": {
          "align": "left",
          "dx": 5,
          "dy": -5,
          "type": "text"
         }
        }
       ],
       "width": 800
      },
      "image/png": "[encoded data removed]",
      "text/plain": [
       "<VegaLite 2 object>\n",
       "\n",
       "If you see this message, it means the renderer has not been properly enabled\n",
       "for the frontend that you are using. For more information, see\n",
       "https://altair-viz.github.io/user_guide/troubleshooting.html\n"
      ]
     },
     "execution_count": 12,
     "metadata": {},
     "output_type": "execute_result"
    }
   ],
   "source": [
    "d = pd.DataFrame(all_laws.groupby(['congress', 'result_ok']).size()).reset_index()\n",
    "d = d.rename(columns={0: 'count'})\n",
    "\n",
    "# Chart\n",
    "nearest = alt.selection(type='single', nearest=True, on='mouseover',\n",
    "                        fields=['quarter'], empty='none')\n",
    "line = alt.Chart().mark_line().encode(\n",
    "    x='congress:O',\n",
    "    y='count:Q',\n",
    "    color=alt.Color('result_ok:N', \n",
    "                    scale=alt.Scale(domain=['passed', 'rejected'], \n",
    "                                    range=['green', 'orange'])))\n",
    "selectors = alt.Chart().mark_point().encode(\n",
    "    x='congress:Q',\n",
    "    opacity=alt.value(0),).add_selection(nearest)\n",
    "points = line.mark_point().encode(\n",
    "    opacity=alt.condition(nearest, alt.value(1), alt.value(0)))\n",
    "text = line.mark_text(align='left', dx=5, dy=-5).encode(\n",
    "    text=alt.condition(nearest, 'count:Q', alt.value(' ')))\n",
    "rules = alt.Chart().mark_rule(color='gray').encode(\n",
    "    x='congress:Q',).transform_filter(nearest)\n",
    "\n",
    "alt.layer(line, selectors, points, rules, text, data=d, width=800, height=300)"
   ]
  },
  {
   "cell_type": "markdown",
   "metadata": {},
   "source": [
    "## Historical Concordance Inter and Intra Party"
   ]
  },
  {
   "cell_type": "markdown",
   "metadata": {},
   "source": [
    "### Inter Party"
   ]
  },
  {
   "cell_type": "code",
   "execution_count": 13,
   "metadata": {},
   "outputs": [
    {
     "data": {
      "text/html": [
       "<div>\n",
       "<style scoped>\n",
       "    .dataframe tbody tr th:only-of-type {\n",
       "        vertical-align: middle;\n",
       "    }\n",
       "\n",
       "    .dataframe tbody tr th {\n",
       "        vertical-align: top;\n",
       "    }\n",
       "\n",
       "    .dataframe thead th {\n",
       "        text-align: right;\n",
       "    }\n",
       "</style>\n",
       "<table border=\"1\" class=\"dataframe\">\n",
       "  <thead>\n",
       "    <tr style=\"text-align: right;\">\n",
       "      <th></th>\n",
       "      <th>majority_democrats</th>\n",
       "      <th>majority_republican</th>\n",
       "    </tr>\n",
       "  </thead>\n",
       "  <tbody>\n",
       "    <tr>\n",
       "      <th>majority_democrats</th>\n",
       "      <td>1.000000</td>\n",
       "      <td>-0.351475</td>\n",
       "    </tr>\n",
       "    <tr>\n",
       "      <th>majority_republican</th>\n",
       "      <td>-0.351475</td>\n",
       "      <td>1.000000</td>\n",
       "    </tr>\n",
       "  </tbody>\n",
       "</table>\n",
       "</div>"
      ],
      "text/plain": [
       "                     majority_democrats  majority_republican\n",
       "majority_democrats             1.000000            -0.351475\n",
       "majority_republican           -0.351475             1.000000"
      ]
     },
     "execution_count": 13,
     "metadata": {},
     "output_type": "execute_result"
    }
   ],
   "source": [
    "# Kendall: coeffient that mesures difference between concordante pairs and discordant pairs\n",
    "all_laws['majority_republican'] = (all_laws['republican_yes'] > all_laws['republican_no']).apply(int)\n",
    "all_laws['majority_democrats'] = (all_laws['democrats_yes'] > all_laws['democrats_no']).apply(int)\n",
    "all_laws[['majority_democrats', 'majority_republican']].corr('kendall')"
   ]
  },
  {
   "cell_type": "code",
   "execution_count": 14,
   "metadata": {},
   "outputs": [
    {
     "data": {
      "application/vnd.vegalite.v2+json": {
       "$schema": "https://vega.github.io/schema/vega-lite/v2.6.0.json",
       "config": {
        "view": {
         "height": 300,
         "width": 400
        }
       },
       "data": {
        "name": "data-90a79f5bb333ef2518068559c3562a69"
       },
       "datasets": {
        "data-90a79f5bb333ef2518068559c3562a69": [
         {
          "congress": 105,
          "kendall": -0.1787076597972932
         },
         {
          "congress": 106,
          "kendall": -0.2420293385656491
         },
         {
          "congress": 107,
          "kendall": -0.22997364080707175
         },
         {
          "congress": 108,
          "kendall": -0.3988080687858206
         },
         {
          "congress": 109,
          "kendall": -0.32677876643351256
         },
         {
          "congress": 110,
          "kendall": -0.2802167925130168
         },
         {
          "congress": 111,
          "kendall": -0.5794850964240619
         },
         {
          "congress": 112,
          "kendall": -0.22825014989647863
         },
         {
          "congress": 113,
          "kendall": -0.40946641145530277
         },
         {
          "congress": 114,
          "kendall": -0.4114023776844247
         },
         {
          "congress": 115,
          "kendall": -0.30136373661614346
         }
        ]
       },
       "encoding": {
        "x": {
         "field": "congress",
         "type": "ordinal"
        },
        "y": {
         "field": "kendall",
         "type": "quantitative"
        }
       },
       "height": 300,
       "mark": {
        "point": true,
        "type": "line"
       },
       "width": 800
      },
      "image/png": "[encoded data removed]",
      "text/plain": [
       "<VegaLite 2 object>\n",
       "\n",
       "If you see this message, it means the renderer has not been properly enabled\n",
       "for the frontend that you are using. For more information, see\n",
       "https://altair-viz.github.io/user_guide/troubleshooting.html\n"
      ]
     },
     "execution_count": 14,
     "metadata": {},
     "output_type": "execute_result"
    }
   ],
   "source": [
    "d = pd.DataFrame(all_laws.groupby('congress')[['majority_republican', 'majority_democrats']]\n",
    "                 .apply(lambda x: x.corr('kendall').iloc[0,1])).reset_index().rename(columns={0: 'kendall'})\n",
    "\n",
    "alt.Chart(d, width=800, height=300).mark_line(point=True).encode(\n",
    "    x='congress:O',\n",
    "    y='kendall:Q')"
   ]
  },
  {
   "cell_type": "markdown",
   "metadata": {},
   "source": [
    "#### Who make the decisions?"
   ]
  },
  {
   "cell_type": "code",
   "execution_count": 15,
   "metadata": {},
   "outputs": [],
   "source": [
    "def who_decided(democrats_yes, democrats_no, republican_yes, republican_no, result):\n",
    "    if result == 'passed':\n",
    "        if democrats_yes > democrats_no and republican_yes > republican_no:\n",
    "            return 'both'\n",
    "        elif democrats_yes < democrats_no and republican_yes > republican_no:\n",
    "            return 'republican'\n",
    "        else:\n",
    "            return 'democrats'\n",
    "    else:\n",
    "        if democrats_yes < democrats_no and republican_yes < republican_no:\n",
    "            return 'both'\n",
    "        elif democrats_yes > democrats_no and republican_yes < republican_no:\n",
    "            return 'republican'\n",
    "        else:\n",
    "            return 'democrats'"
   ]
  },
  {
   "cell_type": "code",
   "execution_count": 16,
   "metadata": {},
   "outputs": [
    {
     "data": {
      "text/html": [
       "<div>\n",
       "<style scoped>\n",
       "    .dataframe tbody tr th:only-of-type {\n",
       "        vertical-align: middle;\n",
       "    }\n",
       "\n",
       "    .dataframe tbody tr th {\n",
       "        vertical-align: top;\n",
       "    }\n",
       "\n",
       "    .dataframe thead th {\n",
       "        text-align: right;\n",
       "    }\n",
       "</style>\n",
       "<table border=\"1\" class=\"dataframe\">\n",
       "  <thead>\n",
       "    <tr style=\"text-align: right;\">\n",
       "      <th></th>\n",
       "      <th>final_decision</th>\n",
       "    </tr>\n",
       "  </thead>\n",
       "  <tbody>\n",
       "    <tr>\n",
       "      <th>both</th>\n",
       "      <td>2591</td>\n",
       "    </tr>\n",
       "    <tr>\n",
       "      <th>republican</th>\n",
       "      <td>2132</td>\n",
       "    </tr>\n",
       "    <tr>\n",
       "      <th>democrats</th>\n",
       "      <td>2111</td>\n",
       "    </tr>\n",
       "  </tbody>\n",
       "</table>\n",
       "</div>"
      ],
      "text/plain": [
       "            final_decision\n",
       "both                  2591\n",
       "republican            2132\n",
       "democrats             2111"
      ]
     },
     "execution_count": 16,
     "metadata": {},
     "output_type": "execute_result"
    }
   ],
   "source": [
    "all_laws['final_decision'] = all_laws.apply(lambda x: who_decided(x['democrats_yes'], x['democrats_no'], x['republican_yes'], x['republican_no'], x['result_ok']), axis=1)\n",
    "pd.DataFrame(all_laws['final_decision'].value_counts())"
   ]
  },
  {
   "cell_type": "code",
   "execution_count": 19,
   "metadata": {},
   "outputs": [
    {
     "data": {
      "application/vnd.vegalite.v2+json": {
       "$schema": "https://vega.github.io/schema/vega-lite/v2.6.0.json",
       "config": {
        "view": {
         "height": 300,
         "width": 400
        }
       },
       "data": {
        "name": "data-35a11e2306b8d6db5a6b8a35c2895ebf"
       },
       "datasets": {
        "data-35a11e2306b8d6db5a6b8a35c2895ebf": [
         {
          "final_decision": "both",
          "quarter": "1997-1",
          "total": 35,
          "wins": 0.45714285714285713
         },
         {
          "final_decision": "democrats",
          "quarter": "1997-1",
          "total": 35,
          "wins": 0.05714285714285714
         },
         {
          "final_decision": "republican",
          "quarter": "1997-1",
          "total": 35,
          "wins": 0.4857142857142857
         },
         {
          "final_decision": "both",
          "quarter": "1997-2",
          "total": 125,
          "wins": 0.328
         },
         {
          "final_decision": "democrats",
          "quarter": "1997-2",
          "total": 125,
          "wins": 0.2
         },
         {
          "final_decision": "republican",
          "quarter": "1997-2",
          "total": 125,
          "wins": 0.472
         },
         {
          "final_decision": "both",
          "quarter": "1997-3",
          "total": 103,
          "wins": 0.6407766990291263
         },
         {
          "final_decision": "democrats",
          "quarter": "1997-3",
          "total": 103,
          "wins": 0.1553398058252427
         },
         {
          "final_decision": "republican",
          "quarter": "1997-3",
          "total": 103,
          "wins": 0.20388349514563106
         },
         {
          "final_decision": "both",
          "quarter": "1997-4",
          "total": 35,
          "wins": 0.6285714285714286
         },
         {
          "final_decision": "democrats",
          "quarter": "1997-4",
          "total": 35,
          "wins": 0.2571428571428571
         },
         {
          "final_decision": "republican",
          "quarter": "1997-4",
          "total": 35,
          "wins": 0.11428571428571428
         },
         {
          "final_decision": "both",
          "quarter": "1998-1",
          "total": 52,
          "wins": 0.46153846153846156
         },
         {
          "final_decision": "democrats",
          "quarter": "1998-1",
          "total": 52,
          "wins": 0.3269230769230769
         },
         {
          "final_decision": "republican",
          "quarter": "1998-1",
          "total": 52,
          "wins": 0.21153846153846154
         },
         {
          "final_decision": "both",
          "quarter": "1998-2",
          "total": 131,
          "wins": 0.3893129770992366
         },
         {
          "final_decision": "democrats",
          "quarter": "1998-2",
          "total": 131,
          "wins": 0.16030534351145037
         },
         {
          "final_decision": "republican",
          "quarter": "1998-2",
          "total": 131,
          "wins": 0.45038167938931295
         },
         {
          "final_decision": "both",
          "quarter": "1998-3",
          "total": 109,
          "wins": 0.42201834862385323
         },
         {
          "final_decision": "democrats",
          "quarter": "1998-3",
          "total": 109,
          "wins": 0.22935779816513763
         },
         {
          "final_decision": "republican",
          "quarter": "1998-3",
          "total": 109,
          "wins": 0.3486238532110092
         },
         {
          "final_decision": "both",
          "quarter": "1998-4",
          "total": 22,
          "wins": 0.5454545454545454
         },
         {
          "final_decision": "democrats",
          "quarter": "1998-4",
          "total": 22,
          "wins": 0.18181818181818182
         },
         {
          "final_decision": "republican",
          "quarter": "1998-4",
          "total": 22,
          "wins": 0.2727272727272727
         },
         {
          "final_decision": "both",
          "quarter": "1999-1",
          "total": 81,
          "wins": 0.35802469135802467
         },
         {
          "final_decision": "democrats",
          "quarter": "1999-1",
          "total": 81,
          "wins": 0.16049382716049382
         },
         {
          "final_decision": "republican",
          "quarter": "1999-1",
          "total": 81,
          "wins": 0.48148148148148145
         },
         {
          "final_decision": "both",
          "quarter": "1999-2",
          "total": 111,
          "wins": 0.44144144144144143
         },
         {
          "final_decision": "democrats",
          "quarter": "1999-2",
          "total": 111,
          "wins": 0.1981981981981982
         },
         {
          "final_decision": "republican",
          "quarter": "1999-2",
          "total": 111,
          "wins": 0.36036036036036034
         },
         {
          "final_decision": "both",
          "quarter": "1999-3",
          "total": 112,
          "wins": 0.26785714285714285
         },
         {
          "final_decision": "democrats",
          "quarter": "1999-3",
          "total": 112,
          "wins": 0.16964285714285715
         },
         {
          "final_decision": "republican",
          "quarter": "1999-3",
          "total": 112,
          "wins": 0.5625
         },
         {
          "final_decision": "both",
          "quarter": "1999-4",
          "total": 70,
          "wins": 0.4142857142857143
         },
         {
          "final_decision": "democrats",
          "quarter": "1999-4",
          "total": 70,
          "wins": 0.08571428571428572
         },
         {
          "final_decision": "republican",
          "quarter": "1999-4",
          "total": 70,
          "wins": 0.5
         },
         {
          "final_decision": "both",
          "quarter": "2000-1",
          "total": 51,
          "wins": 0.5294117647058824
         },
         {
          "final_decision": "democrats",
          "quarter": "2000-1",
          "total": 51,
          "wins": 0.0784313725490196
         },
         {
          "final_decision": "republican",
          "quarter": "2000-1",
          "total": 51,
          "wins": 0.39215686274509803
         },
         {
          "final_decision": "both",
          "quarter": "2000-2",
          "total": 120,
          "wins": 0.4
         },
         {
          "final_decision": "democrats",
          "quarter": "2000-2",
          "total": 120,
          "wins": 0.16666666666666666
         },
         {
          "final_decision": "republican",
          "quarter": "2000-2",
          "total": 120,
          "wins": 0.43333333333333335
         },
         {
          "final_decision": "both",
          "quarter": "2000-3",
          "total": 89,
          "wins": 0.5393258426966292
         },
         {
          "final_decision": "democrats",
          "quarter": "2000-3",
          "total": 89,
          "wins": 0.0898876404494382
         },
         {
          "final_decision": "republican",
          "quarter": "2000-3",
          "total": 89,
          "wins": 0.3707865168539326
         },
         {
          "final_decision": "both",
          "quarter": "2000-4",
          "total": 38,
          "wins": 0.7105263157894737
         },
         {
          "final_decision": "democrats",
          "quarter": "2000-4",
          "total": 38,
          "wins": 0.07894736842105263
         },
         {
          "final_decision": "republican",
          "quarter": "2000-4",
          "total": 38,
          "wins": 0.21052631578947367
         },
         {
          "final_decision": "both",
          "quarter": "2001-1",
          "total": 63,
          "wins": 0.38095238095238093
         },
         {
          "final_decision": "democrats",
          "quarter": "2001-1",
          "total": 63,
          "wins": 0.2857142857142857
         },
         {
          "final_decision": "republican",
          "quarter": "2001-1",
          "total": 63,
          "wins": 0.3333333333333333
         },
         {
          "final_decision": "both",
          "quarter": "2001-2",
          "total": 157,
          "wins": 0.2356687898089172
         },
         {
          "final_decision": "democrats",
          "quarter": "2001-2",
          "total": 157,
          "wins": 0.29936305732484075
         },
         {
          "final_decision": "republican",
          "quarter": "2001-2",
          "total": 157,
          "wins": 0.46496815286624205
         },
         {
          "final_decision": "both",
          "quarter": "2001-3",
          "total": 68,
          "wins": 0.7058823529411765
         },
         {
          "final_decision": "democrats",
          "quarter": "2001-3",
          "total": 68,
          "wins": 0.19117647058823528
         },
         {
          "final_decision": "republican",
          "quarter": "2001-3",
          "total": 68,
          "wins": 0.10294117647058823
         },
         {
          "final_decision": "both",
          "quarter": "2001-4",
          "total": 92,
          "wins": 0.6413043478260869
         },
         {
          "final_decision": "democrats",
          "quarter": "2001-4",
          "total": 92,
          "wins": 0.18478260869565216
         },
         {
          "final_decision": "republican",
          "quarter": "2001-4",
          "total": 92,
          "wins": 0.17391304347826086
         },
         {
          "final_decision": "both",
          "quarter": "2002-1",
          "total": 59,
          "wins": 0.5084745762711864
         },
         {
          "final_decision": "democrats",
          "quarter": "2002-1",
          "total": 59,
          "wins": 0.2542372881355932
         },
         {
          "final_decision": "republican",
          "quarter": "2002-1",
          "total": 59,
          "wins": 0.23728813559322035
         },
         {
          "final_decision": "both",
          "quarter": "2002-2",
          "total": 107,
          "wins": 0.4953271028037383
         },
         {
          "final_decision": "democrats",
          "quarter": "2002-2",
          "total": 107,
          "wins": 0.21495327102803738
         },
         {
          "final_decision": "republican",
          "quarter": "2002-2",
          "total": 107,
          "wins": 0.2897196261682243
         },
         {
          "final_decision": "both",
          "quarter": "2002-3",
          "total": 61,
          "wins": 0.5737704918032787
         },
         {
          "final_decision": "democrats",
          "quarter": "2002-3",
          "total": 61,
          "wins": 0.14754098360655737
         },
         {
          "final_decision": "republican",
          "quarter": "2002-3",
          "total": 61,
          "wins": 0.2786885245901639
         },
         {
          "final_decision": "both",
          "quarter": "2002-4",
          "total": 26,
          "wins": 0.6538461538461539
         },
         {
          "final_decision": "republican",
          "quarter": "2002-4",
          "total": 26,
          "wins": 0.34615384615384615
         },
         {
          "final_decision": "both",
          "quarter": "2003-1",
          "total": 112,
          "wins": 0.3125
         },
         {
          "final_decision": "democrats",
          "quarter": "2003-1",
          "total": 112,
          "wins": 0.10714285714285714
         },
         {
          "final_decision": "republican",
          "quarter": "2003-1",
          "total": 112,
          "wins": 0.5803571428571429
         },
         {
          "final_decision": "both",
          "quarter": "2003-2",
          "total": 150,
          "wins": 0.31333333333333335
         },
         {
          "final_decision": "democrats",
          "quarter": "2003-2",
          "total": 150,
          "wins": 0.12
         },
         {
          "final_decision": "republican",
          "quarter": "2003-2",
          "total": 150,
          "wins": 0.5666666666666667
         },
         {
          "final_decision": "both",
          "quarter": "2003-3",
          "total": 108,
          "wins": 0.3611111111111111
         },
         {
          "final_decision": "democrats",
          "quarter": "2003-3",
          "total": 108,
          "wins": 0.09259259259259259
         },
         {
          "final_decision": "republican",
          "quarter": "2003-3",
          "total": 108,
          "wins": 0.5462962962962963
         },
         {
          "final_decision": "both",
          "quarter": "2003-4",
          "total": 89,
          "wins": 0.34831460674157305
         },
         {
          "final_decision": "democrats",
          "quarter": "2003-4",
          "total": 89,
          "wins": 0.19101123595505617
         },
         {
          "final_decision": "republican",
          "quarter": "2003-4",
          "total": 89,
          "wins": 0.4606741573033708
         },
         {
          "final_decision": "both",
          "quarter": "2004-1",
          "total": 64,
          "wins": 0.296875
         },
         {
          "final_decision": "democrats",
          "quarter": "2004-1",
          "total": 64,
          "wins": 0.1875
         },
         {
          "final_decision": "republican",
          "quarter": "2004-1",
          "total": 64,
          "wins": 0.515625
         },
         {
          "final_decision": "both",
          "quarter": "2004-2",
          "total": 88,
          "wins": 0.5454545454545454
         },
         {
          "final_decision": "democrats",
          "quarter": "2004-2",
          "total": 88,
          "wins": 0.11363636363636363
         },
         {
          "final_decision": "republican",
          "quarter": "2004-2",
          "total": 88,
          "wins": 0.3409090909090909
         },
         {
          "final_decision": "both",
          "quarter": "2004-3",
          "total": 42,
          "wins": 0.38095238095238093
         },
         {
          "final_decision": "democrats",
          "quarter": "2004-3",
          "total": 42,
          "wins": 0.16666666666666666
         },
         {
          "final_decision": "republican",
          "quarter": "2004-3",
          "total": 42,
          "wins": 0.4523809523809524
         },
         {
          "final_decision": "both",
          "quarter": "2004-4",
          "total": 22,
          "wins": 0.7272727272727273
         },
         {
          "final_decision": "democrats",
          "quarter": "2004-4",
          "total": 22,
          "wins": 0.13636363636363635
         },
         {
          "final_decision": "republican",
          "quarter": "2004-4",
          "total": 22,
          "wins": 0.13636363636363635
         },
         {
          "final_decision": "both",
          "quarter": "2005-1",
          "total": 81,
          "wins": 0.16049382716049382
         },
         {
          "final_decision": "democrats",
          "quarter": "2005-1",
          "total": 81,
          "wins": 0.1111111111111111
         },
         {
          "final_decision": "republican",
          "quarter": "2005-1",
          "total": 81,
          "wins": 0.7283950617283951
         },
         {
          "final_decision": "both",
          "quarter": "2005-2",
          "total": 89,
          "wins": 0.43820224719101125
         },
         {
          "final_decision": "democrats",
          "quarter": "2005-2",
          "total": 89,
          "wins": 0.16853932584269662
         },
         {
          "final_decision": "republican",
          "quarter": "2005-2",
          "total": 89,
          "wins": 0.39325842696629215
         },
         {
          "final_decision": "both",
          "quarter": "2005-3",
          "total": 76,
          "wins": 0.47368421052631576
         },
         {
          "final_decision": "democrats",
          "quarter": "2005-3",
          "total": 76,
          "wins": 0.10526315789473684
         },
         {
          "final_decision": "republican",
          "quarter": "2005-3",
          "total": 76,
          "wins": 0.42105263157894735
         },
         {
          "final_decision": "both",
          "quarter": "2005-4",
          "total": 120,
          "wins": 0.38333333333333336
         },
         {
          "final_decision": "democrats",
          "quarter": "2005-4",
          "total": 120,
          "wins": 0.15
         },
         {
          "final_decision": "republican",
          "quarter": "2005-4",
          "total": 120,
          "wins": 0.4666666666666667
         },
         {
          "final_decision": "both",
          "quarter": "2006-1",
          "total": 83,
          "wins": 0.3614457831325301
         },
         {
          "final_decision": "democrats",
          "quarter": "2006-1",
          "total": 83,
          "wins": 0.13253012048192772
         },
         {
          "final_decision": "republican",
          "quarter": "2006-1",
          "total": 83,
          "wins": 0.5060240963855421
         },
         {
          "final_decision": "both",
          "quarter": "2006-2",
          "total": 107,
          "wins": 0.411214953271028
         },
         {
          "final_decision": "democrats",
          "quarter": "2006-2",
          "total": 107,
          "wins": 0.308411214953271
         },
         {
          "final_decision": "republican",
          "quarter": "2006-2",
          "total": 107,
          "wins": 0.2803738317757009
         },
         {
          "final_decision": "both",
          "quarter": "2006-3",
          "total": 73,
          "wins": 0.4657534246575342
         },
         {
          "final_decision": "democrats",
          "quarter": "2006-3",
          "total": 73,
          "wins": 0.136986301369863
         },
         {
          "final_decision": "republican",
          "quarter": "2006-3",
          "total": 73,
          "wins": 0.3972602739726027
         },
         {
          "final_decision": "both",
          "quarter": "2006-4",
          "total": 16,
          "wins": 0.6875
         },
         {
          "final_decision": "republican",
          "quarter": "2006-4",
          "total": 16,
          "wins": 0.3125
         },
         {
          "final_decision": "both",
          "quarter": "2007-1",
          "total": 126,
          "wins": 0.4603174603174603
         },
         {
          "final_decision": "democrats",
          "quarter": "2007-1",
          "total": 126,
          "wins": 0.42857142857142855
         },
         {
          "final_decision": "republican",
          "quarter": "2007-1",
          "total": 126,
          "wins": 0.1111111111111111
         },
         {
          "final_decision": "both",
          "quarter": "2007-2",
          "total": 112,
          "wins": 0.3125
         },
         {
          "final_decision": "democrats",
          "quarter": "2007-2",
          "total": 112,
          "wins": 0.4107142857142857
         },
         {
          "final_decision": "republican",
          "quarter": "2007-2",
          "total": 112,
          "wins": 0.2767857142857143
         },
         {
          "final_decision": "both",
          "quarter": "2007-3",
          "total": 119,
          "wins": 0.35294117647058826
         },
         {
          "final_decision": "democrats",
          "quarter": "2007-3",
          "total": 119,
          "wins": 0.47058823529411764
         },
         {
          "final_decision": "republican",
          "quarter": "2007-3",
          "total": 119,
          "wins": 0.17647058823529413
         },
         {
          "final_decision": "both",
          "quarter": "2007-4",
          "total": 85,
          "wins": 0.4117647058823529
         },
         {
          "final_decision": "democrats",
          "quarter": "2007-4",
          "total": 85,
          "wins": 0.3176470588235294
         },
         {
          "final_decision": "republican",
          "quarter": "2007-4",
          "total": 85,
          "wins": 0.27058823529411763
         },
         {
          "final_decision": "both",
          "quarter": "2008-1",
          "total": 85,
          "wins": 0.3411764705882353
         },
         {
          "final_decision": "democrats",
          "quarter": "2008-1",
          "total": 85,
          "wins": 0.38823529411764707
         },
         {
          "final_decision": "republican",
          "quarter": "2008-1",
          "total": 85,
          "wins": 0.27058823529411763
         },
         {
          "final_decision": "both",
          "quarter": "2008-2",
          "total": 77,
          "wins": 0.5844155844155844
         },
         {
          "final_decision": "democrats",
          "quarter": "2008-2",
          "total": 77,
          "wins": 0.24675324675324675
         },
         {
          "final_decision": "republican",
          "quarter": "2008-2",
          "total": 77,
          "wins": 0.16883116883116883
         },
         {
          "final_decision": "both",
          "quarter": "2008-3",
          "total": 47,
          "wins": 0.48936170212765956
         },
         {
          "final_decision": "democrats",
          "quarter": "2008-3",
          "total": 47,
          "wins": 0.19148936170212766
         },
         {
          "final_decision": "republican",
          "quarter": "2008-3",
          "total": 47,
          "wins": 0.3191489361702128
         },
         {
          "final_decision": "both",
          "quarter": "2008-4",
          "total": 6,
          "wins": 0.8333333333333334
         },
         {
          "final_decision": "republican",
          "quarter": "2008-4",
          "total": 6,
          "wins": 0.16666666666666666
         },
         {
          "final_decision": "both",
          "quarter": "2009-1",
          "total": 118,
          "wins": 0.16101694915254236
         },
         {
          "final_decision": "democrats",
          "quarter": "2009-1",
          "total": 118,
          "wins": 0.8135593220338984
         },
         {
          "final_decision": "republican",
          "quarter": "2009-1",
          "total": 118,
          "wins": 0.025423728813559324
         },
         {
          "final_decision": "both",
          "quarter": "2009-2",
          "total": 96,
          "wins": 0.3645833333333333
         },
         {
          "final_decision": "democrats",
          "quarter": "2009-2",
          "total": 96,
          "wins": 0.5
         },
         {
          "final_decision": "republican",
          "quarter": "2009-2",
          "total": 96,
          "wins": 0.13541666666666666
         },
         {
          "final_decision": "both",
          "quarter": "2009-3",
          "total": 89,
          "wins": 0.24719101123595505
         },
         {
          "final_decision": "democrats",
          "quarter": "2009-3",
          "total": 89,
          "wins": 0.6853932584269663
         },
         {
          "final_decision": "republican",
          "quarter": "2009-3",
          "total": 89,
          "wins": 0.06741573033707865
         },
         {
          "final_decision": "both",
          "quarter": "2009-4",
          "total": 94,
          "wins": 0.26595744680851063
         },
         {
          "final_decision": "democrats",
          "quarter": "2009-4",
          "total": 94,
          "wins": 0.6595744680851063
         },
         {
          "final_decision": "republican",
          "quarter": "2009-4",
          "total": 94,
          "wins": 0.07446808510638298
         },
         {
          "final_decision": "both",
          "quarter": "2010-1",
          "total": 108,
          "wins": 0.17592592592592593
         },
         {
          "final_decision": "democrats",
          "quarter": "2010-1",
          "total": 108,
          "wins": 0.7592592592592593
         },
         {
          "final_decision": "republican",
          "quarter": "2010-1",
          "total": 108,
          "wins": 0.06481481481481481
         },
         {
          "final_decision": "both",
          "quarter": "2010-2",
          "total": 96,
          "wins": 0.2604166666666667
         },
         {
          "final_decision": "democrats",
          "quarter": "2010-2",
          "total": 96,
          "wins": 0.5520833333333334
         },
         {
          "final_decision": "republican",
          "quarter": "2010-2",
          "total": 96,
          "wins": 0.1875
         },
         {
          "final_decision": "both",
          "quarter": "2010-3",
          "total": 44,
          "wins": 0.06818181818181818
         },
         {
          "final_decision": "democrats",
          "quarter": "2010-3",
          "total": 44,
          "wins": 0.7272727272727273
         },
         {
          "final_decision": "republican",
          "quarter": "2010-3",
          "total": 44,
          "wins": 0.20454545454545456
         },
         {
          "final_decision": "both",
          "quarter": "2010-4",
          "total": 51,
          "wins": 0.19607843137254902
         },
         {
          "final_decision": "democrats",
          "quarter": "2010-4",
          "total": 51,
          "wins": 0.5882352941176471
         },
         {
          "final_decision": "republican",
          "quarter": "2010-4",
          "total": 51,
          "wins": 0.21568627450980393
         },
         {
          "final_decision": "both",
          "quarter": "2011-1",
          "total": 46,
          "wins": 0.5652173913043478
         },
         {
          "final_decision": "democrats",
          "quarter": "2011-1",
          "total": 46,
          "wins": 0.32608695652173914
         },
         {
          "final_decision": "republican",
          "quarter": "2011-1",
          "total": 46,
          "wins": 0.10869565217391304
         },
         {
          "final_decision": "both",
          "quarter": "2011-2",
          "total": 58,
          "wins": 0.46551724137931033
         },
         {
          "final_decision": "democrats",
          "quarter": "2011-2",
          "total": 58,
          "wins": 0.39655172413793105
         },
         {
          "final_decision": "republican",
          "quarter": "2011-2",
          "total": 58,
          "wins": 0.13793103448275862
         },
         {
          "final_decision": "both",
          "quarter": "2011-3",
          "total": 49,
          "wins": 0.3877551020408163
         },
         {
          "final_decision": "democrats",
          "quarter": "2011-3",
          "total": 49,
          "wins": 0.5306122448979592
         },
         {
          "final_decision": "republican",
          "quarter": "2011-3",
          "total": 49,
          "wins": 0.08163265306122448
         },
         {
          "final_decision": "both",
          "quarter": "2011-4",
          "total": 82,
          "wins": 0.4024390243902439
         },
         {
          "final_decision": "democrats",
          "quarter": "2011-4",
          "total": 82,
          "wins": 0.3780487804878049
         },
         {
          "final_decision": "republican",
          "quarter": "2011-4",
          "total": 82,
          "wins": 0.21951219512195122
         },
         {
          "final_decision": "both",
          "quarter": "2012-1",
          "total": 63,
          "wins": 0.42857142857142855
         },
         {
          "final_decision": "democrats",
          "quarter": "2012-1",
          "total": 63,
          "wins": 0.3968253968253968
         },
         {
          "final_decision": "republican",
          "quarter": "2012-1",
          "total": 63,
          "wins": 0.1746031746031746
         },
         {
          "final_decision": "both",
          "quarter": "2012-2",
          "total": 109,
          "wins": 0.3211009174311927
         },
         {
          "final_decision": "democrats",
          "quarter": "2012-2",
          "total": 109,
          "wins": 0.5412844036697247
         },
         {
          "final_decision": "republican",
          "quarter": "2012-2",
          "total": 109,
          "wins": 0.13761467889908258
         },
         {
          "final_decision": "both",
          "quarter": "2012-3",
          "total": 28,
          "wins": 0.39285714285714285
         },
         {
          "final_decision": "democrats",
          "quarter": "2012-3",
          "total": 28,
          "wins": 0.32142857142857145
         },
         {
          "final_decision": "republican",
          "quarter": "2012-3",
          "total": 28,
          "wins": 0.2857142857142857
         },
         {
          "final_decision": "both",
          "quarter": "2012-4",
          "total": 50,
          "wins": 0.36
         },
         {
          "final_decision": "democrats",
          "quarter": "2012-4",
          "total": 50,
          "wins": 0.36
         },
         {
          "final_decision": "republican",
          "quarter": "2012-4",
          "total": 50,
          "wins": 0.28
         },
         {
          "final_decision": "both",
          "quarter": "2013-1",
          "total": 93,
          "wins": 0.22580645161290322
         },
         {
          "final_decision": "democrats",
          "quarter": "2013-1",
          "total": 93,
          "wins": 0.6236559139784946
         },
         {
          "final_decision": "republican",
          "quarter": "2013-1",
          "total": 93,
          "wins": 0.15053763440860216
         },
         {
          "final_decision": "both",
          "quarter": "2013-2",
          "total": 76,
          "wins": 0.40789473684210525
         },
         {
          "final_decision": "democrats",
          "quarter": "2013-2",
          "total": 76,
          "wins": 0.4868421052631579
         },
         {
          "final_decision": "republican",
          "quarter": "2013-2",
          "total": 76,
          "wins": 0.10526315789473684
         },
         {
          "final_decision": "both",
          "quarter": "2013-3",
          "total": 43,
          "wins": 0.32558139534883723
         },
         {
          "final_decision": "democrats",
          "quarter": "2013-3",
          "total": 43,
          "wins": 0.5116279069767442
         },
         {
          "final_decision": "republican",
          "quarter": "2013-3",
          "total": 43,
          "wins": 0.16279069767441862
         },
         {
          "final_decision": "both",
          "quarter": "2013-4",
          "total": 80,
          "wins": 0.2
         },
         {
          "final_decision": "democrats",
          "quarter": "2013-4",
          "total": 80,
          "wins": 0.625
         },
         {
          "final_decision": "republican",
          "quarter": "2013-4",
          "total": 80,
          "wins": 0.175
         },
         {
          "final_decision": "both",
          "quarter": "2014-1",
          "total": 93,
          "wins": 0.43010752688172044
         },
         {
          "final_decision": "democrats",
          "quarter": "2014-1",
          "total": 93,
          "wins": 0.46236559139784944
         },
         {
          "final_decision": "republican",
          "quarter": "2014-1",
          "total": 93,
          "wins": 0.10752688172043011
         },
         {
          "final_decision": "both",
          "quarter": "2014-2",
          "total": 123,
          "wins": 0.3252032520325203
         },
         {
          "final_decision": "democrats",
          "quarter": "2014-2",
          "total": 123,
          "wins": 0.6260162601626016
         },
         {
          "final_decision": "republican",
          "quarter": "2014-2",
          "total": 123,
          "wins": 0.04878048780487805
         },
         {
          "final_decision": "both",
          "quarter": "2014-3",
          "total": 54,
          "wins": 0.37037037037037035
         },
         {
          "final_decision": "democrats",
          "quarter": "2014-3",
          "total": 54,
          "wins": 0.5185185185185185
         },
         {
          "final_decision": "republican",
          "quarter": "2014-3",
          "total": 54,
          "wins": 0.1111111111111111
         },
         {
          "final_decision": "both",
          "quarter": "2014-4",
          "total": 96,
          "wins": 0.17708333333333334
         },
         {
          "final_decision": "democrats",
          "quarter": "2014-4",
          "total": 96,
          "wins": 0.8020833333333334
         },
         {
          "final_decision": "republican",
          "quarter": "2014-4",
          "total": 96,
          "wins": 0.020833333333333332
         },
         {
          "final_decision": "both",
          "quarter": "2015-1",
          "total": 135,
          "wins": 0.16296296296296298
         },
         {
          "final_decision": "democrats",
          "quarter": "2015-1",
          "total": 135,
          "wins": 0.28888888888888886
         },
         {
          "final_decision": "republican",
          "quarter": "2015-1",
          "total": 135,
          "wins": 0.5481481481481482
         },
         {
          "final_decision": "both",
          "quarter": "2015-2",
          "total": 85,
          "wins": 0.4
         },
         {
          "final_decision": "democrats",
          "quarter": "2015-2",
          "total": 85,
          "wins": 0.25882352941176473
         },
         {
          "final_decision": "republican",
          "quarter": "2015-2",
          "total": 85,
          "wins": 0.3411764705882353
         },
         {
          "final_decision": "both",
          "quarter": "2015-3",
          "total": 52,
          "wins": 0.28846153846153844
         },
         {
          "final_decision": "democrats",
          "quarter": "2015-3",
          "total": 52,
          "wins": 0.46153846153846156
         },
         {
          "final_decision": "republican",
          "quarter": "2015-3",
          "total": 52,
          "wins": 0.25
         },
         {
          "final_decision": "both",
          "quarter": "2015-4",
          "total": 67,
          "wins": 0.373134328358209
         },
         {
          "final_decision": "democrats",
          "quarter": "2015-4",
          "total": 67,
          "wins": 0.3283582089552239
         },
         {
          "final_decision": "republican",
          "quarter": "2015-4",
          "total": 67,
          "wins": 0.29850746268656714
         },
         {
          "final_decision": "both",
          "quarter": "2016-1",
          "total": 38,
          "wins": 0.4473684210526316
         },
         {
          "final_decision": "democrats",
          "quarter": "2016-1",
          "total": 38,
          "wins": 0.42105263157894735
         },
         {
          "final_decision": "republican",
          "quarter": "2016-1",
          "total": 38,
          "wins": 0.13157894736842105
         },
         {
          "final_decision": "both",
          "quarter": "2016-2",
          "total": 79,
          "wins": 0.43037974683544306
         },
         {
          "final_decision": "democrats",
          "quarter": "2016-2",
          "total": 79,
          "wins": 0.4177215189873418
         },
         {
          "final_decision": "republican",
          "quarter": "2016-2",
          "total": 79,
          "wins": 0.1518987341772152
         },
         {
          "final_decision": "both",
          "quarter": "2016-3",
          "total": 34,
          "wins": 0.5588235294117647
         },
         {
          "final_decision": "democrats",
          "quarter": "2016-3",
          "total": 34,
          "wins": 0.35294117647058826
         },
         {
          "final_decision": "republican",
          "quarter": "2016-3",
          "total": 34,
          "wins": 0.08823529411764706
         },
         {
          "final_decision": "both",
          "quarter": "2016-4",
          "total": 12,
          "wins": 0.6666666666666666
         },
         {
          "final_decision": "democrats",
          "quarter": "2016-4",
          "total": 12,
          "wins": 0.25
         },
         {
          "final_decision": "republican",
          "quarter": "2016-4",
          "total": 12,
          "wins": 0.08333333333333333
         },
         {
          "final_decision": "both",
          "quarter": "2017-1",
          "total": 101,
          "wins": 0.1485148514851485
         },
         {
          "final_decision": "democrats",
          "quarter": "2017-1",
          "total": 101,
          "wins": 0.26732673267326734
         },
         {
          "final_decision": "republican",
          "quarter": "2017-1",
          "total": 101,
          "wins": 0.5841584158415841
         },
         {
          "final_decision": "both",
          "quarter": "2017-2",
          "total": 54,
          "wins": 0.46296296296296297
         },
         {
          "final_decision": "democrats",
          "quarter": "2017-2",
          "total": 54,
          "wins": 0.09259259259259259
         },
         {
          "final_decision": "republican",
          "quarter": "2017-2",
          "total": 54,
          "wins": 0.4444444444444444
         },
         {
          "final_decision": "both",
          "quarter": "2017-3",
          "total": 53,
          "wins": 0.5094339622641509
         },
         {
          "final_decision": "democrats",
          "quarter": "2017-3",
          "total": 53,
          "wins": 0.09433962264150944
         },
         {
          "final_decision": "republican",
          "quarter": "2017-3",
          "total": 53,
          "wins": 0.39622641509433965
         },
         {
          "final_decision": "both",
          "quarter": "2017-4",
          "total": 117,
          "wins": 0.23076923076923078
         },
         {
          "final_decision": "democrats",
          "quarter": "2017-4",
          "total": 117,
          "wins": 0.09401709401709402
         },
         {
          "final_decision": "republican",
          "quarter": "2017-4",
          "total": 117,
          "wins": 0.6752136752136753
         },
         {
          "final_decision": "both",
          "quarter": "2018-1",
          "total": 63,
          "wins": 0.5555555555555556
         },
         {
          "final_decision": "democrats",
          "quarter": "2018-1",
          "total": 63,
          "wins": 0.09523809523809523
         },
         {
          "final_decision": "republican",
          "quarter": "2018-1",
          "total": 63,
          "wins": 0.3492063492063492
         },
         {
          "final_decision": "both",
          "quarter": "2018-2",
          "total": 80,
          "wins": 0.425
         },
         {
          "final_decision": "democrats",
          "quarter": "2018-2",
          "total": 80,
          "wins": 0.15
         },
         {
          "final_decision": "republican",
          "quarter": "2018-2",
          "total": 80,
          "wins": 0.425
         },
         {
          "final_decision": "both",
          "quarter": "2018-3",
          "total": 75,
          "wins": 0.5733333333333334
         },
         {
          "final_decision": "democrats",
          "quarter": "2018-3",
          "total": 75,
          "wins": 0.14666666666666667
         },
         {
          "final_decision": "republican",
          "quarter": "2018-3",
          "total": 75,
          "wins": 0.28
         },
         {
          "final_decision": "both",
          "quarter": "2018-4",
          "total": 56,
          "wins": 0.25
         },
         {
          "final_decision": "democrats",
          "quarter": "2018-4",
          "total": 56,
          "wins": 0.14285714285714285
         },
         {
          "final_decision": "republican",
          "quarter": "2018-4",
          "total": 56,
          "wins": 0.6071428571428571
         }
        ]
       },
       "encoding": {
        "color": {
         "field": "final_decision",
         "scale": {
          "domain": [
           "republican",
           "democrats",
           "both"
          ],
          "range": [
           "#ff0000",
           "#0000ff",
           "grey"
          ]
         },
         "type": "nominal"
        },
        "x": {
         "field": "quarter",
         "type": "temporal"
        },
        "y": {
         "field": "wins",
         "type": "quantitative"
        }
       },
       "height": 400,
       "mark": {
        "opacity": 0.5,
        "type": "area"
       },
       "width": 1000
      },
      "image/png": "[encoded data removed]",
      "text/plain": [
       "<VegaLite 2 object>\n",
       "\n",
       "If you see this message, it means the renderer has not been properly enabled\n",
       "for the frontend that you are using. For more information, see\n",
       "https://altair-viz.github.io/user_guide/troubleshooting.html\n"
      ]
     },
     "execution_count": 19,
     "metadata": {},
     "output_type": "execute_result"
    }
   ],
   "source": [
    "d = pd.DataFrame(all_laws.groupby(['quarter', 'final_decision']).size()).reset_index().rename(columns={0: 'wins'})\n",
    "counts = pd.DataFrame(all_laws.groupby(['quarter']).size()).reset_index().rename(columns={0: 'total'})\n",
    "d = d.merge(counts)\n",
    "d['wins'] = d['wins'] / d['total']\n",
    "\n",
    "alt.Chart(d, width=1000, height=400).mark_area(opacity=0.5).encode(\n",
    "    x=\"quarter:T\",\n",
    "    y=\"wins:Q\",\n",
    "    color=alt.Color(\"final_decision:N\", \n",
    "                    scale=alt.Scale(domain=['republican', 'democrats', 'both'], \n",
    "                              range=[pal['republican'], pal['democrats'], 'grey'])))"
   ]
  },
  {
   "cell_type": "code",
   "execution_count": 20,
   "metadata": {},
   "outputs": [
    {
     "data": {
      "application/vnd.vegalite.v2+json": {
       "$schema": "https://vega.github.io/schema/vega-lite/v2.6.0.json",
       "config": {
        "view": {
         "height": 300,
         "width": 400
        }
       },
       "data": {
        "name": "data-8ecd8ea4bac316e5800600e7feee1e12"
       },
       "datasets": {
        "data-8ecd8ea4bac316e5800600e7feee1e12": [
         {
          "congress": 105,
          "final_decision": "both",
          "total": 612,
          "wins": 0.4542483660130719
         },
         {
          "congress": 105,
          "final_decision": "democrats",
          "total": 612,
          "wins": 0.19444444444444445
         },
         {
          "congress": 105,
          "final_decision": "republican",
          "total": 612,
          "wins": 0.35130718954248363
         },
         {
          "congress": 106,
          "final_decision": "both",
          "total": 672,
          "wins": 0.4270833333333333
         },
         {
          "congress": 106,
          "final_decision": "democrats",
          "total": 672,
          "wins": 0.14136904761904762
         },
         {
          "congress": 106,
          "final_decision": "republican",
          "total": 672,
          "wins": 0.43154761904761907
         },
         {
          "congress": 107,
          "final_decision": "both",
          "total": 633,
          "wins": 0.4786729857819905
         },
         {
          "congress": 107,
          "final_decision": "democrats",
          "total": 633,
          "wins": 0.22432859399684044
         },
         {
          "congress": 107,
          "final_decision": "republican",
          "total": 633,
          "wins": 0.296998420221169
         },
         {
          "congress": 108,
          "final_decision": "both",
          "total": 675,
          "wins": 0.3718518518518519
         },
         {
          "congress": 108,
          "final_decision": "democrats",
          "total": 675,
          "wins": 0.13185185185185186
         },
         {
          "congress": 108,
          "final_decision": "republican",
          "total": 675,
          "wins": 0.4962962962962963
         },
         {
          "congress": 109,
          "final_decision": "both",
          "total": 645,
          "wins": 0.3922480620155039
         },
         {
          "congress": 109,
          "final_decision": "democrats",
          "total": 645,
          "wins": 0.16124031007751938
         },
         {
          "congress": 109,
          "final_decision": "republican",
          "total": 645,
          "wins": 0.44651162790697674
         },
         {
          "congress": 110,
          "final_decision": "both",
          "total": 657,
          "wins": 0.4140030441400304
         },
         {
          "congress": 110,
          "final_decision": "democrats",
          "total": 657,
          "wins": 0.3713850837138508
         },
         {
          "congress": 110,
          "final_decision": "republican",
          "total": 657,
          "wins": 0.2146118721461187
         },
         {
          "congress": 111,
          "final_decision": "both",
          "total": 696,
          "wins": 0.22701149425287356
         },
         {
          "congress": 111,
          "final_decision": "democrats",
          "total": 696,
          "wins": 0.6666666666666666
         },
         {
          "congress": 111,
          "final_decision": "republican",
          "total": 696,
          "wins": 0.10632183908045977
         },
         {
          "congress": 112,
          "final_decision": "both",
          "total": 486,
          "wins": 0.4053497942386831
         },
         {
          "congress": 112,
          "final_decision": "democrats",
          "total": 486,
          "wins": 0.42386831275720166
         },
         {
          "congress": 112,
          "final_decision": "republican",
          "total": 486,
          "wins": 0.17078189300411523
         },
         {
          "congress": 113,
          "final_decision": "both",
          "total": 657,
          "wins": 0.3013698630136986
         },
         {
          "congress": 113,
          "final_decision": "democrats",
          "total": 657,
          "wins": 0.5966514459665144
         },
         {
          "congress": 113,
          "final_decision": "republican",
          "total": 657,
          "wins": 0.1019786910197869
         },
         {
          "congress": 114,
          "final_decision": "both",
          "total": 502,
          "wins": 0.3466135458167331
         },
         {
          "congress": 114,
          "final_decision": "democrats",
          "total": 502,
          "wins": 0.34063745019920316
         },
         {
          "congress": 114,
          "final_decision": "republican",
          "total": 502,
          "wins": 0.31274900398406374
         },
         {
          "congress": 115,
          "final_decision": "both",
          "total": 599,
          "wins": 0.3672787979966611
         },
         {
          "congress": 115,
          "final_decision": "democrats",
          "total": 599,
          "wins": 0.1419031719532554
         },
         {
          "congress": 115,
          "final_decision": "republican",
          "total": 599,
          "wins": 0.49081803005008345
         }
        ]
       },
       "encoding": {
        "color": {
         "field": "final_decision",
         "scale": {
          "domain": [
           "republican",
           "democrats",
           "both"
          ],
          "range": [
           "#ff0000",
           "#0000ff",
           "grey"
          ]
         },
         "type": "nominal"
        },
        "x": {
         "field": "congress",
         "type": "ordinal"
        },
        "y": {
         "field": "wins",
         "type": "quantitative"
        }
       },
       "height": 300,
       "mark": {
        "opacity": 0.5,
        "type": "area"
       },
       "width": 800
      },
      "image/png": "[encoded data removed]",
      "text/plain": [
       "<VegaLite 2 object>\n",
       "\n",
       "If you see this message, it means the renderer has not been properly enabled\n",
       "for the frontend that you are using. For more information, see\n",
       "https://altair-viz.github.io/user_guide/troubleshooting.html\n"
      ]
     },
     "execution_count": 20,
     "metadata": {},
     "output_type": "execute_result"
    }
   ],
   "source": [
    "d = pd.DataFrame(all_laws.groupby(['congress', 'final_decision']).size()).reset_index().rename(columns={0: 'wins'})\n",
    "counts = pd.DataFrame(all_laws.groupby(['congress']).size()).reset_index().rename(columns={0: 'total'})\n",
    "d = d.merge(counts)\n",
    "d['wins'] = d['wins'] / d['total']\n",
    "\n",
    "alt.Chart(d, width=800, height=300).mark_area(opacity=0.5).encode(\n",
    "    x=\"congress:O\",\n",
    "    y=\"wins:Q\",\n",
    "    color=alt.Color(\"final_decision:N\", \n",
    "                    scale=alt.Scale(domain=['republican', 'democrats', 'both'], \n",
    "                              range=[pal['republican'], pal['democrats'], 'grey'])))"
   ]
  },
  {
   "cell_type": "markdown",
   "metadata": {},
   "source": [
    "#### How stable is the \"yes\" over time"
   ]
  },
  {
   "cell_type": "code",
   "execution_count": 21,
   "metadata": {},
   "outputs": [
    {
     "data": {
      "image/png": "[encoded data removed]",
      "text/plain": [
       "<Figure size 3600x720 with 1 Axes>"
      ]
     },
     "metadata": {},
     "output_type": "display_data"
    }
   ],
   "source": [
    "r = all_laws[['republican_yes', 'congress']].rename(columns={'republican_yes': 'yes'})\n",
    "r['party'] = 'republican'\n",
    "d = all_laws[['democrats_yes', 'congress']].rename(columns={'democrats_yes': 'yes'})\n",
    "d['party'] = 'democrats'\n",
    "d = pd.concat([r, d], axis=0)\n",
    "\n",
    "plt.figure(figsize=(50, 10))\n",
    "ax = sns.boxplot(x='congress', y='yes', hue='party', data=d, palette=pal, boxprops=dict(alpha=.5))\n",
    "ax.legend_.remove()"
   ]
  },
  {
   "cell_type": "markdown",
   "metadata": {},
   "source": [
    "### Intra Party"
   ]
  },
  {
   "cell_type": "code",
   "execution_count": 22,
   "metadata": {},
   "outputs": [],
   "source": [
    "# 1 is perfect concordance, 0 is total discordance\n",
    "def inside_concordance(yes, no):\n",
    "    if yes == 0 or no == 0:\n",
    "        return 1\n",
    "    else:\n",
    "        if yes > no:\n",
    "            return yes / (yes + no)\n",
    "        else:\n",
    "            return no / (yes + no)"
   ]
  },
  {
   "cell_type": "code",
   "execution_count": 23,
   "metadata": {},
   "outputs": [],
   "source": [
    "all_laws['republican_concordance'] = all_laws.apply(lambda x: inside_concordance(x['republican_yes'], x['republican_no']), axis=1)\n",
    "all_laws['democrats_concordance'] = all_laws.apply(lambda x: inside_concordance(x['democrats_yes'], x['democrats_no']), axis=1)"
   ]
  },
  {
   "cell_type": "code",
   "execution_count": 24,
   "metadata": {},
   "outputs": [
    {
     "data": {
      "image/png": "[encoded data removed]",
      "text/plain": [
       "<Figure size 1080x288 with 1 Axes>"
      ]
     },
     "metadata": {},
     "output_type": "display_data"
    }
   ],
   "source": [
    "sns.set(style=\"whitegrid\")\n",
    "\n",
    "r = all_laws[['republican_concordance', 'congress']].rename(columns={'republican_concordance': 'concordance'})\n",
    "r['party'] = 'republican'\n",
    "d = all_laws[['democrats_concordance', 'congress']].rename(columns={'democrats_concordance': 'concordance'})\n",
    "d['party'] = 'democrats'\n",
    "d = pd.concat([r, d], axis=0)\n",
    "\n",
    "\n",
    "plt.figure(figsize=(15, 4))\n",
    "ax = sns.boxplot(x='congress', y='concordance', hue='party', data=d, palette=sns.color_palette(['salmon','cornflowerblue']))\n",
    "handles, _ = ax.get_legend_handles_labels()\n",
    "plt.legend(handles, ['Republicans', 'Democrats'], loc = 'lower right')\n",
    "plt.xlabel('Congress')\n",
    "plt.ylabel('Intra-party conformity')\n",
    "plt.savefig('figs/conform.pdf', bbox_inches='tight')"
   ]
  }
 ],
 "metadata": {
  "kernelspec": {
   "display_name": "Python 3",
   "language": "python",
   "name": "python3"
  },
  "language_info": {
   "codemirror_mode": {
    "name": "ipython",
    "version": 3
   },
   "file_extension": ".py",
   "mimetype": "text/x-python",
   "name": "python",
   "nbconvert_exporter": "python",
   "pygments_lexer": "ipython3",
   "version": "3.6.7"
  }
 },
 "nbformat": 4,
 "nbformat_minor": 2
}
